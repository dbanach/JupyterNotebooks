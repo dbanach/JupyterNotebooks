{
 "cells": [
  {
   "cell_type": "code",
   "execution_count": 1,
   "metadata": {
    "ExecuteTime": {
     "end_time": "2021-07-27T06:08:02.146208Z",
     "start_time": "2021-07-27T06:08:02.135236Z"
    },
    "hide_input": true,
    "id": "VgYkFgEeHrUI",
    "outputId": "76e809d8-ac0f-42ac-9387-dca1112ba971"
   },
   "outputs": [
    {
     "data": {
      "text/html": [
       "\n",
       "<script>\n",
       "var logoParent = document.getElementById(\"kernel_logo_widget\")\n",
       "var logo = document.getElementById(\"kernel_logo_widget\").getElementsByClassName(\"current_kernel_logo\")[0];\n",
       "logo.src = \"https://i.ibb.co/mD4jTGQ/itclogo.jpg\";\n",
       "logo.style = \"display: inline; width:138px; height:40px\";\n",
       "logoParent.innerHTML = '<a href=\"https://i.ibb.co/mD4jTGQ/itclogo.jpg\">' + logoParent.innerHTML + '</a>';\n",
       "</script>\n"
      ],
      "text/plain": [
       "<IPython.core.display.HTML object>"
      ]
     },
     "execution_count": 1,
     "metadata": {},
     "output_type": "execute_result"
    }
   ],
   "source": [
    "from IPython.core.display import HTML\n",
    "HTML('''\n",
    "<script>\n",
    "var logoParent = document.getElementById(\"kernel_logo_widget\")\n",
    "var logo = document.getElementById(\"kernel_logo_widget\").getElementsByClassName(\"current_kernel_logo\")[0];\n",
    "logo.src = \"https://i.ibb.co/mD4jTGQ/itclogo.jpg\";\n",
    "logo.style = \"display: inline; width:138px; height:40px\";\n",
    "logoParent.innerHTML = '<a href=\"https://i.ibb.co/mD4jTGQ/itclogo.jpg\">' + logoParent.innerHTML + '</a>';\n",
    "</script>\n",
    "''')"
   ]
  },
  {
   "cell_type": "markdown",
   "metadata": {
    "ExecuteTime": {
     "end_time": "2019-05-20T15:50:02.809685Z",
     "start_time": "2019-05-20T15:50:02.806689Z"
    },
    "hide_input": true,
    "id": "HvYsU2PaHrUK"
   },
   "source": [
    "<font size=10><b>Data Preprocessing - Assignment I</b></font> "
   ]
  },
  {
   "cell_type": "markdown",
   "metadata": {
    "id": "JjnTsHK8HrUL"
   },
   "source": [
    "# Exercise:\n",
    "\n",
    "In this exercise, we will look at listings of Airbnb in Amsterdam, trying to predict the `price` of each listing by it's characteristics\n",
    "\n",
    "<div class=\"alert alert-info\"><b>NOTE:</b> There is no Data dictionary available for this data, but the column names can help you understand or assume the meaning of the features</div>\n",
    "\n",
    "\n",
    "## Part I:\n",
    "\n",
    " 1. Download and extract the data attached to this exercise.\n",
    " 2. Take a subset using only the following columns: `['listing_url', 'name', 'summary', 'space', 'host_name', 'host_since', 'host_response_rate', 'host_identity_verified', 'city', 'state', 'country', 'latitude', 'longitude', 'property_type', 'room_type', 'accommodates', 'bathrooms', 'bedrooms', 'beds', 'bed_type', 'amenities', 'square_feet', 'price', 'number_of_reviews', 'review_scores_rating', 'review_scores_accuracy', 'review_scores_cleanliness', 'review_scores_checkin', 'review_scores_communication', 'review_scores_location', 'review_scores_value']`\n",
    " 3. Look at the data and define - which are your categorical features (ordinal and nominal) and which are your numerical features (continuous and discrete)? Write a list of each.\n",
    " 4. Split the data to train and test randomly (no need for a dev set at the moment).\n",
    " 5. Take the following features: `'city', 'review_scores_rating', 'review_scores_cleanliness', 'property_type', 'room_type', 'accommodates', 'bathrooms', 'bedrooms', 'number_of_reviews', 'bed_type', 'host_response_rate'`, **and work with them alone for the continuation of the exercise**.\n",
    " 6. Perform EDA on the **train** dataset - print the summary statistics and contents of each column, plot the distributions of each feature, plot the relationship between all of the features, as well as on the relations of all of the features with the dependent variable. **No need to add new features. Leave only interesting plots.**.\n",
    " 7. Remove columns that are redundant / are not important / are duplicated / are correlated - explain why you selected the features that way."
   ]
  },
  {
   "cell_type": "markdown",
   "metadata": {},
   "source": [
    "Question 1"
   ]
  },
  {
   "cell_type": "code",
   "execution_count": 2,
   "metadata": {
    "ExecuteTime": {
     "end_time": "2021-07-27T06:08:05.981172Z",
     "start_time": "2021-07-27T06:08:03.996478Z"
    }
   },
   "outputs": [
    {
     "name": "stderr",
     "output_type": "stream",
     "text": [
      "C:\\Users\\Daniel\\Anaconda3\\lib\\site-packages\\IPython\\core\\interactiveshell.py:3058: DtypeWarning: Columns (94) have mixed types. Specify dtype option on import or set low_memory=False.\n",
      "  interactivity=interactivity, compiler=compiler, result=result)\n"
     ]
    },
    {
     "data": {
      "text/html": [
       "<div>\n",
       "<style scoped>\n",
       "    .dataframe tbody tr th:only-of-type {\n",
       "        vertical-align: middle;\n",
       "    }\n",
       "\n",
       "    .dataframe tbody tr th {\n",
       "        vertical-align: top;\n",
       "    }\n",
       "\n",
       "    .dataframe thead th {\n",
       "        text-align: right;\n",
       "    }\n",
       "</style>\n",
       "<table border=\"1\" class=\"dataframe\">\n",
       "  <thead>\n",
       "    <tr style=\"text-align: right;\">\n",
       "      <th></th>\n",
       "      <th>id</th>\n",
       "      <th>listing_url</th>\n",
       "      <th>scrape_id</th>\n",
       "      <th>last_scraped</th>\n",
       "      <th>name</th>\n",
       "      <th>summary</th>\n",
       "      <th>space</th>\n",
       "      <th>description</th>\n",
       "      <th>experiences_offered</th>\n",
       "      <th>neighborhood_overview</th>\n",
       "      <th>...</th>\n",
       "      <th>instant_bookable</th>\n",
       "      <th>is_business_travel_ready</th>\n",
       "      <th>cancellation_policy</th>\n",
       "      <th>require_guest_profile_picture</th>\n",
       "      <th>require_guest_phone_verification</th>\n",
       "      <th>calculated_host_listings_count</th>\n",
       "      <th>calculated_host_listings_count_entire_homes</th>\n",
       "      <th>calculated_host_listings_count_private_rooms</th>\n",
       "      <th>calculated_host_listings_count_shared_rooms</th>\n",
       "      <th>reviews_per_month</th>\n",
       "    </tr>\n",
       "  </thead>\n",
       "  <tbody>\n",
       "    <tr>\n",
       "      <td>0</td>\n",
       "      <td>2818</td>\n",
       "      <td>https://www.airbnb.com/rooms/2818</td>\n",
       "      <td>20190506125736</td>\n",
       "      <td>2019-05-06</td>\n",
       "      <td>Quiet Garden View Room &amp; Super Fast WiFi</td>\n",
       "      <td>Quiet Garden View Room &amp; Super Fast WiFi</td>\n",
       "      <td>I'm renting a bedroom (room overlooking the ga...</td>\n",
       "      <td>Quiet Garden View Room &amp; Super Fast WiFi I'm r...</td>\n",
       "      <td>none</td>\n",
       "      <td>Indische Buurt (\"Indies Neighborhood\") is a ne...</td>\n",
       "      <td>...</td>\n",
       "      <td>t</td>\n",
       "      <td>f</td>\n",
       "      <td>strict_14_with_grace_period</td>\n",
       "      <td>f</td>\n",
       "      <td>f</td>\n",
       "      <td>1</td>\n",
       "      <td>0</td>\n",
       "      <td>1</td>\n",
       "      <td>0</td>\n",
       "      <td>2.07</td>\n",
       "    </tr>\n",
       "    <tr>\n",
       "      <td>1</td>\n",
       "      <td>20168</td>\n",
       "      <td>https://www.airbnb.com/rooms/20168</td>\n",
       "      <td>20190506125736</td>\n",
       "      <td>2019-05-06</td>\n",
       "      <td>Studio with private bathroom in the centre 1</td>\n",
       "      <td>Cozy studio on your own private floor, 100% in...</td>\n",
       "      <td>For those who like all facets of city life. In...</td>\n",
       "      <td>Cozy studio on your own private floor, 100% in...</td>\n",
       "      <td>none</td>\n",
       "      <td>Located just in between famous central canals....</td>\n",
       "      <td>...</td>\n",
       "      <td>f</td>\n",
       "      <td>f</td>\n",
       "      <td>strict_14_with_grace_period</td>\n",
       "      <td>f</td>\n",
       "      <td>f</td>\n",
       "      <td>2</td>\n",
       "      <td>1</td>\n",
       "      <td>1</td>\n",
       "      <td>0</td>\n",
       "      <td>2.39</td>\n",
       "    </tr>\n",
       "  </tbody>\n",
       "</table>\n",
       "<p>2 rows × 106 columns</p>\n",
       "</div>"
      ],
      "text/plain": [
       "      id                         listing_url       scrape_id last_scraped  \\\n",
       "0   2818   https://www.airbnb.com/rooms/2818  20190506125736   2019-05-06   \n",
       "1  20168  https://www.airbnb.com/rooms/20168  20190506125736   2019-05-06   \n",
       "\n",
       "                                           name  \\\n",
       "0      Quiet Garden View Room & Super Fast WiFi   \n",
       "1  Studio with private bathroom in the centre 1   \n",
       "\n",
       "                                             summary  \\\n",
       "0           Quiet Garden View Room & Super Fast WiFi   \n",
       "1  Cozy studio on your own private floor, 100% in...   \n",
       "\n",
       "                                               space  \\\n",
       "0  I'm renting a bedroom (room overlooking the ga...   \n",
       "1  For those who like all facets of city life. In...   \n",
       "\n",
       "                                         description experiences_offered  \\\n",
       "0  Quiet Garden View Room & Super Fast WiFi I'm r...                none   \n",
       "1  Cozy studio on your own private floor, 100% in...                none   \n",
       "\n",
       "                               neighborhood_overview  ... instant_bookable  \\\n",
       "0  Indische Buurt (\"Indies Neighborhood\") is a ne...  ...                t   \n",
       "1  Located just in between famous central canals....  ...                f   \n",
       "\n",
       "  is_business_travel_ready          cancellation_policy  \\\n",
       "0                        f  strict_14_with_grace_period   \n",
       "1                        f  strict_14_with_grace_period   \n",
       "\n",
       "  require_guest_profile_picture require_guest_phone_verification  \\\n",
       "0                             f                                f   \n",
       "1                             f                                f   \n",
       "\n",
       "   calculated_host_listings_count  \\\n",
       "0                               1   \n",
       "1                               2   \n",
       "\n",
       "   calculated_host_listings_count_entire_homes  \\\n",
       "0                                            0   \n",
       "1                                            1   \n",
       "\n",
       "  calculated_host_listings_count_private_rooms  \\\n",
       "0                                            1   \n",
       "1                                            1   \n",
       "\n",
       "   calculated_host_listings_count_shared_rooms  reviews_per_month  \n",
       "0                                            0               2.07  \n",
       "1                                            0               2.39  \n",
       "\n",
       "[2 rows x 106 columns]"
      ]
     },
     "execution_count": 2,
     "metadata": {},
     "output_type": "execute_result"
    }
   ],
   "source": [
    "import pandas as pd\n",
    "import matplotlib.pyplot as plt\n",
    "import seaborn as sns\n",
    "import numpy as np\n",
    "\n",
    "df = pd.read_csv('listings.csv')\n",
    "df.head(2)"
   ]
  },
  {
   "cell_type": "code",
   "execution_count": 3,
   "metadata": {
    "ExecuteTime": {
     "end_time": "2021-07-27T06:08:06.121797Z",
     "start_time": "2021-07-27T06:08:06.111823Z"
    }
   },
   "outputs": [
    {
     "name": "stdout",
     "output_type": "stream",
     "text": [
      "<class 'pandas.core.frame.DataFrame'>\n",
      "RangeIndex: 19619 entries, 0 to 19618\n",
      "Columns: 106 entries, id to reviews_per_month\n",
      "dtypes: float64(23), int64(21), object(62)\n",
      "memory usage: 15.9+ MB\n"
     ]
    }
   ],
   "source": [
    "df.info()"
   ]
  },
  {
   "cell_type": "markdown",
   "metadata": {
    "ExecuteTime": {
     "end_time": "2019-06-03T15:48:50.114057Z",
     "start_time": "2019-06-03T15:48:50.110068Z"
    },
    "id": "knMyg6w_HrUL"
   },
   "source": [
    "Question 2"
   ]
  },
  {
   "cell_type": "code",
   "execution_count": 4,
   "metadata": {
    "ExecuteTime": {
     "end_time": "2021-07-27T06:08:09.814891Z",
     "start_time": "2021-07-27T06:08:09.802927Z"
    }
   },
   "outputs": [],
   "source": [
    "all_data = ['listing_url', 'name', 'summary', 'space', 'host_name', 'host_since', 'host_response_rate', 'host_identity_verified', 'city', 'state', 'country', 'latitude', 'longitude', 'property_type', 'room_type', 'accommodates', 'bathrooms', 'bedrooms', 'beds', 'bed_type', 'amenities', 'square_feet', 'price', 'number_of_reviews', 'review_scores_rating', 'review_scores_accuracy', 'review_scores_cleanliness', 'review_scores_checkin', 'review_scores_communication', 'review_scores_location', 'review_scores_value']\n",
    "df = df[all_data]\n"
   ]
  },
  {
   "cell_type": "markdown",
   "metadata": {},
   "source": [
    "Question 3"
   ]
  },
  {
   "cell_type": "code",
   "execution_count": 5,
   "metadata": {
    "ExecuteTime": {
     "end_time": "2021-07-27T06:08:21.830881Z",
     "start_time": "2021-07-27T06:08:21.822903Z"
    }
   },
   "outputs": [],
   "source": [
    "#ITS HARD TO DEFINE IF A DATE IS CATEGORICAL OR NUMERICAL. I TEND TO THINK THAT IS LIKE A NAME OF A CATEGORY\n",
    "ordinal = ['host_since'] \n",
    "nominal = ['listing_url','room_type','name','summary','space','host_name','host_identity_verified','city','state','country','property_type','bed_type','amenities']\n",
    "continuous = ['host_response_rate','latitude','longitude','square_feet','price','review_scores_rating','review_scores_accuracy', 'review_scores_cleanliness', 'review_scores_checkin', 'review_scores_communication', 'review_scores_location', 'review_scores_value']\n",
    "discrete = ['accommodates','bathrooms','beds','number_of_reviews','bedrooms']\n",
    "categorical = ordinal + nominal\n",
    "numerical = continuous + discrete\n"
   ]
  },
  {
   "cell_type": "markdown",
   "metadata": {
    "ExecuteTime": {
     "end_time": "2021-07-19T22:47:29.155147Z",
     "start_time": "2021-07-19T22:47:29.147168Z"
    }
   },
   "source": [
    "Question 4"
   ]
  },
  {
   "cell_type": "code",
   "execution_count": 6,
   "metadata": {
    "ExecuteTime": {
     "end_time": "2021-07-27T06:08:24.766403Z",
     "start_time": "2021-07-27T06:08:24.390400Z"
    }
   },
   "outputs": [],
   "source": [
    "from sklearn.model_selection import train_test_split\n",
    "\n",
    "features = list(df.loc[:,df.columns!='price'].columns)\n",
    "target ='price'\n",
    "\n",
    "\n",
    "train,test = train_test_split(df,test_size = .2, random_state = 77)\n"
   ]
  },
  {
   "cell_type": "code",
   "execution_count": 7,
   "metadata": {
    "ExecuteTime": {
     "end_time": "2021-07-27T06:08:25.006754Z",
     "start_time": "2021-07-27T06:08:24.996779Z"
    }
   },
   "outputs": [],
   "source": [
    "assert set(train.index) & set(test.index) == set()"
   ]
  },
  {
   "cell_type": "markdown",
   "metadata": {},
   "source": [
    "Question 5"
   ]
  },
  {
   "cell_type": "code",
   "execution_count": 8,
   "metadata": {
    "ExecuteTime": {
     "end_time": "2021-07-27T06:08:33.441540Z",
     "start_time": "2021-07-27T06:08:33.423588Z"
    }
   },
   "outputs": [],
   "source": [
    "new_features = ['city', 'review_scores_rating', 'review_scores_cleanliness', 'property_type', 'room_type', 'accommodates', 'bathrooms', 'bedrooms', 'number_of_reviews', 'bed_type', 'host_response_rate']\n",
    "#First i'll recreate the categorical and numerical features based on the subset that we are using\n",
    "\n",
    "categorical = [cat for  cat in categorical if cat in new_features]\n",
    "numerical = [num for  num in numerical if num in new_features]\n",
    "\n",
    "\n",
    "df = df[new_features +['price']]\n",
    "\n",
    "train = train[new_features +['price']]\n",
    "test = test[new_features +['price']]"
   ]
  },
  {
   "cell_type": "markdown",
   "metadata": {},
   "source": [
    "Question 6"
   ]
  },
  {
   "cell_type": "markdown",
   "metadata": {},
   "source": [
    "First let's look at the data"
   ]
  },
  {
   "cell_type": "code",
   "execution_count": 9,
   "metadata": {
    "ExecuteTime": {
     "end_time": "2021-07-27T06:08:34.835833Z",
     "start_time": "2021-07-27T06:08:34.820902Z"
    }
   },
   "outputs": [
    {
     "data": {
      "text/html": [
       "<div>\n",
       "<style scoped>\n",
       "    .dataframe tbody tr th:only-of-type {\n",
       "        vertical-align: middle;\n",
       "    }\n",
       "\n",
       "    .dataframe tbody tr th {\n",
       "        vertical-align: top;\n",
       "    }\n",
       "\n",
       "    .dataframe thead th {\n",
       "        text-align: right;\n",
       "    }\n",
       "</style>\n",
       "<table border=\"1\" class=\"dataframe\">\n",
       "  <thead>\n",
       "    <tr style=\"text-align: right;\">\n",
       "      <th></th>\n",
       "      <th>city</th>\n",
       "      <th>review_scores_rating</th>\n",
       "      <th>review_scores_cleanliness</th>\n",
       "      <th>property_type</th>\n",
       "      <th>room_type</th>\n",
       "      <th>accommodates</th>\n",
       "      <th>bathrooms</th>\n",
       "      <th>bedrooms</th>\n",
       "      <th>number_of_reviews</th>\n",
       "      <th>bed_type</th>\n",
       "      <th>host_response_rate</th>\n",
       "      <th>price</th>\n",
       "    </tr>\n",
       "  </thead>\n",
       "  <tbody>\n",
       "    <tr>\n",
       "      <td>4108</td>\n",
       "      <td>Amsterdam</td>\n",
       "      <td>97.0</td>\n",
       "      <td>10.0</td>\n",
       "      <td>Boat</td>\n",
       "      <td>Entire home/apt</td>\n",
       "      <td>4</td>\n",
       "      <td>1.0</td>\n",
       "      <td>2.0</td>\n",
       "      <td>61</td>\n",
       "      <td>Real Bed</td>\n",
       "      <td>100%</td>\n",
       "      <td>$259.00</td>\n",
       "    </tr>\n",
       "    <tr>\n",
       "      <td>2113</td>\n",
       "      <td>Amsterdam</td>\n",
       "      <td>100.0</td>\n",
       "      <td>10.0</td>\n",
       "      <td>House</td>\n",
       "      <td>Entire home/apt</td>\n",
       "      <td>5</td>\n",
       "      <td>2.5</td>\n",
       "      <td>3.0</td>\n",
       "      <td>2</td>\n",
       "      <td>Real Bed</td>\n",
       "      <td>100%</td>\n",
       "      <td>$275.00</td>\n",
       "    </tr>\n",
       "    <tr>\n",
       "      <td>8533</td>\n",
       "      <td>Amsterdam</td>\n",
       "      <td>85.0</td>\n",
       "      <td>9.0</td>\n",
       "      <td>Apartment</td>\n",
       "      <td>Entire home/apt</td>\n",
       "      <td>4</td>\n",
       "      <td>1.5</td>\n",
       "      <td>2.0</td>\n",
       "      <td>11</td>\n",
       "      <td>Real Bed</td>\n",
       "      <td>100%</td>\n",
       "      <td>$150.00</td>\n",
       "    </tr>\n",
       "    <tr>\n",
       "      <td>11234</td>\n",
       "      <td>Amsterdam</td>\n",
       "      <td>91.0</td>\n",
       "      <td>9.0</td>\n",
       "      <td>Apartment</td>\n",
       "      <td>Entire home/apt</td>\n",
       "      <td>4</td>\n",
       "      <td>1.5</td>\n",
       "      <td>1.0</td>\n",
       "      <td>23</td>\n",
       "      <td>Real Bed</td>\n",
       "      <td>0%</td>\n",
       "      <td>$210.00</td>\n",
       "    </tr>\n",
       "    <tr>\n",
       "      <td>18776</td>\n",
       "      <td>Amsterdam</td>\n",
       "      <td>90.0</td>\n",
       "      <td>7.0</td>\n",
       "      <td>Apartment</td>\n",
       "      <td>Entire home/apt</td>\n",
       "      <td>3</td>\n",
       "      <td>1.0</td>\n",
       "      <td>1.0</td>\n",
       "      <td>3</td>\n",
       "      <td>Real Bed</td>\n",
       "      <td>100%</td>\n",
       "      <td>$80.00</td>\n",
       "    </tr>\n",
       "  </tbody>\n",
       "</table>\n",
       "</div>"
      ],
      "text/plain": [
       "            city  review_scores_rating  review_scores_cleanliness  \\\n",
       "4108   Amsterdam                  97.0                       10.0   \n",
       "2113   Amsterdam                 100.0                       10.0   \n",
       "8533   Amsterdam                  85.0                        9.0   \n",
       "11234  Amsterdam                  91.0                        9.0   \n",
       "18776  Amsterdam                  90.0                        7.0   \n",
       "\n",
       "      property_type        room_type  accommodates  bathrooms  bedrooms  \\\n",
       "4108           Boat  Entire home/apt             4        1.0       2.0   \n",
       "2113          House  Entire home/apt             5        2.5       3.0   \n",
       "8533      Apartment  Entire home/apt             4        1.5       2.0   \n",
       "11234     Apartment  Entire home/apt             4        1.5       1.0   \n",
       "18776     Apartment  Entire home/apt             3        1.0       1.0   \n",
       "\n",
       "       number_of_reviews  bed_type host_response_rate    price  \n",
       "4108                  61  Real Bed               100%  $259.00  \n",
       "2113                   2  Real Bed               100%  $275.00  \n",
       "8533                  11  Real Bed               100%  $150.00  \n",
       "11234                 23  Real Bed                 0%  $210.00  \n",
       "18776                  3  Real Bed               100%   $80.00  "
      ]
     },
     "execution_count": 9,
     "metadata": {},
     "output_type": "execute_result"
    }
   ],
   "source": [
    "train.head()"
   ]
  },
  {
   "cell_type": "markdown",
   "metadata": {},
   "source": [
    "Let's look at the dimentions"
   ]
  },
  {
   "cell_type": "code",
   "execution_count": 10,
   "metadata": {
    "ExecuteTime": {
     "end_time": "2021-07-27T06:08:37.023303Z",
     "start_time": "2021-07-27T06:08:37.017320Z"
    }
   },
   "outputs": [
    {
     "data": {
      "text/plain": [
       "(15695, 12)"
      ]
     },
     "execution_count": 10,
     "metadata": {},
     "output_type": "execute_result"
    }
   ],
   "source": [
    "train.shape"
   ]
  },
  {
   "cell_type": "markdown",
   "metadata": {},
   "source": [
    "Let's look at the numerical information of the trainset features and target variable"
   ]
  },
  {
   "cell_type": "code",
   "execution_count": 11,
   "metadata": {
    "ExecuteTime": {
     "end_time": "2021-07-27T06:08:37.756161Z",
     "start_time": "2021-07-27T06:08:37.724215Z"
    }
   },
   "outputs": [
    {
     "data": {
      "text/html": [
       "<div>\n",
       "<style scoped>\n",
       "    .dataframe tbody tr th:only-of-type {\n",
       "        vertical-align: middle;\n",
       "    }\n",
       "\n",
       "    .dataframe tbody tr th {\n",
       "        vertical-align: top;\n",
       "    }\n",
       "\n",
       "    .dataframe thead th {\n",
       "        text-align: right;\n",
       "    }\n",
       "</style>\n",
       "<table border=\"1\" class=\"dataframe\">\n",
       "  <thead>\n",
       "    <tr style=\"text-align: right;\">\n",
       "      <th></th>\n",
       "      <th>review_scores_rating</th>\n",
       "      <th>review_scores_cleanliness</th>\n",
       "      <th>accommodates</th>\n",
       "      <th>bathrooms</th>\n",
       "      <th>bedrooms</th>\n",
       "      <th>number_of_reviews</th>\n",
       "    </tr>\n",
       "  </thead>\n",
       "  <tbody>\n",
       "    <tr>\n",
       "      <td>count</td>\n",
       "      <td>13738.000000</td>\n",
       "      <td>13732.000000</td>\n",
       "      <td>15695.000000</td>\n",
       "      <td>15688.000000</td>\n",
       "      <td>15687.000000</td>\n",
       "      <td>15695.000000</td>\n",
       "    </tr>\n",
       "    <tr>\n",
       "      <td>mean</td>\n",
       "      <td>94.945189</td>\n",
       "      <td>9.473347</td>\n",
       "      <td>2.884677</td>\n",
       "      <td>1.134944</td>\n",
       "      <td>1.446484</td>\n",
       "      <td>23.162408</td>\n",
       "    </tr>\n",
       "    <tr>\n",
       "      <td>std</td>\n",
       "      <td>6.700922</td>\n",
       "      <td>0.868670</td>\n",
       "      <td>1.318310</td>\n",
       "      <td>0.356243</td>\n",
       "      <td>0.894285</td>\n",
       "      <td>47.532541</td>\n",
       "    </tr>\n",
       "    <tr>\n",
       "      <td>min</td>\n",
       "      <td>20.000000</td>\n",
       "      <td>2.000000</td>\n",
       "      <td>1.000000</td>\n",
       "      <td>0.000000</td>\n",
       "      <td>0.000000</td>\n",
       "      <td>0.000000</td>\n",
       "    </tr>\n",
       "    <tr>\n",
       "      <td>25%</td>\n",
       "      <td>93.000000</td>\n",
       "      <td>9.000000</td>\n",
       "      <td>2.000000</td>\n",
       "      <td>1.000000</td>\n",
       "      <td>1.000000</td>\n",
       "      <td>3.000000</td>\n",
       "    </tr>\n",
       "    <tr>\n",
       "      <td>50%</td>\n",
       "      <td>97.000000</td>\n",
       "      <td>10.000000</td>\n",
       "      <td>2.000000</td>\n",
       "      <td>1.000000</td>\n",
       "      <td>1.000000</td>\n",
       "      <td>9.000000</td>\n",
       "    </tr>\n",
       "    <tr>\n",
       "      <td>75%</td>\n",
       "      <td>100.000000</td>\n",
       "      <td>10.000000</td>\n",
       "      <td>4.000000</td>\n",
       "      <td>1.000000</td>\n",
       "      <td>2.000000</td>\n",
       "      <td>23.000000</td>\n",
       "    </tr>\n",
       "    <tr>\n",
       "      <td>max</td>\n",
       "      <td>100.000000</td>\n",
       "      <td>10.000000</td>\n",
       "      <td>17.000000</td>\n",
       "      <td>8.000000</td>\n",
       "      <td>12.000000</td>\n",
       "      <td>733.000000</td>\n",
       "    </tr>\n",
       "  </tbody>\n",
       "</table>\n",
       "</div>"
      ],
      "text/plain": [
       "       review_scores_rating  review_scores_cleanliness  accommodates  \\\n",
       "count          13738.000000               13732.000000  15695.000000   \n",
       "mean              94.945189                   9.473347      2.884677   \n",
       "std                6.700922                   0.868670      1.318310   \n",
       "min               20.000000                   2.000000      1.000000   \n",
       "25%               93.000000                   9.000000      2.000000   \n",
       "50%               97.000000                  10.000000      2.000000   \n",
       "75%              100.000000                  10.000000      4.000000   \n",
       "max              100.000000                  10.000000     17.000000   \n",
       "\n",
       "          bathrooms      bedrooms  number_of_reviews  \n",
       "count  15688.000000  15687.000000       15695.000000  \n",
       "mean       1.134944      1.446484          23.162408  \n",
       "std        0.356243      0.894285          47.532541  \n",
       "min        0.000000      0.000000           0.000000  \n",
       "25%        1.000000      1.000000           3.000000  \n",
       "50%        1.000000      1.000000           9.000000  \n",
       "75%        1.000000      2.000000          23.000000  \n",
       "max        8.000000     12.000000         733.000000  "
      ]
     },
     "execution_count": 11,
     "metadata": {},
     "output_type": "execute_result"
    }
   ],
   "source": [
    "train.describe()\n",
    "\n"
   ]
  },
  {
   "cell_type": "markdown",
   "metadata": {
    "ExecuteTime": {
     "end_time": "2021-07-20T13:55:51.729396Z",
     "start_time": "2021-07-20T13:55:51.612708Z"
    }
   },
   "source": [
    "There's a problem with the type of data of target variable 'price'.  \n",
    "Instead of float is string.\n"
   ]
  },
  {
   "cell_type": "code",
   "execution_count": 12,
   "metadata": {
    "ExecuteTime": {
     "end_time": "2021-07-27T06:08:38.751082Z",
     "start_time": "2021-07-27T06:08:38.746060Z"
    }
   },
   "outputs": [
    {
     "name": "stdout",
     "output_type": "stream",
     "text": [
      "the type of data of the target variable is <class 'str'>\n"
     ]
    }
   ],
   "source": [
    "print(f\"the type of data of the target variable is {type(train['price'][0])}\")\n"
   ]
  },
  {
   "cell_type": "code",
   "execution_count": 13,
   "metadata": {
    "ExecuteTime": {
     "end_time": "2021-07-27T06:08:41.896105Z",
     "start_time": "2021-07-27T06:08:41.870141Z"
    }
   },
   "outputs": [],
   "source": [
    "def change_price(my_string):\n",
    "    \n",
    "    return float(my_string[1:].replace(',',''))\n",
    "\n",
    "train['price'] = train['price'].apply(change_price)\n",
    "test['price'] = test['price'].apply(change_price)\n"
   ]
  },
  {
   "cell_type": "code",
   "execution_count": 14,
   "metadata": {
    "ExecuteTime": {
     "end_time": "2021-07-27T06:08:42.660398Z",
     "start_time": "2021-07-27T06:08:42.620472Z"
    }
   },
   "outputs": [
    {
     "data": {
      "text/html": [
       "<div>\n",
       "<style scoped>\n",
       "    .dataframe tbody tr th:only-of-type {\n",
       "        vertical-align: middle;\n",
       "    }\n",
       "\n",
       "    .dataframe tbody tr th {\n",
       "        vertical-align: top;\n",
       "    }\n",
       "\n",
       "    .dataframe thead th {\n",
       "        text-align: right;\n",
       "    }\n",
       "</style>\n",
       "<table border=\"1\" class=\"dataframe\">\n",
       "  <thead>\n",
       "    <tr style=\"text-align: right;\">\n",
       "      <th></th>\n",
       "      <th>review_scores_rating</th>\n",
       "      <th>review_scores_cleanliness</th>\n",
       "      <th>accommodates</th>\n",
       "      <th>bathrooms</th>\n",
       "      <th>bedrooms</th>\n",
       "      <th>number_of_reviews</th>\n",
       "      <th>price</th>\n",
       "    </tr>\n",
       "  </thead>\n",
       "  <tbody>\n",
       "    <tr>\n",
       "      <td>count</td>\n",
       "      <td>13738.000000</td>\n",
       "      <td>13732.000000</td>\n",
       "      <td>15695.000000</td>\n",
       "      <td>15688.000000</td>\n",
       "      <td>15687.000000</td>\n",
       "      <td>15695.000000</td>\n",
       "      <td>15695.000000</td>\n",
       "    </tr>\n",
       "    <tr>\n",
       "      <td>mean</td>\n",
       "      <td>94.945189</td>\n",
       "      <td>9.473347</td>\n",
       "      <td>2.884677</td>\n",
       "      <td>1.134944</td>\n",
       "      <td>1.446484</td>\n",
       "      <td>23.162408</td>\n",
       "      <td>155.300287</td>\n",
       "    </tr>\n",
       "    <tr>\n",
       "      <td>std</td>\n",
       "      <td>6.700922</td>\n",
       "      <td>0.868670</td>\n",
       "      <td>1.318310</td>\n",
       "      <td>0.356243</td>\n",
       "      <td>0.894285</td>\n",
       "      <td>47.532541</td>\n",
       "      <td>142.763319</td>\n",
       "    </tr>\n",
       "    <tr>\n",
       "      <td>min</td>\n",
       "      <td>20.000000</td>\n",
       "      <td>2.000000</td>\n",
       "      <td>1.000000</td>\n",
       "      <td>0.000000</td>\n",
       "      <td>0.000000</td>\n",
       "      <td>0.000000</td>\n",
       "      <td>0.000000</td>\n",
       "    </tr>\n",
       "    <tr>\n",
       "      <td>25%</td>\n",
       "      <td>93.000000</td>\n",
       "      <td>9.000000</td>\n",
       "      <td>2.000000</td>\n",
       "      <td>1.000000</td>\n",
       "      <td>1.000000</td>\n",
       "      <td>3.000000</td>\n",
       "      <td>99.000000</td>\n",
       "    </tr>\n",
       "    <tr>\n",
       "      <td>50%</td>\n",
       "      <td>97.000000</td>\n",
       "      <td>10.000000</td>\n",
       "      <td>2.000000</td>\n",
       "      <td>1.000000</td>\n",
       "      <td>1.000000</td>\n",
       "      <td>9.000000</td>\n",
       "      <td>129.000000</td>\n",
       "    </tr>\n",
       "    <tr>\n",
       "      <td>75%</td>\n",
       "      <td>100.000000</td>\n",
       "      <td>10.000000</td>\n",
       "      <td>4.000000</td>\n",
       "      <td>1.000000</td>\n",
       "      <td>2.000000</td>\n",
       "      <td>23.000000</td>\n",
       "      <td>179.000000</td>\n",
       "    </tr>\n",
       "    <tr>\n",
       "      <td>max</td>\n",
       "      <td>100.000000</td>\n",
       "      <td>10.000000</td>\n",
       "      <td>17.000000</td>\n",
       "      <td>8.000000</td>\n",
       "      <td>12.000000</td>\n",
       "      <td>733.000000</td>\n",
       "      <td>8915.000000</td>\n",
       "    </tr>\n",
       "  </tbody>\n",
       "</table>\n",
       "</div>"
      ],
      "text/plain": [
       "       review_scores_rating  review_scores_cleanliness  accommodates  \\\n",
       "count          13738.000000               13732.000000  15695.000000   \n",
       "mean              94.945189                   9.473347      2.884677   \n",
       "std                6.700922                   0.868670      1.318310   \n",
       "min               20.000000                   2.000000      1.000000   \n",
       "25%               93.000000                   9.000000      2.000000   \n",
       "50%               97.000000                  10.000000      2.000000   \n",
       "75%              100.000000                  10.000000      4.000000   \n",
       "max              100.000000                  10.000000     17.000000   \n",
       "\n",
       "          bathrooms      bedrooms  number_of_reviews         price  \n",
       "count  15688.000000  15687.000000       15695.000000  15695.000000  \n",
       "mean       1.134944      1.446484          23.162408    155.300287  \n",
       "std        0.356243      0.894285          47.532541    142.763319  \n",
       "min        0.000000      0.000000           0.000000      0.000000  \n",
       "25%        1.000000      1.000000           3.000000     99.000000  \n",
       "50%        1.000000      1.000000           9.000000    129.000000  \n",
       "75%        1.000000      2.000000          23.000000    179.000000  \n",
       "max        8.000000     12.000000         733.000000   8915.000000  "
      ]
     },
     "execution_count": 14,
     "metadata": {},
     "output_type": "execute_result"
    }
   ],
   "source": [
    "train.describe()"
   ]
  },
  {
   "cell_type": "markdown",
   "metadata": {},
   "source": [
    "Its weird that the minimum value of price is 0 (no free lunch).  \n"
   ]
  },
  {
   "cell_type": "markdown",
   "metadata": {},
   "source": [
    "Now let's see the type of data in every column"
   ]
  },
  {
   "cell_type": "code",
   "execution_count": 15,
   "metadata": {
    "ExecuteTime": {
     "end_time": "2021-07-27T06:08:48.857103Z",
     "start_time": "2021-07-27T06:08:48.840149Z"
    }
   },
   "outputs": [
    {
     "name": "stdout",
     "output_type": "stream",
     "text": [
      "<class 'pandas.core.frame.DataFrame'>\n",
      "Int64Index: 15695 entries, 4108 to 15063\n",
      "Data columns (total 11 columns):\n",
      "city                         15692 non-null object\n",
      "review_scores_rating         13738 non-null float64\n",
      "review_scores_cleanliness    13732 non-null float64\n",
      "property_type                15695 non-null object\n",
      "room_type                    15695 non-null object\n",
      "accommodates                 15695 non-null int64\n",
      "bathrooms                    15688 non-null float64\n",
      "bedrooms                     15687 non-null float64\n",
      "number_of_reviews            15695 non-null int64\n",
      "bed_type                     15695 non-null object\n",
      "host_response_rate           9065 non-null object\n",
      "dtypes: float64(4), int64(2), object(5)\n",
      "memory usage: 2.1+ MB\n"
     ]
    }
   ],
   "source": [
    "train[new_features].info()"
   ]
  },
  {
   "cell_type": "markdown",
   "metadata": {},
   "source": [
    "We see that host_respose_rate has like 40% of null data.  \n",
    "It could make sense to drop that feature.\n"
   ]
  },
  {
   "cell_type": "markdown",
   "metadata": {},
   "source": [
    "Lets check the unique values in some features"
   ]
  },
  {
   "cell_type": "code",
   "execution_count": 16,
   "metadata": {
    "ExecuteTime": {
     "end_time": "2021-07-27T06:08:51.845321Z",
     "start_time": "2021-07-27T06:08:51.828367Z"
    }
   },
   "outputs": [
    {
     "name": "stdout",
     "output_type": "stream",
     "text": [
      "room_type {'Entire home/apt', 'Shared room', 'Private room'}\n",
      "\n",
      "\n",
      "city {nan, 'Amstelveen', 'Amsterdam Zuid-Oost', 'De Pijp', 'Weesp', 'Nederland', 'AMSTERDAM', 'Zeeburg', 'Jordaan, Amsterdam', 'Haarlem', 'Badhoevedorp', 'Jordaan', 'Amsterdam Zuidoost', 'Amsterdam ', 'Amsterdam, Noord-Holland, NL', 'Oostzaan', 'amsterdam', 'Watergraafsmeer', 'Amsterdão', 'Halfweg', '1015 SN Amsterdam', '阿姆斯特丹', 'Diemen', 'Amsterdam-Zuidoost', 'Landsmeer', 'Lijnden', 'Duivendrecht', 'North Amsterdam', 'Ámsterdam', 'Amsterdam', 'Zuiderwoude', 'Amsterdam West', 'Zeeburgerkade', 'Amsterdam (Zunderdorp)', 'Central Amsterdam', 'Амстердам'}\n",
      "\n",
      "\n",
      "property_type {'Apartment', 'Cabin', 'Guest suite', 'Villa', 'Tiny house', 'Camper/RV', 'Aparthotel', 'Chalet', 'Tent', 'Nature lodge', 'Townhouse', 'Casa particular (Cuba)', 'Island', 'Houseboat', 'Bed and breakfast', 'Loft', 'House', 'Other', 'Earth house', 'Hostel', 'Condominium', 'Campsite', 'Serviced apartment', 'Cottage', 'Boutique hotel', 'Guesthouse', 'Boat', 'Bungalow', 'Barn', 'Dome house', 'Hotel'}\n",
      "\n",
      "\n",
      "bed_type {'Futon', 'Couch', 'Real Bed', 'Airbed', 'Pull-out Sofa'}\n",
      "\n",
      "\n"
     ]
    }
   ],
   "source": [
    "for col in categorical:\n",
    "    print(col,set(df[col]))\n",
    "    print('\\n')"
   ]
  },
  {
   "cell_type": "markdown",
   "metadata": {},
   "source": [
    "Now lets look at the distributions of each feature"
   ]
  },
  {
   "cell_type": "markdown",
   "metadata": {},
   "source": [
    "Since there are categorical features with many different values we are first going to create a function  \n",
    "in order to be able to print in a more clear way."
   ]
  },
  {
   "cell_type": "code",
   "execution_count": 20,
   "metadata": {
    "ExecuteTime": {
     "end_time": "2021-07-27T06:09:20.244934Z",
     "start_time": "2021-07-27T06:09:20.230971Z"
    }
   },
   "outputs": [
    {
     "data": {
      "text/plain": [
       "34"
      ]
     },
     "execution_count": 20,
     "metadata": {},
     "output_type": "execute_result"
    }
   ],
   "source": [
    "train['city'].nunique()"
   ]
  },
  {
   "cell_type": "code",
   "execution_count": 18,
   "metadata": {
    "ExecuteTime": {
     "end_time": "2021-07-27T06:08:59.125579Z",
     "start_time": "2021-07-27T06:08:59.117601Z"
    }
   },
   "outputs": [],
   "source": [
    "def plot_categorical_many_values(df,col, thresh):\n",
    "    \"\"\"\n",
    "    receives a dataframe, a column and a threshold and plots the categorical feature col\n",
    "    puting all of the values that their % of appereance is less than the threshold thresh into a variable 'other'\n",
    "    \"\"\"\n",
    "    if df[col].nunique() > 10:\n",
    "        df_aux = pd.DataFrame({'value':df[col].value_counts().values, 'index':df[col].value_counts().index})\n",
    "        df_aux['percentage'] = df_aux.value.apply(lambda x: x/df.shape[0])\n",
    "\n",
    "\n",
    "        valid_values=[]\n",
    "        for index, row in df_aux.iterrows():\n",
    "            if row['percentage'] > thresh:\n",
    "                valid_values.append(row['index'])\n",
    "        df_aux2 = df.copy()\n",
    "        df_aux2[col] = df_aux2[col].apply(lambda x: x if x in valid_values else 'other')\n",
    "\n",
    "        ax = sns.countplot(x = col, data=df_aux2[df_aux2[col].notna()])\n",
    "        \n",
    "    else:\n",
    "    sns.countplot(x = col, data=df_aux2[df_aux2[col].notna()])   \n",
    "    plt.title(f'Distribution of {col}')\n",
    "    plt.legend()\n",
    "    plt.show()\n",
    "    \n",
    "    \n",
    "    \n",
    "\n",
    "\n"
   ]
  },
  {
   "cell_type": "code",
   "execution_count": null,
   "metadata": {
    "ExecuteTime": {
     "end_time": "2021-07-27T06:05:34.207826Z",
     "start_time": "2021-07-27T06:05:32.136362Z"
    }
   },
   "outputs": [],
   "source": [
    "\n",
    "\n",
    "for col in categorical:\n",
    "    #ax = sns.countplot(x = col, data=train[train[col].notna()])\n",
    "    #plt.title(f'Distribution of {col}')\n",
    "    #plt.legend()\n",
    "    #plt.show()\n",
    "    plot_categorical_many_values(train,col,0.05)\n",
    "    \n",
    "    \n",
    "for col in numerical:\n",
    "    plt.hist(col,data=train[train[col].notna()])\n",
    "    plt.title(f'Distribution of {col}')\n",
    "    plt.legend()\n",
    "    plt.show()\n",
    "\n",
    "    \n",
    "    "
   ]
  },
  {
   "cell_type": "markdown",
   "metadata": {},
   "source": [
    "Now lets look at the relationship between the variables  \n",
    "First we'll look at the numerical variables"
   ]
  },
  {
   "cell_type": "code",
   "execution_count": null,
   "metadata": {
    "ExecuteTime": {
     "end_time": "2021-07-20T17:22:02.132623Z",
     "start_time": "2021-07-20T17:22:02.125643Z"
    }
   },
   "outputs": [],
   "source": []
  },
  {
   "cell_type": "code",
   "execution_count": null,
   "metadata": {
    "ExecuteTime": {
     "end_time": "2021-07-27T06:05:36.178842Z",
     "start_time": "2021-07-27T06:05:35.751984Z"
    }
   },
   "outputs": [],
   "source": [
    "ax = sns.heatmap(train.corr(), annot=True, fmt=\".2f\",  square = True)\n",
    "\n"
   ]
  },
  {
   "cell_type": "markdown",
   "metadata": {
    "ExecuteTime": {
     "end_time": "2021-07-20T16:07:18.800663Z",
     "start_time": "2021-07-20T16:07:18.796673Z"
    }
   },
   "source": [
    "Relationship between all numerical variables including target"
   ]
  },
  {
   "cell_type": "code",
   "execution_count": null,
   "metadata": {
    "ExecuteTime": {
     "end_time": "2021-07-27T06:05:52.042455Z",
     "start_time": "2021-07-27T06:05:37.336770Z"
    }
   },
   "outputs": [],
   "source": [
    "sns.pairplot(train[['review_scores_rating','review_scores_cleanliness', 'accommodates','bathrooms'\\\n",
    "                 ,'number_of_reviews','bedrooms','price']].dropna(), height=2.5);\n"
   ]
  },
  {
   "cell_type": "markdown",
   "metadata": {},
   "source": [
    "QUESTION 7"
   ]
  },
  {
   "cell_type": "markdown",
   "metadata": {},
   "source": [
    "host_response_rate had 2 many null values, so its not useful.  \n",
    "we'll drop it  \n",
    "  \n",
    "  \n",
    "city, bed_type,bathrooms, number_of_reviews have only 1 value with a lot of data, and the rest barely appears on the dataset, so we'll drop those also  \n",
    "\n",
    "review_score_cleanness will be removed since it has a very high correlation with review_scores_rating (makes sense that people wont give a good rating to something not clean)\n"
   ]
  },
  {
   "cell_type": "code",
   "execution_count": null,
   "metadata": {
    "ExecuteTime": {
     "end_time": "2021-07-27T06:05:52.170118Z",
     "start_time": "2021-07-27T06:05:52.153158Z"
    }
   },
   "outputs": [],
   "source": [
    "df.drop(columns = ['host_response_rate','city','bed_type','bathrooms','number_of_reviews','review_scores_cleanliness'],inplace=True)\n",
    "train.drop(columns = ['host_response_rate','city','bed_type','bathrooms','number_of_reviews','review_scores_cleanliness'],inplace=True)\n",
    "test.drop(columns = ['host_response_rate','city','bed_type','bathrooms','number_of_reviews','review_scores_cleanliness'],inplace=True)"
   ]
  },
  {
   "cell_type": "code",
   "execution_count": null,
   "metadata": {
    "ExecuteTime": {
     "end_time": "2021-07-27T06:05:52.242919Z",
     "start_time": "2021-07-27T06:05:52.226961Z"
    }
   },
   "outputs": [],
   "source": [
    "df.head()"
   ]
  },
  {
   "cell_type": "markdown",
   "metadata": {
    "id": "R-5dnnqoHrUL"
   },
   "source": [
    "## Part II:\n",
    "   \n",
    "**On your train set alone**\n",
    " \n",
    " 1. Transform your categorical features - explain what your considerations were in ragards to which method you chose.\n",
    " 2. What is the data shape after the transformation? \n",
    " 3. Look at the distribution of all the new features that were added / transformed by you - What can we say about it? Can you spot any redundant features (features with very low cardinality or super un-even distribution, long tail)? Show it.\n",
    " 4. Take care of the redundant features you mentioned in previous question, and explain your steps.\n",
    " \n",
    "**On your test set**\n",
    " 5. Transform the categorical features in the test set, according to the train set. Make sure the test set now has no more and  no less features than the train set, and that they match in name."
   ]
  },
  {
   "cell_type": "markdown",
   "metadata": {},
   "source": [
    "Question 1  \n",
    "Since room_type is a nominal categorical feature, since there's no especific order in hope or private room or shared room, i choose the one-hot-encoding method, since it's the most common to deal with this."
   ]
  },
  {
   "cell_type": "code",
   "execution_count": null,
   "metadata": {
    "ExecuteTime": {
     "end_time": "2021-07-26T19:44:01.934119Z",
     "start_time": "2021-07-26T19:44:01.920158Z"
    }
   },
   "outputs": [],
   "source": [
    "train = pd.get_dummies(train,columns = ['room_type']).drop(columns =['room_type_Shared room'])\n",
    "# didint do drop_first =True because it dropped the column with most \"1\"\n"
   ]
  },
  {
   "cell_type": "code",
   "execution_count": null,
   "metadata": {
    "ExecuteTime": {
     "end_time": "2021-07-26T19:44:02.056793Z",
     "start_time": "2021-07-26T19:44:02.043828Z"
    }
   },
   "outputs": [],
   "source": [
    "train = pd.get_dummies(train,columns = ['property_type'],drop_first=True)\n"
   ]
  },
  {
   "cell_type": "code",
   "execution_count": null,
   "metadata": {
    "ExecuteTime": {
     "end_time": "2021-07-26T19:44:02.231326Z",
     "start_time": "2021-07-26T19:44:02.202403Z"
    }
   },
   "outputs": [],
   "source": [
    "train"
   ]
  },
  {
   "cell_type": "markdown",
   "metadata": {
    "ExecuteTime": {
     "end_time": "2021-07-20T16:19:54.139409Z",
     "start_time": "2021-07-20T16:19:54.136415Z"
    },
    "id": "yb6o_c2zHrUL"
   },
   "source": [
    "Question 2"
   ]
  },
  {
   "cell_type": "code",
   "execution_count": null,
   "metadata": {
    "ExecuteTime": {
     "end_time": "2021-07-26T19:44:02.380926Z",
     "start_time": "2021-07-26T19:44:02.374941Z"
    }
   },
   "outputs": [],
   "source": [
    "print(f'the shape is {train.shape}')"
   ]
  },
  {
   "cell_type": "markdown",
   "metadata": {},
   "source": [
    "Question 3"
   ]
  },
  {
   "cell_type": "markdown",
   "metadata": {
    "ExecuteTime": {
     "end_time": "2021-07-20T19:40:56.635813Z",
     "start_time": "2021-07-20T19:40:56.630843Z"
    }
   },
   "source": [
    "DISPLAYING ALL THE DISTRIBUTIONS"
   ]
  },
  {
   "cell_type": "code",
   "execution_count": null,
   "metadata": {
    "ExecuteTime": {
     "end_time": "2021-07-26T19:44:05.949417Z",
     "start_time": "2021-07-26T19:44:02.529529Z"
    }
   },
   "outputs": [],
   "source": [
    "for col in (set(train.columns)-set(test.columns)):\n",
    "    ax = sns.countplot(x = col, data=train[train[col].notna()])\n",
    "    plt.show()"
   ]
  },
  {
   "cell_type": "markdown",
   "metadata": {},
   "source": [
    "We create a function ir order to see it there are columns with a certain % of the column data as one value within  \n",
    "binary columns, and according to that we define columns that are not useful to predict in order to drop them"
   ]
  },
  {
   "cell_type": "code",
   "execution_count": null,
   "metadata": {
    "ExecuteTime": {
     "end_time": "2021-07-26T19:45:53.087528Z",
     "start_time": "2021-07-26T19:45:53.081543Z"
    }
   },
   "outputs": [],
   "source": [
    "def get_redundant_binary_cols(data, threshold):\n",
    "    '''\n",
    "    This function gets a pandas DataFrame, and a threshold (% of data), \n",
    "    and returns the list of binary features from that dataframe that have \n",
    "    above threshold amount of samples with the same value, and thus\n",
    "    should be considered redundant. \n",
    "    '''\n",
    "    \n",
    "    bool_cols = [col for col in data.columns \\\n",
    "                 if pd.Series(list(set(data[data[col].notnull()][col]))).isin([0, 1]).all()]\n",
    "    print(bool_cols)\n",
    "    \n",
    "    return [x for x in bool_cols if data[x].value_counts()[0] \\\n",
    "                                                > threshold * len(data)] + \\\n",
    "                    [x for x in bool_cols if data[x].value_counts()[1] \\\n",
    "                                                > threshold * len(data)]"
   ]
  },
  {
   "cell_type": "markdown",
   "metadata": {
    "ExecuteTime": {
     "end_time": "2021-07-26T19:43:06.214374Z",
     "start_time": "2021-07-26T19:43:06.187451Z"
    }
   },
   "source": [
    "These columns are not good for our model so we'll drop them"
   ]
  },
  {
   "cell_type": "code",
   "execution_count": null,
   "metadata": {
    "ExecuteTime": {
     "end_time": "2021-07-26T19:47:35.035183Z",
     "start_time": "2021-07-26T19:47:34.665184Z"
    }
   },
   "outputs": [],
   "source": [
    "redundant_columns = get_redundant_binary_cols(train,0.8);\n",
    "\n",
    "for col in redundant_columns:\n",
    "    train.drop(columns=[col],inplace=True)\n"
   ]
  },
  {
   "cell_type": "code",
   "execution_count": null,
   "metadata": {
    "ExecuteTime": {
     "end_time": "2021-07-26T19:48:08.131620Z",
     "start_time": "2021-07-26T19:48:08.126632Z"
    }
   },
   "outputs": [],
   "source": [
    "train.shape"
   ]
  },
  {
   "cell_type": "code",
   "execution_count": null,
   "metadata": {
    "ExecuteTime": {
     "end_time": "2021-07-26T19:48:24.423952Z",
     "start_time": "2021-07-26T19:48:24.417972Z"
    }
   },
   "outputs": [],
   "source": [
    "train.columns"
   ]
  },
  {
   "cell_type": "markdown",
   "metadata": {},
   "source": [
    "Question 5"
   ]
  },
  {
   "cell_type": "code",
   "execution_count": null,
   "metadata": {
    "ExecuteTime": {
     "end_time": "2021-07-26T16:15:04.689519Z",
     "start_time": "2021-07-26T16:15:04.684532Z"
    }
   },
   "outputs": [],
   "source": [
    "test.shape"
   ]
  },
  {
   "cell_type": "code",
   "execution_count": null,
   "metadata": {
    "ExecuteTime": {
     "end_time": "2021-07-26T16:15:17.240757Z",
     "start_time": "2021-07-26T16:15:17.226801Z"
    }
   },
   "outputs": [],
   "source": [
    "test = pd.get_dummies(test,columns = ['room_type']).drop(columns =['room_type_Shared room'])\n",
    "test = pd.get_dummies(test,columns = ['property_type'],drop_first=True)\n",
    "\n",
    "\n",
    "        \n",
    "        \n",
    "\n",
    "\n"
   ]
  },
  {
   "cell_type": "code",
   "execution_count": null,
   "metadata": {
    "ExecuteTime": {
     "end_time": "2021-07-26T16:15:22.184355Z",
     "start_time": "2021-07-26T16:15:22.151409Z"
    }
   },
   "outputs": [],
   "source": [
    "test"
   ]
  },
  {
   "cell_type": "code",
   "execution_count": null,
   "metadata": {
    "ExecuteTime": {
     "end_time": "2021-07-26T16:15:44.311417Z",
     "start_time": "2021-07-26T16:15:44.279503Z"
    }
   },
   "outputs": [],
   "source": [
    "to_drop = []\n",
    "for col in test.columns:\n",
    "    #print(col)\n",
    "    if 'property' in col:\n",
    "    \n",
    "        if (('Apartment' not in col) and ('House' not in col)):\n",
    "            to_drop.append(col)\n",
    "        elif ('boat'  in col):\n",
    "            to_drop.append(col)\n",
    "print(to_drop)       \n",
    "        \n",
    "for col in to_drop:\n",
    "    test = test.drop(columns=[col])\n",
    "\n",
    "            "
   ]
  },
  {
   "cell_type": "code",
   "execution_count": null,
   "metadata": {
    "ExecuteTime": {
     "end_time": "2021-07-26T16:16:34.114551Z",
     "start_time": "2021-07-26T16:16:34.108610Z"
    }
   },
   "outputs": [],
   "source": [
    "assert set(test.columns) - set(train.columns) == set()\n"
   ]
  },
  {
   "cell_type": "markdown",
   "metadata": {
    "id": "ZhM5e0-QHrUL"
   },
   "source": [
    "## Part III:\n",
    "\n",
    "**On your train set alone**\n",
    "\n",
    " 1. Transform your numerical features according to the 3 methods: normalization, binning and transformations (choose different features for each method)\n",
    " 2. Explain the logic behind your choice\n",
    " 3. Plot the new distributions to check that your transformation worked\n",
    " \n",
    "**On your test set**\n",
    " 4. Transform the numerical features in the test set, according to the train set. "
   ]
  },
  {
   "cell_type": "code",
   "execution_count": null,
   "metadata": {
    "ExecuteTime": {
     "end_time": "2021-07-26T16:16:43.562158Z",
     "start_time": "2021-07-26T16:16:43.546198Z"
    },
    "id": "-0nDIVP1HrUL"
   },
   "outputs": [],
   "source": [
    "# your code here\n",
    "train"
   ]
  },
  {
   "cell_type": "markdown",
   "metadata": {},
   "source": [
    "Question 1"
   ]
  },
  {
   "cell_type": "code",
   "execution_count": null,
   "metadata": {
    "ExecuteTime": {
     "end_time": "2021-07-26T16:17:37.776330Z",
     "start_time": "2021-07-26T16:17:36.720084Z"
    }
   },
   "outputs": [],
   "source": [
    "for col in train.columns:\n",
    "    if col !='price':\n",
    "        ax = sns.countplot(x = col, data=train[train[col].notna()])\n",
    "        plt.show()"
   ]
  },
  {
   "cell_type": "markdown",
   "metadata": {},
   "source": [
    "First of all we'll do binning\n",
    "We'll do this with feature review_scores_rating  \n",
    "First of all i have to deal with the nans it has"
   ]
  },
  {
   "cell_type": "code",
   "execution_count": null,
   "metadata": {
    "ExecuteTime": {
     "end_time": "2021-07-26T16:17:54.235529Z",
     "start_time": "2021-07-26T16:17:54.229515Z"
    }
   },
   "outputs": [],
   "source": [
    "train['review_scores_rating'] = train['review_scores_rating'].fillna(train['review_scores_rating'].mean())"
   ]
  },
  {
   "cell_type": "code",
   "execution_count": null,
   "metadata": {
    "ExecuteTime": {
     "end_time": "2021-07-20T20:37:38.316862Z",
     "start_time": "2021-07-20T20:37:38.305894Z"
    }
   },
   "outputs": [],
   "source": []
  },
  {
   "cell_type": "code",
   "execution_count": null,
   "metadata": {
    "ExecuteTime": {
     "end_time": "2021-07-26T16:18:35.971187Z",
     "start_time": "2021-07-26T16:18:35.776708Z"
    }
   },
   "outputs": [],
   "source": [
    "from sklearn.preprocessing import KBinsDiscretizer\n",
    "est = KBinsDiscretizer(n_bins=10, encode='ordinal', strategy='quantile')\n",
    "\n",
    "est.fit(train[['review_scores_rating']])\n",
    "\n",
    "pd.DataFrame(est.transform(train[['review_scores_rating']])).plot(kind = 'hist',bins=10,\\\n",
    "                                                            edgecolor = 'black');\n",
    "plt.title('Dividion to bins of the same size')\n",
    "plt.xlabel('review scores rating')\n",
    "plt.show()\n",
    "\n",
    "train['review_scores_rating'] =est.transform(train[['review_scores_rating']])"
   ]
  },
  {
   "cell_type": "markdown",
   "metadata": {
    "ExecuteTime": {
     "end_time": "2021-07-20T20:38:45.735929Z",
     "start_time": "2021-07-20T20:38:45.715948Z"
    }
   },
   "source": [
    "Now we'll use the method of transformation. We'll do it for the feature bedrooms that has a skewed distribution  \n",
    "First of all i'll have to fill nans"
   ]
  },
  {
   "cell_type": "code",
   "execution_count": null,
   "metadata": {
    "ExecuteTime": {
     "end_time": "2021-07-26T16:19:07.222556Z",
     "start_time": "2021-07-26T16:19:07.216540Z"
    }
   },
   "outputs": [],
   "source": [
    "train['bedrooms'] = train['bedrooms'].fillna(train['bedrooms'].median())"
   ]
  },
  {
   "cell_type": "code",
   "execution_count": null,
   "metadata": {
    "ExecuteTime": {
     "end_time": "2021-07-26T16:19:10.712577Z",
     "start_time": "2021-07-26T16:19:10.704598Z"
    }
   },
   "outputs": [],
   "source": [
    "set(train['bedrooms'])"
   ]
  },
  {
   "cell_type": "code",
   "execution_count": null,
   "metadata": {
    "ExecuteTime": {
     "end_time": "2021-07-26T16:19:33.650356Z",
     "start_time": "2021-07-26T16:19:33.616447Z"
    }
   },
   "outputs": [],
   "source": [
    "from sklearn.preprocessing import FunctionTransformer\n",
    "transformer = FunctionTransformer(np.log1p, validate=True)\n",
    "train['bedrooms'] = transformer.transform(train[['bedrooms']])\n",
    "train"
   ]
  },
  {
   "cell_type": "markdown",
   "metadata": {},
   "source": [
    "Now we'll use normalization for all"
   ]
  },
  {
   "cell_type": "code",
   "execution_count": null,
   "metadata": {
    "ExecuteTime": {
     "end_time": "2021-07-26T16:25:35.716736Z",
     "start_time": "2021-07-26T16:25:35.708757Z"
    }
   },
   "outputs": [],
   "source": [
    "X_train = train.loc[:, train.columns != 'price']\n",
    "y_train = train['price']\n",
    "\n",
    "X_test = test.loc[:, test.columns != 'price']\n",
    "y_test = test['price']\n"
   ]
  },
  {
   "cell_type": "code",
   "execution_count": null,
   "metadata": {
    "ExecuteTime": {
     "end_time": "2021-07-26T16:25:37.414417Z",
     "start_time": "2021-07-26T16:25:37.391447Z"
    }
   },
   "outputs": [],
   "source": [
    "from sklearn.preprocessing import StandardScaler, MinMaxScaler, RobustScaler\n",
    "\n",
    "scaler = StandardScaler()\n",
    "scaler.fit(X_train._get_numeric_data())\n",
    "X_train2 = scaler.transform(X_train._get_numeric_data())\n",
    "\n",
    "\n",
    "X_train = pd.DataFrame(data=X_train2, columns=X_train._get_numeric_data().columns)"
   ]
  },
  {
   "cell_type": "code",
   "execution_count": null,
   "metadata": {},
   "outputs": [],
   "source": []
  },
  {
   "cell_type": "code",
   "execution_count": null,
   "metadata": {},
   "outputs": [],
   "source": []
  },
  {
   "cell_type": "code",
   "execution_count": null,
   "metadata": {
    "ExecuteTime": {
     "end_time": "2021-07-26T16:25:40.776805Z",
     "start_time": "2021-07-26T16:25:40.758852Z"
    }
   },
   "outputs": [],
   "source": [
    "X_train"
   ]
  },
  {
   "cell_type": "markdown",
   "metadata": {},
   "source": [
    "Now we'll plot the different features"
   ]
  },
  {
   "cell_type": "code",
   "execution_count": null,
   "metadata": {
    "ExecuteTime": {
     "end_time": "2021-07-26T16:25:43.803526Z",
     "start_time": "2021-07-26T16:25:42.877001Z"
    }
   },
   "outputs": [],
   "source": [
    "for col in X_train.columns:\n",
    "    plt.hist(col,data=X_train[X_train[col].notna()])\n",
    "    plt.show()"
   ]
  },
  {
   "cell_type": "markdown",
   "metadata": {},
   "source": [
    "Question 4  \n",
    "\n",
    "First of all i have to fill nan"
   ]
  },
  {
   "cell_type": "code",
   "execution_count": null,
   "metadata": {
    "ExecuteTime": {
     "end_time": "2021-07-26T16:25:43.905253Z",
     "start_time": "2021-07-26T16:25:43.896278Z"
    }
   },
   "outputs": [],
   "source": [
    "X_test['review_scores_rating'] = X_test['review_scores_rating'].fillna(X_train['review_scores_rating'].mean())\n",
    "X_test['bedrooms'] = X_test['bedrooms'].fillna(X_train['bedrooms'].median())"
   ]
  },
  {
   "cell_type": "markdown",
   "metadata": {},
   "source": [
    "Now we'll use the previous transformations to change this data"
   ]
  },
  {
   "cell_type": "code",
   "execution_count": null,
   "metadata": {
    "ExecuteTime": {
     "end_time": "2021-07-26T16:25:44.949248Z",
     "start_time": "2021-07-26T16:25:44.941269Z"
    }
   },
   "outputs": [],
   "source": [
    "#using the fit transformation from review_scores_rating\n",
    "X_test['review_scores_rating'] =est.transform(X_test[['review_scores_rating']])"
   ]
  },
  {
   "cell_type": "code",
   "execution_count": null,
   "metadata": {
    "ExecuteTime": {
     "end_time": "2021-07-26T16:25:45.564261Z",
     "start_time": "2021-07-26T16:25:45.558242Z"
    }
   },
   "outputs": [],
   "source": [
    "X_test['bedrooms'] = transformer.transform(X_test[['bedrooms']])\n"
   ]
  },
  {
   "cell_type": "code",
   "execution_count": null,
   "metadata": {
    "ExecuteTime": {
     "end_time": "2021-07-26T16:25:46.269816Z",
     "start_time": "2021-07-26T16:25:46.250867Z"
    }
   },
   "outputs": [],
   "source": [
    "X_test2 = scaler.transform(X_test._get_numeric_data())\n",
    "\n",
    "\n",
    "X_test = pd.DataFrame(data=X_test2, columns=X_test._get_numeric_data().columns)"
   ]
  },
  {
   "cell_type": "markdown",
   "metadata": {},
   "source": [
    "And now we have the test transformed according to what we did with the training set"
   ]
  },
  {
   "cell_type": "code",
   "execution_count": null,
   "metadata": {
    "ExecuteTime": {
     "end_time": "2021-07-26T16:25:47.583949Z",
     "start_time": "2021-07-26T16:25:47.564004Z"
    }
   },
   "outputs": [],
   "source": [
    "X_test"
   ]
  },
  {
   "cell_type": "markdown",
   "metadata": {
    "id": "LDGuEPtJHrUL"
   },
   "source": [
    "<div class=\"alert alert-info\"><b>NOTE:</b> You need to generate a report - write the logic behind every step you take, give your conclusions in a paragraph, and make everything very readable.</div>"
   ]
  }
 ],
 "metadata": {
  "colab": {
   "collapsed_sections": [],
   "name": "Data Preprocessing - Assignment I.ipynb",
   "provenance": []
  },
  "kernelspec": {
   "display_name": "Python 3",
   "language": "python",
   "name": "python3"
  },
  "language_info": {
   "codemirror_mode": {
    "name": "ipython",
    "version": 3
   },
   "file_extension": ".py",
   "mimetype": "text/x-python",
   "name": "python",
   "nbconvert_exporter": "python",
   "pygments_lexer": "ipython3",
   "version": "3.7.4"
  },
  "latex_envs": {
   "LaTeX_envs_menu_present": true,
   "autoclose": false,
   "autocomplete": true,
   "bibliofile": "biblio.bib",
   "cite_by": "apalike",
   "current_citInitial": 1,
   "eqLabelWithNumbers": true,
   "eqNumInitial": 1,
   "hotkeys": {
    "equation": "Ctrl-E",
    "itemize": "Ctrl-I"
   },
   "labels_anchors": false,
   "latex_user_defs": false,
   "report_style_numbering": false,
   "user_envs_cfg": false
  },
  "toc": {
   "base_numbering": 1,
   "nav_menu": {},
   "number_sections": true,
   "sideBar": true,
   "skip_h1_title": false,
   "title_cell": "Table of Contents",
   "title_sidebar": "Contents",
   "toc_cell": false,
   "toc_position": {},
   "toc_section_display": true,
   "toc_window_display": false
  },
  "varInspector": {
   "cols": {
    "lenName": 16,
    "lenType": 16,
    "lenVar": 40
   },
   "kernels_config": {
    "python": {
     "delete_cmd_postfix": "",
     "delete_cmd_prefix": "del ",
     "library": "var_list.py",
     "varRefreshCmd": "print(var_dic_list())"
    },
    "r": {
     "delete_cmd_postfix": ") ",
     "delete_cmd_prefix": "rm(",
     "library": "var_list.r",
     "varRefreshCmd": "cat(var_dic_list()) "
    }
   },
   "types_to_exclude": [
    "module",
    "function",
    "builtin_function_or_method",
    "instance",
    "_Feature"
   ],
   "window_display": false
  }
 },
 "nbformat": 4,
 "nbformat_minor": 1
}
