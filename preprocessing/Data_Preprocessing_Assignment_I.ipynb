{
 "cells": [
  {
   "cell_type": "code",
   "execution_count": 3,
   "metadata": {
    "ExecuteTime": {
     "end_time": "2021-07-26T16:02:28.176749Z",
     "start_time": "2021-07-26T16:02:28.170256Z"
    },
    "hide_input": true,
    "id": "VgYkFgEeHrUI",
    "outputId": "76e809d8-ac0f-42ac-9387-dca1112ba971"
   },
   "outputs": [
    {
     "data": {
      "text/html": [
       "\n",
       "<script>\n",
       "var logoParent = document.getElementById(\"kernel_logo_widget\")\n",
       "var logo = document.getElementById(\"kernel_logo_widget\").getElementsByClassName(\"current_kernel_logo\")[0];\n",
       "logo.src = \"https://i.ibb.co/mD4jTGQ/itclogo.jpg\";\n",
       "logo.style = \"display: inline; width:138px; height:40px\";\n",
       "logoParent.innerHTML = '<a href=\"https://i.ibb.co/mD4jTGQ/itclogo.jpg\">' + logoParent.innerHTML + '</a>';\n",
       "</script>\n"
      ],
      "text/plain": [
       "<IPython.core.display.HTML object>"
      ]
     },
     "execution_count": 3,
     "metadata": {},
     "output_type": "execute_result"
    }
   ],
   "source": [
    "from IPython.core.display import HTML\n",
    "HTML('''\n",
    "<script>\n",
    "var logoParent = document.getElementById(\"kernel_logo_widget\")\n",
    "var logo = document.getElementById(\"kernel_logo_widget\").getElementsByClassName(\"current_kernel_logo\")[0];\n",
    "logo.src = \"https://i.ibb.co/mD4jTGQ/itclogo.jpg\";\n",
    "logo.style = \"display: inline; width:138px; height:40px\";\n",
    "logoParent.innerHTML = '<a href=\"https://i.ibb.co/mD4jTGQ/itclogo.jpg\">' + logoParent.innerHTML + '</a>';\n",
    "</script>\n",
    "''')"
   ]
  },
  {
   "cell_type": "markdown",
   "metadata": {
    "ExecuteTime": {
     "end_time": "2019-05-20T15:50:02.809685Z",
     "start_time": "2019-05-20T15:50:02.806689Z"
    },
    "hide_input": true,
    "id": "HvYsU2PaHrUK"
   },
   "source": [
    "<font size=10><b>Data Preprocessing - Assignment I</b></font> "
   ]
  },
  {
   "cell_type": "markdown",
   "metadata": {
    "id": "JjnTsHK8HrUL"
   },
   "source": [
    "# Exercise:\n",
    "\n",
    "In this exercise, we will look at listings of Airbnb in Amsterdam, trying to predict the `price` of each listing by it's characteristics\n",
    "\n",
    "<div class=\"alert alert-info\"><b>NOTE:</b> There is no Data dictionary available for this data, but the column names can help you understand or assume the meaning of the features</div>\n",
    "\n",
    "\n",
    "## Part I:\n",
    "\n",
    " 1. Download and extract the data attached to this exercise.\n",
    " 2. Take a subset using only the following columns: `['listing_url', 'name', 'summary', 'space', 'host_name', 'host_since', 'host_response_rate', 'host_identity_verified', 'city', 'state', 'country', 'latitude', 'longitude', 'property_type', 'room_type', 'accommodates', 'bathrooms', 'bedrooms', 'beds', 'bed_type', 'amenities', 'square_feet', 'price', 'number_of_reviews', 'review_scores_rating', 'review_scores_accuracy', 'review_scores_cleanliness', 'review_scores_checkin', 'review_scores_communication', 'review_scores_location', 'review_scores_value']`\n",
    " 3. Look at the data and define - which are your categorical features (ordinal and nominal) and which are your numerical features (continuous and discrete)? Write a list of each.\n",
    " 4. Split the data to train and test randomly (no need for a dev set at the moment).\n",
    " 5. Take the following features: `'city', 'review_scores_rating', 'review_scores_cleanliness', 'property_type', 'room_type', 'accommodates', 'bathrooms', 'bedrooms', 'number_of_reviews', 'bed_type', 'host_response_rate'`, **and work with them alone for the continuation of the exercise**.\n",
    " 6. Perform EDA on the **train** dataset - print the summary statistics and contents of each column, plot the distributions of each feature, plot the relationship between all of the features, as well as on the relations of all of the features with the dependent variable. **No need to add new features. Leave only interesting plots.**.\n",
    " 7. Remove columns that are redundant / are not important / are duplicated / are correlated - explain why you selected the features that way."
   ]
  },
  {
   "cell_type": "markdown",
   "metadata": {},
   "source": [
    "Question 1"
   ]
  },
  {
   "cell_type": "code",
   "execution_count": 4,
   "metadata": {
    "ExecuteTime": {
     "end_time": "2021-07-26T16:02:31.303934Z",
     "start_time": "2021-07-26T16:02:28.719309Z"
    }
   },
   "outputs": [
    {
     "name": "stderr",
     "output_type": "stream",
     "text": [
      "C:\\Users\\Daniel\\Anaconda3\\lib\\site-packages\\IPython\\core\\interactiveshell.py:3058: DtypeWarning: Columns (94) have mixed types. Specify dtype option on import or set low_memory=False.\n",
      "  interactivity=interactivity, compiler=compiler, result=result)\n"
     ]
    },
    {
     "data": {
      "text/html": [
       "<div>\n",
       "<style scoped>\n",
       "    .dataframe tbody tr th:only-of-type {\n",
       "        vertical-align: middle;\n",
       "    }\n",
       "\n",
       "    .dataframe tbody tr th {\n",
       "        vertical-align: top;\n",
       "    }\n",
       "\n",
       "    .dataframe thead th {\n",
       "        text-align: right;\n",
       "    }\n",
       "</style>\n",
       "<table border=\"1\" class=\"dataframe\">\n",
       "  <thead>\n",
       "    <tr style=\"text-align: right;\">\n",
       "      <th></th>\n",
       "      <th>id</th>\n",
       "      <th>listing_url</th>\n",
       "      <th>scrape_id</th>\n",
       "      <th>last_scraped</th>\n",
       "      <th>name</th>\n",
       "      <th>summary</th>\n",
       "      <th>space</th>\n",
       "      <th>description</th>\n",
       "      <th>experiences_offered</th>\n",
       "      <th>neighborhood_overview</th>\n",
       "      <th>...</th>\n",
       "      <th>instant_bookable</th>\n",
       "      <th>is_business_travel_ready</th>\n",
       "      <th>cancellation_policy</th>\n",
       "      <th>require_guest_profile_picture</th>\n",
       "      <th>require_guest_phone_verification</th>\n",
       "      <th>calculated_host_listings_count</th>\n",
       "      <th>calculated_host_listings_count_entire_homes</th>\n",
       "      <th>calculated_host_listings_count_private_rooms</th>\n",
       "      <th>calculated_host_listings_count_shared_rooms</th>\n",
       "      <th>reviews_per_month</th>\n",
       "    </tr>\n",
       "  </thead>\n",
       "  <tbody>\n",
       "    <tr>\n",
       "      <td>0</td>\n",
       "      <td>2818</td>\n",
       "      <td>https://www.airbnb.com/rooms/2818</td>\n",
       "      <td>20190506125736</td>\n",
       "      <td>2019-05-06</td>\n",
       "      <td>Quiet Garden View Room &amp; Super Fast WiFi</td>\n",
       "      <td>Quiet Garden View Room &amp; Super Fast WiFi</td>\n",
       "      <td>I'm renting a bedroom (room overlooking the ga...</td>\n",
       "      <td>Quiet Garden View Room &amp; Super Fast WiFi I'm r...</td>\n",
       "      <td>none</td>\n",
       "      <td>Indische Buurt (\"Indies Neighborhood\") is a ne...</td>\n",
       "      <td>...</td>\n",
       "      <td>t</td>\n",
       "      <td>f</td>\n",
       "      <td>strict_14_with_grace_period</td>\n",
       "      <td>f</td>\n",
       "      <td>f</td>\n",
       "      <td>1</td>\n",
       "      <td>0</td>\n",
       "      <td>1</td>\n",
       "      <td>0</td>\n",
       "      <td>2.07</td>\n",
       "    </tr>\n",
       "    <tr>\n",
       "      <td>1</td>\n",
       "      <td>20168</td>\n",
       "      <td>https://www.airbnb.com/rooms/20168</td>\n",
       "      <td>20190506125736</td>\n",
       "      <td>2019-05-06</td>\n",
       "      <td>Studio with private bathroom in the centre 1</td>\n",
       "      <td>Cozy studio on your own private floor, 100% in...</td>\n",
       "      <td>For those who like all facets of city life. In...</td>\n",
       "      <td>Cozy studio on your own private floor, 100% in...</td>\n",
       "      <td>none</td>\n",
       "      <td>Located just in between famous central canals....</td>\n",
       "      <td>...</td>\n",
       "      <td>f</td>\n",
       "      <td>f</td>\n",
       "      <td>strict_14_with_grace_period</td>\n",
       "      <td>f</td>\n",
       "      <td>f</td>\n",
       "      <td>2</td>\n",
       "      <td>1</td>\n",
       "      <td>1</td>\n",
       "      <td>0</td>\n",
       "      <td>2.39</td>\n",
       "    </tr>\n",
       "  </tbody>\n",
       "</table>\n",
       "<p>2 rows × 106 columns</p>\n",
       "</div>"
      ],
      "text/plain": [
       "      id                         listing_url       scrape_id last_scraped  \\\n",
       "0   2818   https://www.airbnb.com/rooms/2818  20190506125736   2019-05-06   \n",
       "1  20168  https://www.airbnb.com/rooms/20168  20190506125736   2019-05-06   \n",
       "\n",
       "                                           name  \\\n",
       "0      Quiet Garden View Room & Super Fast WiFi   \n",
       "1  Studio with private bathroom in the centre 1   \n",
       "\n",
       "                                             summary  \\\n",
       "0           Quiet Garden View Room & Super Fast WiFi   \n",
       "1  Cozy studio on your own private floor, 100% in...   \n",
       "\n",
       "                                               space  \\\n",
       "0  I'm renting a bedroom (room overlooking the ga...   \n",
       "1  For those who like all facets of city life. In...   \n",
       "\n",
       "                                         description experiences_offered  \\\n",
       "0  Quiet Garden View Room & Super Fast WiFi I'm r...                none   \n",
       "1  Cozy studio on your own private floor, 100% in...                none   \n",
       "\n",
       "                               neighborhood_overview  ... instant_bookable  \\\n",
       "0  Indische Buurt (\"Indies Neighborhood\") is a ne...  ...                t   \n",
       "1  Located just in between famous central canals....  ...                f   \n",
       "\n",
       "  is_business_travel_ready          cancellation_policy  \\\n",
       "0                        f  strict_14_with_grace_period   \n",
       "1                        f  strict_14_with_grace_period   \n",
       "\n",
       "  require_guest_profile_picture require_guest_phone_verification  \\\n",
       "0                             f                                f   \n",
       "1                             f                                f   \n",
       "\n",
       "   calculated_host_listings_count  \\\n",
       "0                               1   \n",
       "1                               2   \n",
       "\n",
       "   calculated_host_listings_count_entire_homes  \\\n",
       "0                                            0   \n",
       "1                                            1   \n",
       "\n",
       "  calculated_host_listings_count_private_rooms  \\\n",
       "0                                            1   \n",
       "1                                            1   \n",
       "\n",
       "   calculated_host_listings_count_shared_rooms  reviews_per_month  \n",
       "0                                            0               2.07  \n",
       "1                                            0               2.39  \n",
       "\n",
       "[2 rows x 106 columns]"
      ]
     },
     "execution_count": 4,
     "metadata": {},
     "output_type": "execute_result"
    }
   ],
   "source": [
    "import pandas as pd\n",
    "import matplotlib.pyplot as plt\n",
    "import seaborn as sns\n",
    "import numpy as np\n",
    "\n",
    "df = pd.read_csv('listings.csv')\n",
    "df.head(2)"
   ]
  },
  {
   "cell_type": "code",
   "execution_count": 5,
   "metadata": {
    "ExecuteTime": {
     "end_time": "2021-07-26T16:02:31.372751Z",
     "start_time": "2021-07-26T16:02:31.364771Z"
    }
   },
   "outputs": [
    {
     "name": "stdout",
     "output_type": "stream",
     "text": [
      "<class 'pandas.core.frame.DataFrame'>\n",
      "RangeIndex: 19619 entries, 0 to 19618\n",
      "Columns: 106 entries, id to reviews_per_month\n",
      "dtypes: float64(23), int64(21), object(62)\n",
      "memory usage: 15.9+ MB\n"
     ]
    }
   ],
   "source": [
    "df.info()"
   ]
  },
  {
   "cell_type": "markdown",
   "metadata": {
    "ExecuteTime": {
     "end_time": "2019-06-03T15:48:50.114057Z",
     "start_time": "2019-06-03T15:48:50.110068Z"
    },
    "id": "knMyg6w_HrUL"
   },
   "source": [
    "Question 2"
   ]
  },
  {
   "cell_type": "code",
   "execution_count": 6,
   "metadata": {
    "ExecuteTime": {
     "end_time": "2021-07-26T16:02:31.431593Z",
     "start_time": "2021-07-26T16:02:31.418628Z"
    }
   },
   "outputs": [],
   "source": [
    "all_data = ['listing_url', 'name', 'summary', 'space', 'host_name', 'host_since', 'host_response_rate', 'host_identity_verified', 'city', 'state', 'country', 'latitude', 'longitude', 'property_type', 'room_type', 'accommodates', 'bathrooms', 'bedrooms', 'beds', 'bed_type', 'amenities', 'square_feet', 'price', 'number_of_reviews', 'review_scores_rating', 'review_scores_accuracy', 'review_scores_cleanliness', 'review_scores_checkin', 'review_scores_communication', 'review_scores_location', 'review_scores_value']\n",
    "df = df[all_data]\n"
   ]
  },
  {
   "cell_type": "markdown",
   "metadata": {},
   "source": [
    "Question 3"
   ]
  },
  {
   "cell_type": "code",
   "execution_count": 7,
   "metadata": {
    "ExecuteTime": {
     "end_time": "2021-07-26T16:02:31.486445Z",
     "start_time": "2021-07-26T16:02:31.472483Z"
    }
   },
   "outputs": [],
   "source": [
    "#ITS HARD TO DEFINE IF A DATE IS CATEGORICAL OR NUMERICAL. I TEND TO THINK THAT IS LIKE A NAME OF A CATEGORY\n",
    "ordinal = ['host_since'] \n",
    "nominal = ['listing_url','room_type','name','summary','space','host_name','host_identity_verified','city','state','country','property_type','bed_type','amenities']\n",
    "continuous = ['host_response_rate','latitude','longitude','square_feet','price','review_scores_rating','review_scores_accuracy', 'review_scores_cleanliness', 'review_scores_checkin', 'review_scores_communication', 'review_scores_location', 'review_scores_value']\n",
    "discrete = ['accommodates','bathrooms','beds','number_of_reviews','bedrooms']\n",
    "categorical = ordinal + nominal\n",
    "numerical = continuous + discrete\n"
   ]
  },
  {
   "cell_type": "markdown",
   "metadata": {
    "ExecuteTime": {
     "end_time": "2021-07-19T22:47:29.155147Z",
     "start_time": "2021-07-19T22:47:29.147168Z"
    }
   },
   "source": [
    "Question 4"
   ]
  },
  {
   "cell_type": "code",
   "execution_count": 27,
   "metadata": {
    "ExecuteTime": {
     "end_time": "2021-07-26T16:04:20.924205Z",
     "start_time": "2021-07-26T16:04:20.909245Z"
    }
   },
   "outputs": [],
   "source": [
    "from sklearn.model_selection import train_test_split\n",
    "\n",
    "features = list(df.loc[:,df.columns!='price'].columns)\n",
    "target ='price'\n",
    "\n",
    "\n",
    "train,test = train_test_split(df,test_size = .2, random_state = 77)\n"
   ]
  },
  {
   "cell_type": "code",
   "execution_count": 28,
   "metadata": {
    "ExecuteTime": {
     "end_time": "2021-07-26T16:04:29.386158Z",
     "start_time": "2021-07-26T16:04:29.379178Z"
    }
   },
   "outputs": [],
   "source": [
    "assert set(train.index) & set(test.index) == set()"
   ]
  },
  {
   "cell_type": "markdown",
   "metadata": {},
   "source": [
    "Question 5"
   ]
  },
  {
   "cell_type": "code",
   "execution_count": 10,
   "metadata": {
    "ExecuteTime": {
     "end_time": "2021-07-26T16:02:32.251499Z",
     "start_time": "2021-07-26T16:02:32.233541Z"
    }
   },
   "outputs": [],
   "source": [
    "new_features = ['city', 'review_scores_rating', 'review_scores_cleanliness', 'property_type', 'room_type', 'accommodates', 'bathrooms', 'bedrooms', 'number_of_reviews', 'bed_type', 'host_response_rate']\n",
    "#First i'll recreate the categorical and numerical features based on the subset that we are using\n",
    "\n",
    "categorical = [cat for  cat in categorical if cat in new_features]\n",
    "numerical = [num for  num in numerical if num in new_features]\n",
    "\n",
    "\n",
    "df = df[new_features +['price']]\n",
    "\n",
    "X_train = X_train[new_features]\n",
    "X_test = X_test[new_features]"
   ]
  },
  {
   "cell_type": "markdown",
   "metadata": {},
   "source": [
    "Question 6"
   ]
  },
  {
   "cell_type": "markdown",
   "metadata": {},
   "source": [
    "First let's look at the data"
   ]
  },
  {
   "cell_type": "code",
   "execution_count": 11,
   "metadata": {
    "ExecuteTime": {
     "end_time": "2021-07-26T16:02:32.340255Z",
     "start_time": "2021-07-26T16:02:32.325295Z"
    }
   },
   "outputs": [
    {
     "data": {
      "text/html": [
       "<div>\n",
       "<style scoped>\n",
       "    .dataframe tbody tr th:only-of-type {\n",
       "        vertical-align: middle;\n",
       "    }\n",
       "\n",
       "    .dataframe tbody tr th {\n",
       "        vertical-align: top;\n",
       "    }\n",
       "\n",
       "    .dataframe thead th {\n",
       "        text-align: right;\n",
       "    }\n",
       "</style>\n",
       "<table border=\"1\" class=\"dataframe\">\n",
       "  <thead>\n",
       "    <tr style=\"text-align: right;\">\n",
       "      <th></th>\n",
       "      <th>city</th>\n",
       "      <th>review_scores_rating</th>\n",
       "      <th>review_scores_cleanliness</th>\n",
       "      <th>property_type</th>\n",
       "      <th>room_type</th>\n",
       "      <th>accommodates</th>\n",
       "      <th>bathrooms</th>\n",
       "      <th>bedrooms</th>\n",
       "      <th>number_of_reviews</th>\n",
       "      <th>bed_type</th>\n",
       "      <th>host_response_rate</th>\n",
       "    </tr>\n",
       "  </thead>\n",
       "  <tbody>\n",
       "    <tr>\n",
       "      <td>4108</td>\n",
       "      <td>Amsterdam</td>\n",
       "      <td>97.0</td>\n",
       "      <td>10.0</td>\n",
       "      <td>Boat</td>\n",
       "      <td>Entire home/apt</td>\n",
       "      <td>4</td>\n",
       "      <td>1.0</td>\n",
       "      <td>2.0</td>\n",
       "      <td>61</td>\n",
       "      <td>Real Bed</td>\n",
       "      <td>100%</td>\n",
       "    </tr>\n",
       "    <tr>\n",
       "      <td>2113</td>\n",
       "      <td>Amsterdam</td>\n",
       "      <td>100.0</td>\n",
       "      <td>10.0</td>\n",
       "      <td>House</td>\n",
       "      <td>Entire home/apt</td>\n",
       "      <td>5</td>\n",
       "      <td>2.5</td>\n",
       "      <td>3.0</td>\n",
       "      <td>2</td>\n",
       "      <td>Real Bed</td>\n",
       "      <td>100%</td>\n",
       "    </tr>\n",
       "    <tr>\n",
       "      <td>8533</td>\n",
       "      <td>Amsterdam</td>\n",
       "      <td>85.0</td>\n",
       "      <td>9.0</td>\n",
       "      <td>Apartment</td>\n",
       "      <td>Entire home/apt</td>\n",
       "      <td>4</td>\n",
       "      <td>1.5</td>\n",
       "      <td>2.0</td>\n",
       "      <td>11</td>\n",
       "      <td>Real Bed</td>\n",
       "      <td>100%</td>\n",
       "    </tr>\n",
       "    <tr>\n",
       "      <td>11234</td>\n",
       "      <td>Amsterdam</td>\n",
       "      <td>91.0</td>\n",
       "      <td>9.0</td>\n",
       "      <td>Apartment</td>\n",
       "      <td>Entire home/apt</td>\n",
       "      <td>4</td>\n",
       "      <td>1.5</td>\n",
       "      <td>1.0</td>\n",
       "      <td>23</td>\n",
       "      <td>Real Bed</td>\n",
       "      <td>0%</td>\n",
       "    </tr>\n",
       "    <tr>\n",
       "      <td>18776</td>\n",
       "      <td>Amsterdam</td>\n",
       "      <td>90.0</td>\n",
       "      <td>7.0</td>\n",
       "      <td>Apartment</td>\n",
       "      <td>Entire home/apt</td>\n",
       "      <td>3</td>\n",
       "      <td>1.0</td>\n",
       "      <td>1.0</td>\n",
       "      <td>3</td>\n",
       "      <td>Real Bed</td>\n",
       "      <td>100%</td>\n",
       "    </tr>\n",
       "  </tbody>\n",
       "</table>\n",
       "</div>"
      ],
      "text/plain": [
       "            city  review_scores_rating  review_scores_cleanliness  \\\n",
       "4108   Amsterdam                  97.0                       10.0   \n",
       "2113   Amsterdam                 100.0                       10.0   \n",
       "8533   Amsterdam                  85.0                        9.0   \n",
       "11234  Amsterdam                  91.0                        9.0   \n",
       "18776  Amsterdam                  90.0                        7.0   \n",
       "\n",
       "      property_type        room_type  accommodates  bathrooms  bedrooms  \\\n",
       "4108           Boat  Entire home/apt             4        1.0       2.0   \n",
       "2113          House  Entire home/apt             5        2.5       3.0   \n",
       "8533      Apartment  Entire home/apt             4        1.5       2.0   \n",
       "11234     Apartment  Entire home/apt             4        1.5       1.0   \n",
       "18776     Apartment  Entire home/apt             3        1.0       1.0   \n",
       "\n",
       "       number_of_reviews  bed_type host_response_rate  \n",
       "4108                  61  Real Bed               100%  \n",
       "2113                   2  Real Bed               100%  \n",
       "8533                  11  Real Bed               100%  \n",
       "11234                 23  Real Bed                 0%  \n",
       "18776                  3  Real Bed               100%  "
      ]
     },
     "execution_count": 11,
     "metadata": {},
     "output_type": "execute_result"
    }
   ],
   "source": [
    "X_train.head()"
   ]
  },
  {
   "cell_type": "markdown",
   "metadata": {},
   "source": [
    "Let's look at the dimentions"
   ]
  },
  {
   "cell_type": "code",
   "execution_count": 12,
   "metadata": {
    "ExecuteTime": {
     "end_time": "2021-07-26T16:02:33.966233Z",
     "start_time": "2021-07-26T16:02:33.960250Z"
    }
   },
   "outputs": [
    {
     "data": {
      "text/plain": [
       "((15695, 11), (15695,))"
      ]
     },
     "execution_count": 12,
     "metadata": {},
     "output_type": "execute_result"
    }
   ],
   "source": [
    "X_train.shape,y_train.shape"
   ]
  },
  {
   "cell_type": "markdown",
   "metadata": {},
   "source": [
    "Let's look at the numerical information of the trainset features and target variable"
   ]
  },
  {
   "cell_type": "code",
   "execution_count": 13,
   "metadata": {
    "ExecuteTime": {
     "end_time": "2021-07-26T16:02:34.740705Z",
     "start_time": "2021-07-26T16:02:34.706763Z"
    }
   },
   "outputs": [
    {
     "data": {
      "text/html": [
       "<div>\n",
       "<style scoped>\n",
       "    .dataframe tbody tr th:only-of-type {\n",
       "        vertical-align: middle;\n",
       "    }\n",
       "\n",
       "    .dataframe tbody tr th {\n",
       "        vertical-align: top;\n",
       "    }\n",
       "\n",
       "    .dataframe thead th {\n",
       "        text-align: right;\n",
       "    }\n",
       "</style>\n",
       "<table border=\"1\" class=\"dataframe\">\n",
       "  <thead>\n",
       "    <tr style=\"text-align: right;\">\n",
       "      <th></th>\n",
       "      <th>review_scores_rating</th>\n",
       "      <th>review_scores_cleanliness</th>\n",
       "      <th>accommodates</th>\n",
       "      <th>bathrooms</th>\n",
       "      <th>bedrooms</th>\n",
       "      <th>number_of_reviews</th>\n",
       "    </tr>\n",
       "  </thead>\n",
       "  <tbody>\n",
       "    <tr>\n",
       "      <td>count</td>\n",
       "      <td>13738.000000</td>\n",
       "      <td>13732.000000</td>\n",
       "      <td>15695.000000</td>\n",
       "      <td>15688.000000</td>\n",
       "      <td>15687.000000</td>\n",
       "      <td>15695.000000</td>\n",
       "    </tr>\n",
       "    <tr>\n",
       "      <td>mean</td>\n",
       "      <td>94.945189</td>\n",
       "      <td>9.473347</td>\n",
       "      <td>2.884677</td>\n",
       "      <td>1.134944</td>\n",
       "      <td>1.446484</td>\n",
       "      <td>23.162408</td>\n",
       "    </tr>\n",
       "    <tr>\n",
       "      <td>std</td>\n",
       "      <td>6.700922</td>\n",
       "      <td>0.868670</td>\n",
       "      <td>1.318310</td>\n",
       "      <td>0.356243</td>\n",
       "      <td>0.894285</td>\n",
       "      <td>47.532541</td>\n",
       "    </tr>\n",
       "    <tr>\n",
       "      <td>min</td>\n",
       "      <td>20.000000</td>\n",
       "      <td>2.000000</td>\n",
       "      <td>1.000000</td>\n",
       "      <td>0.000000</td>\n",
       "      <td>0.000000</td>\n",
       "      <td>0.000000</td>\n",
       "    </tr>\n",
       "    <tr>\n",
       "      <td>25%</td>\n",
       "      <td>93.000000</td>\n",
       "      <td>9.000000</td>\n",
       "      <td>2.000000</td>\n",
       "      <td>1.000000</td>\n",
       "      <td>1.000000</td>\n",
       "      <td>3.000000</td>\n",
       "    </tr>\n",
       "    <tr>\n",
       "      <td>50%</td>\n",
       "      <td>97.000000</td>\n",
       "      <td>10.000000</td>\n",
       "      <td>2.000000</td>\n",
       "      <td>1.000000</td>\n",
       "      <td>1.000000</td>\n",
       "      <td>9.000000</td>\n",
       "    </tr>\n",
       "    <tr>\n",
       "      <td>75%</td>\n",
       "      <td>100.000000</td>\n",
       "      <td>10.000000</td>\n",
       "      <td>4.000000</td>\n",
       "      <td>1.000000</td>\n",
       "      <td>2.000000</td>\n",
       "      <td>23.000000</td>\n",
       "    </tr>\n",
       "    <tr>\n",
       "      <td>max</td>\n",
       "      <td>100.000000</td>\n",
       "      <td>10.000000</td>\n",
       "      <td>17.000000</td>\n",
       "      <td>8.000000</td>\n",
       "      <td>12.000000</td>\n",
       "      <td>733.000000</td>\n",
       "    </tr>\n",
       "  </tbody>\n",
       "</table>\n",
       "</div>"
      ],
      "text/plain": [
       "       review_scores_rating  review_scores_cleanliness  accommodates  \\\n",
       "count          13738.000000               13732.000000  15695.000000   \n",
       "mean              94.945189                   9.473347      2.884677   \n",
       "std                6.700922                   0.868670      1.318310   \n",
       "min               20.000000                   2.000000      1.000000   \n",
       "25%               93.000000                   9.000000      2.000000   \n",
       "50%               97.000000                  10.000000      2.000000   \n",
       "75%              100.000000                  10.000000      4.000000   \n",
       "max              100.000000                  10.000000     17.000000   \n",
       "\n",
       "          bathrooms      bedrooms  number_of_reviews  \n",
       "count  15688.000000  15687.000000       15695.000000  \n",
       "mean       1.134944      1.446484          23.162408  \n",
       "std        0.356243      0.894285          47.532541  \n",
       "min        0.000000      0.000000           0.000000  \n",
       "25%        1.000000      1.000000           3.000000  \n",
       "50%        1.000000      1.000000           9.000000  \n",
       "75%        1.000000      2.000000          23.000000  \n",
       "max        8.000000     12.000000         733.000000  "
      ]
     },
     "execution_count": 13,
     "metadata": {},
     "output_type": "execute_result"
    }
   ],
   "source": [
    "X_train.describe()\n",
    "\n"
   ]
  },
  {
   "cell_type": "markdown",
   "metadata": {
    "ExecuteTime": {
     "end_time": "2021-07-20T13:55:51.729396Z",
     "start_time": "2021-07-20T13:55:51.612708Z"
    }
   },
   "source": [
    "There's a problem with the type of data of target variable 'price'.  \n",
    "Instead of float is string.\n"
   ]
  },
  {
   "cell_type": "code",
   "execution_count": 14,
   "metadata": {
    "ExecuteTime": {
     "end_time": "2021-07-26T16:02:35.064849Z",
     "start_time": "2021-07-26T16:02:35.058866Z"
    }
   },
   "outputs": [
    {
     "name": "stdout",
     "output_type": "stream",
     "text": [
      "the type of data of the target variable is <class 'str'>\n"
     ]
    }
   ],
   "source": [
    "print(f\"the type of data of the target variable is {type(y_train[0])}\")\n"
   ]
  },
  {
   "cell_type": "code",
   "execution_count": 15,
   "metadata": {
    "ExecuteTime": {
     "end_time": "2021-07-26T16:02:35.541789Z",
     "start_time": "2021-07-26T16:02:35.516857Z"
    }
   },
   "outputs": [],
   "source": [
    "def change_price(my_string):\n",
    "    \n",
    "    return float(my_string[1:].replace(',',''))\n",
    "\n",
    "y_train = y_train.apply(change_price)\n",
    "y_test = y_test.apply(change_price)\n"
   ]
  },
  {
   "cell_type": "code",
   "execution_count": 16,
   "metadata": {
    "ExecuteTime": {
     "end_time": "2021-07-26T16:02:35.566722Z",
     "start_time": "2021-07-26T16:02:35.556751Z"
    }
   },
   "outputs": [
    {
     "data": {
      "text/plain": [
       "count    15695.000000\n",
       "mean       155.300287\n",
       "std        142.763319\n",
       "min          0.000000\n",
       "25%         99.000000\n",
       "50%        129.000000\n",
       "75%        179.000000\n",
       "max       8915.000000\n",
       "Name: price, dtype: float64"
      ]
     },
     "execution_count": 16,
     "metadata": {},
     "output_type": "execute_result"
    }
   ],
   "source": [
    "y_train.describe()"
   ]
  },
  {
   "cell_type": "markdown",
   "metadata": {},
   "source": [
    "Its weird that the minimum value of price is 0 (no free lunch).  \n"
   ]
  },
  {
   "cell_type": "code",
   "execution_count": 17,
   "metadata": {
    "ExecuteTime": {
     "end_time": "2021-07-26T16:02:35.900099Z",
     "start_time": "2021-07-26T16:02:35.879155Z"
    }
   },
   "outputs": [],
   "source": [
    "df['price'] = df['price'].apply(change_price)\n"
   ]
  },
  {
   "cell_type": "code",
   "execution_count": 18,
   "metadata": {
    "ExecuteTime": {
     "end_time": "2021-07-26T16:02:36.095575Z",
     "start_time": "2021-07-26T16:02:36.070641Z"
    }
   },
   "outputs": [
    {
     "data": {
      "text/html": [
       "<div>\n",
       "<style scoped>\n",
       "    .dataframe tbody tr th:only-of-type {\n",
       "        vertical-align: middle;\n",
       "    }\n",
       "\n",
       "    .dataframe tbody tr th {\n",
       "        vertical-align: top;\n",
       "    }\n",
       "\n",
       "    .dataframe thead th {\n",
       "        text-align: right;\n",
       "    }\n",
       "</style>\n",
       "<table border=\"1\" class=\"dataframe\">\n",
       "  <thead>\n",
       "    <tr style=\"text-align: right;\">\n",
       "      <th></th>\n",
       "      <th>city</th>\n",
       "      <th>review_scores_rating</th>\n",
       "      <th>review_scores_cleanliness</th>\n",
       "      <th>property_type</th>\n",
       "      <th>room_type</th>\n",
       "      <th>accommodates</th>\n",
       "      <th>bathrooms</th>\n",
       "      <th>bedrooms</th>\n",
       "      <th>number_of_reviews</th>\n",
       "      <th>bed_type</th>\n",
       "      <th>host_response_rate</th>\n",
       "      <th>price</th>\n",
       "    </tr>\n",
       "  </thead>\n",
       "  <tbody>\n",
       "    <tr>\n",
       "      <td>12761</td>\n",
       "      <td>Amsterdam</td>\n",
       "      <td>95.0</td>\n",
       "      <td>10.0</td>\n",
       "      <td>Apartment</td>\n",
       "      <td>Entire home/apt</td>\n",
       "      <td>2</td>\n",
       "      <td>1.0</td>\n",
       "      <td>0.0</td>\n",
       "      <td>11</td>\n",
       "      <td>Real Bed</td>\n",
       "      <td>100%</td>\n",
       "      <td>0.0</td>\n",
       "    </tr>\n",
       "  </tbody>\n",
       "</table>\n",
       "</div>"
      ],
      "text/plain": [
       "            city  review_scores_rating  review_scores_cleanliness  \\\n",
       "12761  Amsterdam                  95.0                       10.0   \n",
       "\n",
       "      property_type        room_type  accommodates  bathrooms  bedrooms  \\\n",
       "12761     Apartment  Entire home/apt             2        1.0       0.0   \n",
       "\n",
       "       number_of_reviews  bed_type host_response_rate  price  \n",
       "12761                 11  Real Bed               100%    0.0  "
      ]
     },
     "execution_count": 18,
     "metadata": {},
     "output_type": "execute_result"
    }
   ],
   "source": [
    "df[df['price']==0][new_features+['price']]"
   ]
  },
  {
   "cell_type": "markdown",
   "metadata": {},
   "source": [
    "Now let's see the type of data in every column"
   ]
  },
  {
   "cell_type": "code",
   "execution_count": 19,
   "metadata": {
    "ExecuteTime": {
     "end_time": "2021-07-26T16:02:36.351890Z",
     "start_time": "2021-07-26T16:02:36.336932Z"
    }
   },
   "outputs": [
    {
     "name": "stdout",
     "output_type": "stream",
     "text": [
      "<class 'pandas.core.frame.DataFrame'>\n",
      "Int64Index: 15695 entries, 4108 to 15063\n",
      "Data columns (total 11 columns):\n",
      "city                         15692 non-null object\n",
      "review_scores_rating         13738 non-null float64\n",
      "review_scores_cleanliness    13732 non-null float64\n",
      "property_type                15695 non-null object\n",
      "room_type                    15695 non-null object\n",
      "accommodates                 15695 non-null int64\n",
      "bathrooms                    15688 non-null float64\n",
      "bedrooms                     15687 non-null float64\n",
      "number_of_reviews            15695 non-null int64\n",
      "bed_type                     15695 non-null object\n",
      "host_response_rate           9065 non-null object\n",
      "dtypes: float64(4), int64(2), object(5)\n",
      "memory usage: 1.4+ MB\n"
     ]
    }
   ],
   "source": [
    "X_train[new_features].info()"
   ]
  },
  {
   "cell_type": "markdown",
   "metadata": {},
   "source": [
    "We see that host_respose_rate has like 40% of null data.  \n",
    "It could make sense to drop that feature.\n"
   ]
  },
  {
   "cell_type": "markdown",
   "metadata": {},
   "source": [
    "Lets check the unique values in some features"
   ]
  },
  {
   "cell_type": "code",
   "execution_count": 20,
   "metadata": {
    "ExecuteTime": {
     "end_time": "2021-07-26T16:02:36.845739Z",
     "start_time": "2021-07-26T16:02:36.829811Z"
    }
   },
   "outputs": [
    {
     "name": "stdout",
     "output_type": "stream",
     "text": [
      "room_type {'Shared room', 'Entire home/apt', 'Private room'}\n",
      "\n",
      "\n",
      "city {'Amsterdam (Zunderdorp)', nan, 'Nederland', 'Ámsterdam', 'AMSTERDAM', 'Jordaan, Amsterdam', 'Zuiderwoude', 'Halfweg', 'Landsmeer', 'Amsterdão', 'Zeeburg', 'Amstelveen', '1015 SN Amsterdam', 'Amsterdam-Zuidoost', 'Amsterdam West', 'Zeeburgerkade', 'De Pijp', 'Амстердам', 'Jordaan', 'Amsterdam ', 'Watergraafsmeer', 'Amsterdam, Noord-Holland, NL', 'Amsterdam Zuid-Oost', 'Badhoevedorp', 'Diemen', 'amsterdam', '阿姆斯特丹', 'Lijnden', 'Amsterdam', 'Oostzaan', 'Amsterdam Zuidoost', 'Weesp', 'Central Amsterdam', 'North Amsterdam', 'Haarlem', 'Duivendrecht'}\n",
      "\n",
      "\n",
      "property_type {'Island', 'Cabin', 'Bed and breakfast', 'Camper/RV', 'Bungalow', 'Townhouse', 'Other', 'Houseboat', 'Casa particular (Cuba)', 'Hostel', 'Earth house', 'Boutique hotel', 'Guest suite', 'Villa', 'Boat', 'Apartment', 'House', 'Chalet', 'Loft', 'Barn', 'Hotel', 'Campsite', 'Serviced apartment', 'Dome house', 'Condominium', 'Guesthouse', 'Tent', 'Cottage', 'Tiny house', 'Aparthotel', 'Nature lodge'}\n",
      "\n",
      "\n",
      "bed_type {'Futon', 'Real Bed', 'Pull-out Sofa', 'Couch', 'Airbed'}\n",
      "\n",
      "\n"
     ]
    }
   ],
   "source": [
    "for col in categorical:\n",
    "    print(col,set(df[col]))\n",
    "    print('\\n')"
   ]
  },
  {
   "cell_type": "markdown",
   "metadata": {},
   "source": [
    "Now lets look at the distributions of each feature"
   ]
  },
  {
   "cell_type": "code",
   "execution_count": 21,
   "metadata": {
    "ExecuteTime": {
     "end_time": "2021-07-26T16:02:39.778447Z",
     "start_time": "2021-07-26T16:02:37.040259Z"
    }
   },
   "outputs": [
    {
     "name": "stderr",
     "output_type": "stream",
     "text": [
      "No handles with labels found to put in legend.\n"
     ]
    },
    {
     "data": {
      "image/png": "[encoded data removed]",
      "text/plain": [
       "<Figure size 432x288 with 1 Axes>"
      ]
     },
     "metadata": {
      "needs_background": "light"
     },
     "output_type": "display_data"
    },
    {
     "name": "stderr",
     "output_type": "stream",
     "text": [
      "No handles with labels found to put in legend.\n",
      "C:\\Users\\Daniel\\Anaconda3\\lib\\site-packages\\matplotlib\\backends\\backend_agg.py:211: RuntimeWarning: Glyph 38463 missing from current font.\n",
      "  font.set_text(s, 0.0, flags=flags)\n",
      "C:\\Users\\Daniel\\Anaconda3\\lib\\site-packages\\matplotlib\\backends\\backend_agg.py:211: RuntimeWarning: Glyph 22982 missing from current font.\n",
      "  font.set_text(s, 0.0, flags=flags)\n",
      "C:\\Users\\Daniel\\Anaconda3\\lib\\site-packages\\matplotlib\\backends\\backend_agg.py:211: RuntimeWarning: Glyph 26031 missing from current font.\n",
      "  font.set_text(s, 0.0, flags=flags)\n",
      "C:\\Users\\Daniel\\Anaconda3\\lib\\site-packages\\matplotlib\\backends\\backend_agg.py:211: RuntimeWarning: Glyph 29305 missing from current font.\n",
      "  font.set_text(s, 0.0, flags=flags)\n",
      "C:\\Users\\Daniel\\Anaconda3\\lib\\site-packages\\matplotlib\\backends\\backend_agg.py:211: RuntimeWarning: Glyph 20025 missing from current font.\n",
      "  font.set_text(s, 0.0, flags=flags)\n",
      "C:\\Users\\Daniel\\Anaconda3\\lib\\site-packages\\matplotlib\\backends\\backend_agg.py:180: RuntimeWarning: Glyph 38463 missing from current font.\n",
      "  font.set_text(s, 0, flags=flags)\n",
      "C:\\Users\\Daniel\\Anaconda3\\lib\\site-packages\\matplotlib\\backends\\backend_agg.py:180: RuntimeWarning: Glyph 22982 missing from current font.\n",
      "  font.set_text(s, 0, flags=flags)\n",
      "C:\\Users\\Daniel\\Anaconda3\\lib\\site-packages\\matplotlib\\backends\\backend_agg.py:180: RuntimeWarning: Glyph 26031 missing from current font.\n",
      "  font.set_text(s, 0, flags=flags)\n",
      "C:\\Users\\Daniel\\Anaconda3\\lib\\site-packages\\matplotlib\\backends\\backend_agg.py:180: RuntimeWarning: Glyph 29305 missing from current font.\n",
      "  font.set_text(s, 0, flags=flags)\n",
      "C:\\Users\\Daniel\\Anaconda3\\lib\\site-packages\\matplotlib\\backends\\backend_agg.py:180: RuntimeWarning: Glyph 20025 missing from current font.\n",
      "  font.set_text(s, 0, flags=flags)\n"
     ]
    },
    {
     "data": {
      "image/png": "[encoded data removed]",
      "text/plain": [
       "<Figure size 432x288 with 1 Axes>"
      ]
     },
     "metadata": {
      "needs_background": "light"
     },
     "output_type": "display_data"
    },
    {
     "name": "stderr",
     "output_type": "stream",
     "text": [
      "No handles with labels found to put in legend.\n"
     ]
    },
    {
     "data": {
      "image/png": "[encoded data removed]",
      "text/plain": [
       "<Figure size 432x288 with 1 Axes>"
      ]
     },
     "metadata": {
      "needs_background": "light"
     },
     "output_type": "display_data"
    },
    {
     "name": "stderr",
     "output_type": "stream",
     "text": [
      "No handles with labels found to put in legend.\n"
     ]
    },
    {
     "data": {
      "image/png": "[encoded data removed]",
      "text/plain": [
       "<Figure size 432x288 with 1 Axes>"
      ]
     },
     "metadata": {
      "needs_background": "light"
     },
     "output_type": "display_data"
    },
    {
     "name": "stderr",
     "output_type": "stream",
     "text": [
      "No handles with labels found to put in legend.\n"
     ]
    },
    {
     "data": {
      "image/png": "[encoded data removed]",
      "text/plain": [
       "<Figure size 432x288 with 1 Axes>"
      ]
     },
     "metadata": {
      "needs_background": "light"
     },
     "output_type": "display_data"
    },
    {
     "name": "stderr",
     "output_type": "stream",
     "text": [
      "No handles with labels found to put in legend.\n"
     ]
    },
    {
     "data": {
      "image/png": "[encoded data removed]",
      "text/plain": [
       "<Figure size 432x288 with 1 Axes>"
      ]
     },
     "metadata": {
      "needs_background": "light"
     },
     "output_type": "display_data"
    },
    {
     "name": "stderr",
     "output_type": "stream",
     "text": [
      "No handles with labels found to put in legend.\n"
     ]
    },
    {
     "data": {
      "image/png": "[encoded data removed]",
      "text/plain": [
       "<Figure size 432x288 with 1 Axes>"
      ]
     },
     "metadata": {
      "needs_background": "light"
     },
     "output_type": "display_data"
    },
    {
     "name": "stderr",
     "output_type": "stream",
     "text": [
      "No handles with labels found to put in legend.\n"
     ]
    },
    {
     "data": {
      "image/png": "[encoded data removed]",
      "text/plain": [
       "<Figure size 432x288 with 1 Axes>"
      ]
     },
     "metadata": {
      "needs_background": "light"
     },
     "output_type": "display_data"
    },
    {
     "name": "stderr",
     "output_type": "stream",
     "text": [
      "No handles with labels found to put in legend.\n"
     ]
    },
    {
     "data": {
      "image/png": "[encoded data removed]",
      "text/plain": [
       "<Figure size 432x288 with 1 Axes>"
      ]
     },
     "metadata": {
      "needs_background": "light"
     },
     "output_type": "display_data"
    },
    {
     "name": "stderr",
     "output_type": "stream",
     "text": [
      "No handles with labels found to put in legend.\n"
     ]
    },
    {
     "data": {
      "image/png": "[encoded data removed]",
      "text/plain": [
       "<Figure size 432x288 with 1 Axes>"
      ]
     },
     "metadata": {
      "needs_background": "light"
     },
     "output_type": "display_data"
    },
    {
     "name": "stderr",
     "output_type": "stream",
     "text": [
      "No handles with labels found to put in legend.\n"
     ]
    },
    {
     "data": {
      "image/png": "[encoded data removed]",
      "text/plain": [
       "<Figure size 432x288 with 1 Axes>"
      ]
     },
     "metadata": {
      "needs_background": "light"
     },
     "output_type": "display_data"
    }
   ],
   "source": [
    "\n",
    "\n",
    "for col in categorical:\n",
    "    ax = sns.countplot(x = col, data=X_train[X_train[col].notna()])\n",
    "    plt.title(f'Distribution of {col}')\n",
    "    plt.legend()\n",
    "    plt.show()\n",
    "    \n",
    "for col in numerical:\n",
    "    plt.hist(col,data=X_train[X_train[col].notna()])\n",
    "    plt.title(f'Distribution of {col}')\n",
    "    plt.legend()\n",
    "    plt.show()\n",
    "\n",
    "    \n",
    "    "
   ]
  },
  {
   "cell_type": "markdown",
   "metadata": {},
   "source": [
    "Now lets look at the relationship between the variables  \n",
    "First we'll look at the numerical variables"
   ]
  },
  {
   "cell_type": "code",
   "execution_count": null,
   "metadata": {
    "ExecuteTime": {
     "end_time": "2021-07-20T17:22:02.132623Z",
     "start_time": "2021-07-20T17:22:02.125643Z"
    }
   },
   "outputs": [],
   "source": []
  },
  {
   "cell_type": "code",
   "execution_count": 22,
   "metadata": {
    "ExecuteTime": {
     "end_time": "2021-07-26T16:02:40.310025Z",
     "start_time": "2021-07-26T16:02:39.838286Z"
    }
   },
   "outputs": [
    {
     "data": {
      "image/png": "[encoded data removed]",
      "text/plain": [
       "<Figure size 432x288 with 2 Axes>"
      ]
     },
     "metadata": {
      "needs_background": "light"
     },
     "output_type": "display_data"
    }
   ],
   "source": [
    "ax = sns.heatmap(X_train.corr(), annot=True, fmt=\".2f\",  square = True)\n",
    "\n"
   ]
  },
  {
   "cell_type": "markdown",
   "metadata": {
    "ExecuteTime": {
     "end_time": "2021-07-20T16:07:18.800663Z",
     "start_time": "2021-07-20T16:07:18.796673Z"
    }
   },
   "source": [
    "Relationship between all numerical variables including target"
   ]
  },
  {
   "cell_type": "code",
   "execution_count": 23,
   "metadata": {
    "ExecuteTime": {
     "end_time": "2021-07-26T16:02:40.504022Z",
     "start_time": "2021-07-26T16:02:40.382830Z"
    }
   },
   "outputs": [
    {
     "ename": "KeyError",
     "evalue": "\"['price'] not in index\"",
     "output_type": "error",
     "traceback": [
      "\u001b[1;31m---------------------------------------------------------------------------\u001b[0m",
      "\u001b[1;31mKeyError\u001b[0m                                  Traceback (most recent call last)",
      "\u001b[1;32m<ipython-input-23-de678ee22786>\u001b[0m in \u001b[0;36m<module>\u001b[1;34m\u001b[0m\n\u001b[0;32m      1\u001b[0m sns.pairplot(X_train[['review_scores_rating','review_scores_cleanliness', 'accommodates','bathrooms'\\\n\u001b[1;32m----> 2\u001b[1;33m                  ,'number_of_reviews','bedrooms','price']].dropna(), height=2.5);\n\u001b[0m",
      "\u001b[1;32m~\\Anaconda3\\lib\\site-packages\\pandas\\core\\frame.py\u001b[0m in \u001b[0;36m__getitem__\u001b[1;34m(self, key)\u001b[0m\n\u001b[0;32m   2984\u001b[0m             \u001b[1;32mif\u001b[0m \u001b[0mis_iterator\u001b[0m\u001b[1;33m(\u001b[0m\u001b[0mkey\u001b[0m\u001b[1;33m)\u001b[0m\u001b[1;33m:\u001b[0m\u001b[1;33m\u001b[0m\u001b[1;33m\u001b[0m\u001b[0m\n\u001b[0;32m   2985\u001b[0m                 \u001b[0mkey\u001b[0m \u001b[1;33m=\u001b[0m \u001b[0mlist\u001b[0m\u001b[1;33m(\u001b[0m\u001b[0mkey\u001b[0m\u001b[1;33m)\u001b[0m\u001b[1;33m\u001b[0m\u001b[1;33m\u001b[0m\u001b[0m\n\u001b[1;32m-> 2986\u001b[1;33m             \u001b[0mindexer\u001b[0m \u001b[1;33m=\u001b[0m \u001b[0mself\u001b[0m\u001b[1;33m.\u001b[0m\u001b[0mloc\u001b[0m\u001b[1;33m.\u001b[0m\u001b[0m_convert_to_indexer\u001b[0m\u001b[1;33m(\u001b[0m\u001b[0mkey\u001b[0m\u001b[1;33m,\u001b[0m \u001b[0maxis\u001b[0m\u001b[1;33m=\u001b[0m\u001b[1;36m1\u001b[0m\u001b[1;33m,\u001b[0m \u001b[0mraise_missing\u001b[0m\u001b[1;33m=\u001b[0m\u001b[1;32mTrue\u001b[0m\u001b[1;33m)\u001b[0m\u001b[1;33m\u001b[0m\u001b[1;33m\u001b[0m\u001b[0m\n\u001b[0m\u001b[0;32m   2987\u001b[0m \u001b[1;33m\u001b[0m\u001b[0m\n\u001b[0;32m   2988\u001b[0m         \u001b[1;31m# take() does not accept boolean indexers\u001b[0m\u001b[1;33m\u001b[0m\u001b[1;33m\u001b[0m\u001b[1;33m\u001b[0m\u001b[0m\n",
      "\u001b[1;32m~\\Anaconda3\\lib\\site-packages\\pandas\\core\\indexing.py\u001b[0m in \u001b[0;36m_convert_to_indexer\u001b[1;34m(self, obj, axis, is_setter, raise_missing)\u001b[0m\n\u001b[0;32m   1283\u001b[0m                 \u001b[1;31m# When setting, missing keys are not allowed, even with .loc:\u001b[0m\u001b[1;33m\u001b[0m\u001b[1;33m\u001b[0m\u001b[1;33m\u001b[0m\u001b[0m\n\u001b[0;32m   1284\u001b[0m                 \u001b[0mkwargs\u001b[0m \u001b[1;33m=\u001b[0m \u001b[1;33m{\u001b[0m\u001b[1;34m\"raise_missing\"\u001b[0m\u001b[1;33m:\u001b[0m \u001b[1;32mTrue\u001b[0m \u001b[1;32mif\u001b[0m \u001b[0mis_setter\u001b[0m \u001b[1;32melse\u001b[0m \u001b[0mraise_missing\u001b[0m\u001b[1;33m}\u001b[0m\u001b[1;33m\u001b[0m\u001b[1;33m\u001b[0m\u001b[0m\n\u001b[1;32m-> 1285\u001b[1;33m                 \u001b[1;32mreturn\u001b[0m \u001b[0mself\u001b[0m\u001b[1;33m.\u001b[0m\u001b[0m_get_listlike_indexer\u001b[0m\u001b[1;33m(\u001b[0m\u001b[0mobj\u001b[0m\u001b[1;33m,\u001b[0m \u001b[0maxis\u001b[0m\u001b[1;33m,\u001b[0m \u001b[1;33m**\u001b[0m\u001b[0mkwargs\u001b[0m\u001b[1;33m)\u001b[0m\u001b[1;33m[\u001b[0m\u001b[1;36m1\u001b[0m\u001b[1;33m]\u001b[0m\u001b[1;33m\u001b[0m\u001b[1;33m\u001b[0m\u001b[0m\n\u001b[0m\u001b[0;32m   1286\u001b[0m         \u001b[1;32melse\u001b[0m\u001b[1;33m:\u001b[0m\u001b[1;33m\u001b[0m\u001b[1;33m\u001b[0m\u001b[0m\n\u001b[0;32m   1287\u001b[0m             \u001b[1;32mtry\u001b[0m\u001b[1;33m:\u001b[0m\u001b[1;33m\u001b[0m\u001b[1;33m\u001b[0m\u001b[0m\n",
      "\u001b[1;32m~\\Anaconda3\\lib\\site-packages\\pandas\\core\\indexing.py\u001b[0m in \u001b[0;36m_get_listlike_indexer\u001b[1;34m(self, key, axis, raise_missing)\u001b[0m\n\u001b[0;32m   1090\u001b[0m \u001b[1;33m\u001b[0m\u001b[0m\n\u001b[0;32m   1091\u001b[0m         self._validate_read_indexer(\n\u001b[1;32m-> 1092\u001b[1;33m             \u001b[0mkeyarr\u001b[0m\u001b[1;33m,\u001b[0m \u001b[0mindexer\u001b[0m\u001b[1;33m,\u001b[0m \u001b[0mo\u001b[0m\u001b[1;33m.\u001b[0m\u001b[0m_get_axis_number\u001b[0m\u001b[1;33m(\u001b[0m\u001b[0maxis\u001b[0m\u001b[1;33m)\u001b[0m\u001b[1;33m,\u001b[0m \u001b[0mraise_missing\u001b[0m\u001b[1;33m=\u001b[0m\u001b[0mraise_missing\u001b[0m\u001b[1;33m\u001b[0m\u001b[1;33m\u001b[0m\u001b[0m\n\u001b[0m\u001b[0;32m   1093\u001b[0m         )\n\u001b[0;32m   1094\u001b[0m         \u001b[1;32mreturn\u001b[0m \u001b[0mkeyarr\u001b[0m\u001b[1;33m,\u001b[0m \u001b[0mindexer\u001b[0m\u001b[1;33m\u001b[0m\u001b[1;33m\u001b[0m\u001b[0m\n",
      "\u001b[1;32m~\\Anaconda3\\lib\\site-packages\\pandas\\core\\indexing.py\u001b[0m in \u001b[0;36m_validate_read_indexer\u001b[1;34m(self, key, indexer, axis, raise_missing)\u001b[0m\n\u001b[0;32m   1183\u001b[0m             \u001b[1;32mif\u001b[0m \u001b[1;32mnot\u001b[0m \u001b[1;33m(\u001b[0m\u001b[0mself\u001b[0m\u001b[1;33m.\u001b[0m\u001b[0mname\u001b[0m \u001b[1;33m==\u001b[0m \u001b[1;34m\"loc\"\u001b[0m \u001b[1;32mand\u001b[0m \u001b[1;32mnot\u001b[0m \u001b[0mraise_missing\u001b[0m\u001b[1;33m)\u001b[0m\u001b[1;33m:\u001b[0m\u001b[1;33m\u001b[0m\u001b[1;33m\u001b[0m\u001b[0m\n\u001b[0;32m   1184\u001b[0m                 \u001b[0mnot_found\u001b[0m \u001b[1;33m=\u001b[0m \u001b[0mlist\u001b[0m\u001b[1;33m(\u001b[0m\u001b[0mset\u001b[0m\u001b[1;33m(\u001b[0m\u001b[0mkey\u001b[0m\u001b[1;33m)\u001b[0m \u001b[1;33m-\u001b[0m \u001b[0mset\u001b[0m\u001b[1;33m(\u001b[0m\u001b[0max\u001b[0m\u001b[1;33m)\u001b[0m\u001b[1;33m)\u001b[0m\u001b[1;33m\u001b[0m\u001b[1;33m\u001b[0m\u001b[0m\n\u001b[1;32m-> 1185\u001b[1;33m                 \u001b[1;32mraise\u001b[0m \u001b[0mKeyError\u001b[0m\u001b[1;33m(\u001b[0m\u001b[1;34m\"{} not in index\"\u001b[0m\u001b[1;33m.\u001b[0m\u001b[0mformat\u001b[0m\u001b[1;33m(\u001b[0m\u001b[0mnot_found\u001b[0m\u001b[1;33m)\u001b[0m\u001b[1;33m)\u001b[0m\u001b[1;33m\u001b[0m\u001b[1;33m\u001b[0m\u001b[0m\n\u001b[0m\u001b[0;32m   1186\u001b[0m \u001b[1;33m\u001b[0m\u001b[0m\n\u001b[0;32m   1187\u001b[0m             \u001b[1;31m# we skip the warning on Categorical/Interval\u001b[0m\u001b[1;33m\u001b[0m\u001b[1;33m\u001b[0m\u001b[1;33m\u001b[0m\u001b[0m\n",
      "\u001b[1;31mKeyError\u001b[0m: \"['price'] not in index\""
     ]
    }
   ],
   "source": [
    "sns.pairplot(X_train[['review_scores_rating','review_scores_cleanliness', 'accommodates','bathrooms'\\\n",
    "                 ,'number_of_reviews','bedrooms','price']].dropna(), height=2.5);\n"
   ]
  },
  {
   "cell_type": "markdown",
   "metadata": {},
   "source": [
    "QUESTION 7"
   ]
  },
  {
   "cell_type": "markdown",
   "metadata": {},
   "source": [
    "host_response_rate had 2 many null values, so its not useful.  \n",
    "we'll drop it  \n",
    "  \n",
    "  \n",
    "city, bed_type,bathrooms, number_of_reviews have only 1 value with a lot of data, and the rest barely appears on the dataset, so we'll drop those also  \n",
    "\n",
    "review_score_cleanness will be removed since it has a very high correlation with review_scores_rating (makes sense that people wont give a good rating to something not clean)\n"
   ]
  },
  {
   "cell_type": "code",
   "execution_count": null,
   "metadata": {
    "ExecuteTime": {
     "end_time": "2021-07-26T16:02:40.511996Z",
     "start_time": "2021-07-26T16:02:38.202Z"
    }
   },
   "outputs": [],
   "source": [
    "df.drop(columns = ['host_response_rate','city','bed_type','bathrooms','number_of_reviews','review_scores_cleanliness'],inplace=True)\n",
    "X_train.drop(columns = ['host_response_rate','city','bed_type','bathrooms','number_of_reviews','review_scores_cleanliness'],inplace=True)\n",
    "X_test.drop(columns = ['host_response_rate','city','bed_type','bathrooms','number_of_reviews','review_scores_cleanliness'],inplace=True)"
   ]
  },
  {
   "cell_type": "code",
   "execution_count": null,
   "metadata": {
    "ExecuteTime": {
     "end_time": "2021-07-26T16:02:40.517978Z",
     "start_time": "2021-07-26T16:02:38.347Z"
    }
   },
   "outputs": [],
   "source": [
    "df.head()"
   ]
  },
  {
   "cell_type": "markdown",
   "metadata": {
    "id": "R-5dnnqoHrUL"
   },
   "source": [
    "## Part II:\n",
    "   \n",
    "**On your train set alone**\n",
    " \n",
    " 1. Transform your categorical features - explain what your considerations were in ragards to which method you chose.\n",
    " 2. What is the data shape after the transformation? \n",
    " 3. Look at the distribution of all the new features that were added / transformed by you - What can we say about it? Can you spot any redundant features (features with very low cardinality or super un-even distribution, long tail)? Show it.\n",
    " 4. Take care of the redundant features you mentioned in previous question, and explain your steps.\n",
    " \n",
    "**On your test set**\n",
    " 5. Transform the categorical features in the test set, according to the train set. Make sure the test set now has no more and  no less features than the train set, and that they match in name."
   ]
  },
  {
   "cell_type": "markdown",
   "metadata": {},
   "source": [
    "Question 1  \n",
    "Since room_type is a nominal categorical feature, since there's no especific order in hope or private room or shared room, i choose the one-hot-encoding method, since it's the most common to deal with this."
   ]
  },
  {
   "cell_type": "code",
   "execution_count": null,
   "metadata": {
    "ExecuteTime": {
     "end_time": "2021-07-26T16:02:40.521967Z",
     "start_time": "2021-07-26T16:02:38.805Z"
    }
   },
   "outputs": [],
   "source": [
    "X_train = pd.get_dummies(X_train,columns = ['room_type']).drop(columns =['room_type_Shared room'])\n",
    "# didint do drop_first =True because it dropped the column with most \"1\"\n"
   ]
  },
  {
   "cell_type": "code",
   "execution_count": null,
   "metadata": {
    "ExecuteTime": {
     "end_time": "2021-07-26T16:02:40.527951Z",
     "start_time": "2021-07-26T16:02:38.955Z"
    }
   },
   "outputs": [],
   "source": [
    "X_train = pd.get_dummies(X_train,columns = ['property_type'],drop_first=True)\n"
   ]
  },
  {
   "cell_type": "code",
   "execution_count": null,
   "metadata": {
    "ExecuteTime": {
     "end_time": "2021-07-26T16:02:40.531941Z",
     "start_time": "2021-07-26T16:02:39.115Z"
    }
   },
   "outputs": [],
   "source": [
    "X_train"
   ]
  },
  {
   "cell_type": "markdown",
   "metadata": {
    "ExecuteTime": {
     "end_time": "2021-07-20T16:19:54.139409Z",
     "start_time": "2021-07-20T16:19:54.136415Z"
    },
    "id": "yb6o_c2zHrUL"
   },
   "source": [
    "Question 2"
   ]
  },
  {
   "cell_type": "code",
   "execution_count": null,
   "metadata": {
    "ExecuteTime": {
     "end_time": "2021-07-26T16:02:40.535930Z",
     "start_time": "2021-07-26T16:02:39.531Z"
    }
   },
   "outputs": [],
   "source": [
    "print(f'the shape is {X_train.shape}')"
   ]
  },
  {
   "cell_type": "markdown",
   "metadata": {},
   "source": [
    "Question 3"
   ]
  },
  {
   "cell_type": "markdown",
   "metadata": {
    "ExecuteTime": {
     "end_time": "2021-07-20T19:40:56.635813Z",
     "start_time": "2021-07-20T19:40:56.630843Z"
    }
   },
   "source": [
    "DISPLAYING ALL THE DISTRIBUTIONS"
   ]
  },
  {
   "cell_type": "code",
   "execution_count": null,
   "metadata": {
    "ExecuteTime": {
     "end_time": "2021-07-26T16:02:40.538923Z",
     "start_time": "2021-07-26T16:02:40.468Z"
    }
   },
   "outputs": [],
   "source": [
    "for col in (set(X_train.columns)-set(X_test.columns)):\n",
    "    ax = sns.countplot(x = col, data=X_train[X_train[col].notna()])\n",
    "    plt.show()"
   ]
  },
  {
   "cell_type": "markdown",
   "metadata": {},
   "source": [
    "As we see are many new features created from property_type that are almost all the data just zeros 0.  \n",
    "That wont add much information so i'll drop the following columns:  \n",
    "['property_type_Barn',\n",
    " 'property_type_Bed and breakfast',\n",
    " 'property_type_Boat',\n",
    " 'property_type_Boutique hotel',\n",
    " 'property_type_Bungalow',\n",
    " 'property_type_Cabin',\n",
    " 'property_type_Camper/RV',\n",
    " 'property_type_Campsite',\n",
    " 'property_type_Casa particular (Cuba)',\n",
    " 'property_type_Chalet',\n",
    " 'property_type_Condominium',\n",
    " 'property_type_Cottage',\n",
    " 'property_type_Dome house',\n",
    " 'property_type_Earth house',\n",
    " 'property_type_Guest suite',\n",
    " 'property_type_Guesthouse',\n",
    " 'property_type_Hostel',\n",
    " 'property_type_Hotel',\n",
    " 'property_type_Houseboat',\n",
    " 'property_type_Island',\n",
    " 'property_type_Loft',\n",
    " 'property_type_Other',\n",
    " 'property_type_Serviced apartment',\n",
    " 'property_type_Tent',\n",
    " 'property_type_Tiny house',\n",
    " 'property_type_Townhouse',\n",
    " 'property_type_Villa']  \n",
    "   \n",
    "     \n",
    "   \n",
    " In order to do that i'll do a for loop to drop each column besides property...apartment and house, because does could be relevant\n",
    " \n",
    "\n"
   ]
  },
  {
   "cell_type": "code",
   "execution_count": 24,
   "metadata": {
    "ExecuteTime": {
     "end_time": "2021-07-26T16:02:40.858578Z",
     "start_time": "2021-07-26T16:02:40.849603Z"
    }
   },
   "outputs": [],
   "source": [
    "to_drop = []\n",
    "for col in X_train.columns:\n",
    "    #print(col)\n",
    "    if 'property' in col:\n",
    "    \n",
    "        if (('Apartment' not in col) and ('House' not in col)):\n",
    "            to_drop.append(col)\n",
    "        elif ('boat'  in col):\n",
    "            to_drop.append(col)\n",
    "        \n",
    "        \n",
    "for col in to_drop:\n",
    "    X_train.drop(columns=[col],inplace=True)\n",
    "\n",
    "            "
   ]
  },
  {
   "cell_type": "code",
   "execution_count": 25,
   "metadata": {
    "ExecuteTime": {
     "end_time": "2021-07-26T16:02:41.123870Z",
     "start_time": "2021-07-26T16:02:41.084974Z"
    }
   },
   "outputs": [
    {
     "data": {
      "text/html": [
       "<div>\n",
       "<style scoped>\n",
       "    .dataframe tbody tr th:only-of-type {\n",
       "        vertical-align: middle;\n",
       "    }\n",
       "\n",
       "    .dataframe tbody tr th {\n",
       "        vertical-align: top;\n",
       "    }\n",
       "\n",
       "    .dataframe thead th {\n",
       "        text-align: right;\n",
       "    }\n",
       "</style>\n",
       "<table border=\"1\" class=\"dataframe\">\n",
       "  <thead>\n",
       "    <tr style=\"text-align: right;\">\n",
       "      <th></th>\n",
       "      <th>city</th>\n",
       "      <th>review_scores_rating</th>\n",
       "      <th>review_scores_cleanliness</th>\n",
       "      <th>room_type</th>\n",
       "      <th>accommodates</th>\n",
       "      <th>bathrooms</th>\n",
       "      <th>bedrooms</th>\n",
       "      <th>number_of_reviews</th>\n",
       "      <th>bed_type</th>\n",
       "      <th>host_response_rate</th>\n",
       "    </tr>\n",
       "  </thead>\n",
       "  <tbody>\n",
       "    <tr>\n",
       "      <td>4108</td>\n",
       "      <td>Amsterdam</td>\n",
       "      <td>97.0</td>\n",
       "      <td>10.0</td>\n",
       "      <td>Entire home/apt</td>\n",
       "      <td>4</td>\n",
       "      <td>1.0</td>\n",
       "      <td>2.0</td>\n",
       "      <td>61</td>\n",
       "      <td>Real Bed</td>\n",
       "      <td>100%</td>\n",
       "    </tr>\n",
       "    <tr>\n",
       "      <td>2113</td>\n",
       "      <td>Amsterdam</td>\n",
       "      <td>100.0</td>\n",
       "      <td>10.0</td>\n",
       "      <td>Entire home/apt</td>\n",
       "      <td>5</td>\n",
       "      <td>2.5</td>\n",
       "      <td>3.0</td>\n",
       "      <td>2</td>\n",
       "      <td>Real Bed</td>\n",
       "      <td>100%</td>\n",
       "    </tr>\n",
       "    <tr>\n",
       "      <td>8533</td>\n",
       "      <td>Amsterdam</td>\n",
       "      <td>85.0</td>\n",
       "      <td>9.0</td>\n",
       "      <td>Entire home/apt</td>\n",
       "      <td>4</td>\n",
       "      <td>1.5</td>\n",
       "      <td>2.0</td>\n",
       "      <td>11</td>\n",
       "      <td>Real Bed</td>\n",
       "      <td>100%</td>\n",
       "    </tr>\n",
       "    <tr>\n",
       "      <td>11234</td>\n",
       "      <td>Amsterdam</td>\n",
       "      <td>91.0</td>\n",
       "      <td>9.0</td>\n",
       "      <td>Entire home/apt</td>\n",
       "      <td>4</td>\n",
       "      <td>1.5</td>\n",
       "      <td>1.0</td>\n",
       "      <td>23</td>\n",
       "      <td>Real Bed</td>\n",
       "      <td>0%</td>\n",
       "    </tr>\n",
       "    <tr>\n",
       "      <td>18776</td>\n",
       "      <td>Amsterdam</td>\n",
       "      <td>90.0</td>\n",
       "      <td>7.0</td>\n",
       "      <td>Entire home/apt</td>\n",
       "      <td>3</td>\n",
       "      <td>1.0</td>\n",
       "      <td>1.0</td>\n",
       "      <td>3</td>\n",
       "      <td>Real Bed</td>\n",
       "      <td>100%</td>\n",
       "    </tr>\n",
       "    <tr>\n",
       "      <td>...</td>\n",
       "      <td>...</td>\n",
       "      <td>...</td>\n",
       "      <td>...</td>\n",
       "      <td>...</td>\n",
       "      <td>...</td>\n",
       "      <td>...</td>\n",
       "      <td>...</td>\n",
       "      <td>...</td>\n",
       "      <td>...</td>\n",
       "      <td>...</td>\n",
       "    </tr>\n",
       "    <tr>\n",
       "      <td>7832</td>\n",
       "      <td>Amsterdam</td>\n",
       "      <td>99.0</td>\n",
       "      <td>10.0</td>\n",
       "      <td>Private room</td>\n",
       "      <td>1</td>\n",
       "      <td>1.0</td>\n",
       "      <td>1.0</td>\n",
       "      <td>18</td>\n",
       "      <td>Real Bed</td>\n",
       "      <td>100%</td>\n",
       "    </tr>\n",
       "    <tr>\n",
       "      <td>9509</td>\n",
       "      <td>Amsterdam</td>\n",
       "      <td>99.0</td>\n",
       "      <td>10.0</td>\n",
       "      <td>Entire home/apt</td>\n",
       "      <td>4</td>\n",
       "      <td>1.0</td>\n",
       "      <td>1.0</td>\n",
       "      <td>55</td>\n",
       "      <td>Real Bed</td>\n",
       "      <td>100%</td>\n",
       "    </tr>\n",
       "    <tr>\n",
       "      <td>18667</td>\n",
       "      <td>Amsterdam</td>\n",
       "      <td>100.0</td>\n",
       "      <td>10.0</td>\n",
       "      <td>Entire home/apt</td>\n",
       "      <td>2</td>\n",
       "      <td>1.0</td>\n",
       "      <td>1.0</td>\n",
       "      <td>3</td>\n",
       "      <td>Real Bed</td>\n",
       "      <td>100%</td>\n",
       "    </tr>\n",
       "    <tr>\n",
       "      <td>8799</td>\n",
       "      <td>Amsterdam-Zuidoost</td>\n",
       "      <td>98.0</td>\n",
       "      <td>10.0</td>\n",
       "      <td>Entire home/apt</td>\n",
       "      <td>3</td>\n",
       "      <td>1.5</td>\n",
       "      <td>1.0</td>\n",
       "      <td>27</td>\n",
       "      <td>Real Bed</td>\n",
       "      <td>NaN</td>\n",
       "    </tr>\n",
       "    <tr>\n",
       "      <td>15063</td>\n",
       "      <td>Amsterdam</td>\n",
       "      <td>91.0</td>\n",
       "      <td>10.0</td>\n",
       "      <td>Private room</td>\n",
       "      <td>2</td>\n",
       "      <td>1.0</td>\n",
       "      <td>1.0</td>\n",
       "      <td>26</td>\n",
       "      <td>Real Bed</td>\n",
       "      <td>100%</td>\n",
       "    </tr>\n",
       "  </tbody>\n",
       "</table>\n",
       "<p>15695 rows × 10 columns</p>\n",
       "</div>"
      ],
      "text/plain": [
       "                     city  review_scores_rating  review_scores_cleanliness  \\\n",
       "4108            Amsterdam                  97.0                       10.0   \n",
       "2113            Amsterdam                 100.0                       10.0   \n",
       "8533            Amsterdam                  85.0                        9.0   \n",
       "11234           Amsterdam                  91.0                        9.0   \n",
       "18776           Amsterdam                  90.0                        7.0   \n",
       "...                   ...                   ...                        ...   \n",
       "7832            Amsterdam                  99.0                       10.0   \n",
       "9509            Amsterdam                  99.0                       10.0   \n",
       "18667           Amsterdam                 100.0                       10.0   \n",
       "8799   Amsterdam-Zuidoost                  98.0                       10.0   \n",
       "15063           Amsterdam                  91.0                       10.0   \n",
       "\n",
       "             room_type  accommodates  bathrooms  bedrooms  number_of_reviews  \\\n",
       "4108   Entire home/apt             4        1.0       2.0                 61   \n",
       "2113   Entire home/apt             5        2.5       3.0                  2   \n",
       "8533   Entire home/apt             4        1.5       2.0                 11   \n",
       "11234  Entire home/apt             4        1.5       1.0                 23   \n",
       "18776  Entire home/apt             3        1.0       1.0                  3   \n",
       "...                ...           ...        ...       ...                ...   \n",
       "7832      Private room             1        1.0       1.0                 18   \n",
       "9509   Entire home/apt             4        1.0       1.0                 55   \n",
       "18667  Entire home/apt             2        1.0       1.0                  3   \n",
       "8799   Entire home/apt             3        1.5       1.0                 27   \n",
       "15063     Private room             2        1.0       1.0                 26   \n",
       "\n",
       "       bed_type host_response_rate  \n",
       "4108   Real Bed               100%  \n",
       "2113   Real Bed               100%  \n",
       "8533   Real Bed               100%  \n",
       "11234  Real Bed                 0%  \n",
       "18776  Real Bed               100%  \n",
       "...         ...                ...  \n",
       "7832   Real Bed               100%  \n",
       "9509   Real Bed               100%  \n",
       "18667  Real Bed               100%  \n",
       "8799   Real Bed                NaN  \n",
       "15063  Real Bed               100%  \n",
       "\n",
       "[15695 rows x 10 columns]"
      ]
     },
     "execution_count": 25,
     "metadata": {},
     "output_type": "execute_result"
    }
   ],
   "source": [
    "X_train"
   ]
  },
  {
   "cell_type": "markdown",
   "metadata": {},
   "source": [
    "Question 5"
   ]
  },
  {
   "cell_type": "code",
   "execution_count": 26,
   "metadata": {
    "ExecuteTime": {
     "end_time": "2021-07-26T16:02:41.911338Z",
     "start_time": "2021-07-26T16:02:41.905355Z"
    }
   },
   "outputs": [
    {
     "data": {
      "text/plain": [
       "(3924, 11)"
      ]
     },
     "execution_count": 26,
     "metadata": {},
     "output_type": "execute_result"
    }
   ],
   "source": [
    "X_test.shape"
   ]
  },
  {
   "cell_type": "code",
   "execution_count": 32,
   "metadata": {
    "ExecuteTime": {
     "end_time": "2021-07-20T21:03:10.563872Z",
     "start_time": "2021-07-20T21:03:10.542929Z"
    }
   },
   "outputs": [],
   "source": [
    "X_test = pd.get_dummies(X_test,columns = ['room_type']).drop(columns =['room_type_Shared room'])\n",
    "X_test = pd.get_dummies(X_test,columns = ['property_type'],drop_first=True)\n",
    "\n",
    "\n",
    "        \n",
    "        \n",
    "\n",
    "\n"
   ]
  },
  {
   "cell_type": "code",
   "execution_count": 33,
   "metadata": {
    "ExecuteTime": {
     "end_time": "2021-07-20T21:03:10.601770Z",
     "start_time": "2021-07-20T21:03:10.565867Z"
    }
   },
   "outputs": [
    {
     "data": {
      "text/html": [
       "<div>\n",
       "<style scoped>\n",
       "    .dataframe tbody tr th:only-of-type {\n",
       "        vertical-align: middle;\n",
       "    }\n",
       "\n",
       "    .dataframe tbody tr th {\n",
       "        vertical-align: top;\n",
       "    }\n",
       "\n",
       "    .dataframe thead th {\n",
       "        text-align: right;\n",
       "    }\n",
       "</style>\n",
       "<table border=\"1\" class=\"dataframe\">\n",
       "  <thead>\n",
       "    <tr style=\"text-align: right;\">\n",
       "      <th></th>\n",
       "      <th>review_scores_rating</th>\n",
       "      <th>accommodates</th>\n",
       "      <th>bedrooms</th>\n",
       "      <th>room_type_Entire home/apt</th>\n",
       "      <th>room_type_Private room</th>\n",
       "      <th>property_type_Apartment</th>\n",
       "      <th>property_type_Bed and breakfast</th>\n",
       "      <th>property_type_Boat</th>\n",
       "      <th>property_type_Boutique hotel</th>\n",
       "      <th>property_type_Bungalow</th>\n",
       "      <th>...</th>\n",
       "      <th>property_type_Hotel</th>\n",
       "      <th>property_type_House</th>\n",
       "      <th>property_type_Houseboat</th>\n",
       "      <th>property_type_Loft</th>\n",
       "      <th>property_type_Nature lodge</th>\n",
       "      <th>property_type_Other</th>\n",
       "      <th>property_type_Serviced apartment</th>\n",
       "      <th>property_type_Tiny house</th>\n",
       "      <th>property_type_Townhouse</th>\n",
       "      <th>property_type_Villa</th>\n",
       "    </tr>\n",
       "  </thead>\n",
       "  <tbody>\n",
       "    <tr>\n",
       "      <td>14193</td>\n",
       "      <td>100.0</td>\n",
       "      <td>2</td>\n",
       "      <td>1.0</td>\n",
       "      <td>1</td>\n",
       "      <td>0</td>\n",
       "      <td>1</td>\n",
       "      <td>0</td>\n",
       "      <td>0</td>\n",
       "      <td>0</td>\n",
       "      <td>0</td>\n",
       "      <td>...</td>\n",
       "      <td>0</td>\n",
       "      <td>0</td>\n",
       "      <td>0</td>\n",
       "      <td>0</td>\n",
       "      <td>0</td>\n",
       "      <td>0</td>\n",
       "      <td>0</td>\n",
       "      <td>0</td>\n",
       "      <td>0</td>\n",
       "      <td>0</td>\n",
       "    </tr>\n",
       "    <tr>\n",
       "      <td>14561</td>\n",
       "      <td>100.0</td>\n",
       "      <td>3</td>\n",
       "      <td>2.0</td>\n",
       "      <td>1</td>\n",
       "      <td>0</td>\n",
       "      <td>1</td>\n",
       "      <td>0</td>\n",
       "      <td>0</td>\n",
       "      <td>0</td>\n",
       "      <td>0</td>\n",
       "      <td>...</td>\n",
       "      <td>0</td>\n",
       "      <td>0</td>\n",
       "      <td>0</td>\n",
       "      <td>0</td>\n",
       "      <td>0</td>\n",
       "      <td>0</td>\n",
       "      <td>0</td>\n",
       "      <td>0</td>\n",
       "      <td>0</td>\n",
       "      <td>0</td>\n",
       "    </tr>\n",
       "    <tr>\n",
       "      <td>18956</td>\n",
       "      <td>93.0</td>\n",
       "      <td>4</td>\n",
       "      <td>2.0</td>\n",
       "      <td>1</td>\n",
       "      <td>0</td>\n",
       "      <td>1</td>\n",
       "      <td>0</td>\n",
       "      <td>0</td>\n",
       "      <td>0</td>\n",
       "      <td>0</td>\n",
       "      <td>...</td>\n",
       "      <td>0</td>\n",
       "      <td>0</td>\n",
       "      <td>0</td>\n",
       "      <td>0</td>\n",
       "      <td>0</td>\n",
       "      <td>0</td>\n",
       "      <td>0</td>\n",
       "      <td>0</td>\n",
       "      <td>0</td>\n",
       "      <td>0</td>\n",
       "    </tr>\n",
       "    <tr>\n",
       "      <td>9938</td>\n",
       "      <td>97.0</td>\n",
       "      <td>2</td>\n",
       "      <td>1.0</td>\n",
       "      <td>1</td>\n",
       "      <td>0</td>\n",
       "      <td>1</td>\n",
       "      <td>0</td>\n",
       "      <td>0</td>\n",
       "      <td>0</td>\n",
       "      <td>0</td>\n",
       "      <td>...</td>\n",
       "      <td>0</td>\n",
       "      <td>0</td>\n",
       "      <td>0</td>\n",
       "      <td>0</td>\n",
       "      <td>0</td>\n",
       "      <td>0</td>\n",
       "      <td>0</td>\n",
       "      <td>0</td>\n",
       "      <td>0</td>\n",
       "      <td>0</td>\n",
       "    </tr>\n",
       "    <tr>\n",
       "      <td>15008</td>\n",
       "      <td>96.0</td>\n",
       "      <td>2</td>\n",
       "      <td>1.0</td>\n",
       "      <td>0</td>\n",
       "      <td>1</td>\n",
       "      <td>1</td>\n",
       "      <td>0</td>\n",
       "      <td>0</td>\n",
       "      <td>0</td>\n",
       "      <td>0</td>\n",
       "      <td>...</td>\n",
       "      <td>0</td>\n",
       "      <td>0</td>\n",
       "      <td>0</td>\n",
       "      <td>0</td>\n",
       "      <td>0</td>\n",
       "      <td>0</td>\n",
       "      <td>0</td>\n",
       "      <td>0</td>\n",
       "      <td>0</td>\n",
       "      <td>0</td>\n",
       "    </tr>\n",
       "    <tr>\n",
       "      <td>...</td>\n",
       "      <td>...</td>\n",
       "      <td>...</td>\n",
       "      <td>...</td>\n",
       "      <td>...</td>\n",
       "      <td>...</td>\n",
       "      <td>...</td>\n",
       "      <td>...</td>\n",
       "      <td>...</td>\n",
       "      <td>...</td>\n",
       "      <td>...</td>\n",
       "      <td>...</td>\n",
       "      <td>...</td>\n",
       "      <td>...</td>\n",
       "      <td>...</td>\n",
       "      <td>...</td>\n",
       "      <td>...</td>\n",
       "      <td>...</td>\n",
       "      <td>...</td>\n",
       "      <td>...</td>\n",
       "      <td>...</td>\n",
       "      <td>...</td>\n",
       "    </tr>\n",
       "    <tr>\n",
       "      <td>8595</td>\n",
       "      <td>96.0</td>\n",
       "      <td>2</td>\n",
       "      <td>1.0</td>\n",
       "      <td>1</td>\n",
       "      <td>0</td>\n",
       "      <td>1</td>\n",
       "      <td>0</td>\n",
       "      <td>0</td>\n",
       "      <td>0</td>\n",
       "      <td>0</td>\n",
       "      <td>...</td>\n",
       "      <td>0</td>\n",
       "      <td>0</td>\n",
       "      <td>0</td>\n",
       "      <td>0</td>\n",
       "      <td>0</td>\n",
       "      <td>0</td>\n",
       "      <td>0</td>\n",
       "      <td>0</td>\n",
       "      <td>0</td>\n",
       "      <td>0</td>\n",
       "    </tr>\n",
       "    <tr>\n",
       "      <td>10697</td>\n",
       "      <td>98.0</td>\n",
       "      <td>2</td>\n",
       "      <td>1.0</td>\n",
       "      <td>1</td>\n",
       "      <td>0</td>\n",
       "      <td>0</td>\n",
       "      <td>0</td>\n",
       "      <td>0</td>\n",
       "      <td>0</td>\n",
       "      <td>0</td>\n",
       "      <td>...</td>\n",
       "      <td>0</td>\n",
       "      <td>0</td>\n",
       "      <td>0</td>\n",
       "      <td>1</td>\n",
       "      <td>0</td>\n",
       "      <td>0</td>\n",
       "      <td>0</td>\n",
       "      <td>0</td>\n",
       "      <td>0</td>\n",
       "      <td>0</td>\n",
       "    </tr>\n",
       "    <tr>\n",
       "      <td>15793</td>\n",
       "      <td>100.0</td>\n",
       "      <td>2</td>\n",
       "      <td>1.0</td>\n",
       "      <td>1</td>\n",
       "      <td>0</td>\n",
       "      <td>0</td>\n",
       "      <td>0</td>\n",
       "      <td>0</td>\n",
       "      <td>0</td>\n",
       "      <td>0</td>\n",
       "      <td>...</td>\n",
       "      <td>0</td>\n",
       "      <td>1</td>\n",
       "      <td>0</td>\n",
       "      <td>0</td>\n",
       "      <td>0</td>\n",
       "      <td>0</td>\n",
       "      <td>0</td>\n",
       "      <td>0</td>\n",
       "      <td>0</td>\n",
       "      <td>0</td>\n",
       "    </tr>\n",
       "    <tr>\n",
       "      <td>569</td>\n",
       "      <td>96.0</td>\n",
       "      <td>2</td>\n",
       "      <td>1.0</td>\n",
       "      <td>1</td>\n",
       "      <td>0</td>\n",
       "      <td>1</td>\n",
       "      <td>0</td>\n",
       "      <td>0</td>\n",
       "      <td>0</td>\n",
       "      <td>0</td>\n",
       "      <td>...</td>\n",
       "      <td>0</td>\n",
       "      <td>0</td>\n",
       "      <td>0</td>\n",
       "      <td>0</td>\n",
       "      <td>0</td>\n",
       "      <td>0</td>\n",
       "      <td>0</td>\n",
       "      <td>0</td>\n",
       "      <td>0</td>\n",
       "      <td>0</td>\n",
       "    </tr>\n",
       "    <tr>\n",
       "      <td>58</td>\n",
       "      <td>98.0</td>\n",
       "      <td>2</td>\n",
       "      <td>1.0</td>\n",
       "      <td>1</td>\n",
       "      <td>0</td>\n",
       "      <td>1</td>\n",
       "      <td>0</td>\n",
       "      <td>0</td>\n",
       "      <td>0</td>\n",
       "      <td>0</td>\n",
       "      <td>...</td>\n",
       "      <td>0</td>\n",
       "      <td>0</td>\n",
       "      <td>0</td>\n",
       "      <td>0</td>\n",
       "      <td>0</td>\n",
       "      <td>0</td>\n",
       "      <td>0</td>\n",
       "      <td>0</td>\n",
       "      <td>0</td>\n",
       "      <td>0</td>\n",
       "    </tr>\n",
       "  </tbody>\n",
       "</table>\n",
       "<p>3924 rows × 28 columns</p>\n",
       "</div>"
      ],
      "text/plain": [
       "       review_scores_rating  accommodates  bedrooms  \\\n",
       "14193                 100.0             2       1.0   \n",
       "14561                 100.0             3       2.0   \n",
       "18956                  93.0             4       2.0   \n",
       "9938                   97.0             2       1.0   \n",
       "15008                  96.0             2       1.0   \n",
       "...                     ...           ...       ...   \n",
       "8595                   96.0             2       1.0   \n",
       "10697                  98.0             2       1.0   \n",
       "15793                 100.0             2       1.0   \n",
       "569                    96.0             2       1.0   \n",
       "58                     98.0             2       1.0   \n",
       "\n",
       "       room_type_Entire home/apt  room_type_Private room  \\\n",
       "14193                          1                       0   \n",
       "14561                          1                       0   \n",
       "18956                          1                       0   \n",
       "9938                           1                       0   \n",
       "15008                          0                       1   \n",
       "...                          ...                     ...   \n",
       "8595                           1                       0   \n",
       "10697                          1                       0   \n",
       "15793                          1                       0   \n",
       "569                            1                       0   \n",
       "58                             1                       0   \n",
       "\n",
       "       property_type_Apartment  property_type_Bed and breakfast  \\\n",
       "14193                        1                                0   \n",
       "14561                        1                                0   \n",
       "18956                        1                                0   \n",
       "9938                         1                                0   \n",
       "15008                        1                                0   \n",
       "...                        ...                              ...   \n",
       "8595                         1                                0   \n",
       "10697                        0                                0   \n",
       "15793                        0                                0   \n",
       "569                          1                                0   \n",
       "58                           1                                0   \n",
       "\n",
       "       property_type_Boat  property_type_Boutique hotel  \\\n",
       "14193                   0                             0   \n",
       "14561                   0                             0   \n",
       "18956                   0                             0   \n",
       "9938                    0                             0   \n",
       "15008                   0                             0   \n",
       "...                   ...                           ...   \n",
       "8595                    0                             0   \n",
       "10697                   0                             0   \n",
       "15793                   0                             0   \n",
       "569                     0                             0   \n",
       "58                      0                             0   \n",
       "\n",
       "       property_type_Bungalow  ...  property_type_Hotel  property_type_House  \\\n",
       "14193                       0  ...                    0                    0   \n",
       "14561                       0  ...                    0                    0   \n",
       "18956                       0  ...                    0                    0   \n",
       "9938                        0  ...                    0                    0   \n",
       "15008                       0  ...                    0                    0   \n",
       "...                       ...  ...                  ...                  ...   \n",
       "8595                        0  ...                    0                    0   \n",
       "10697                       0  ...                    0                    0   \n",
       "15793                       0  ...                    0                    1   \n",
       "569                         0  ...                    0                    0   \n",
       "58                          0  ...                    0                    0   \n",
       "\n",
       "       property_type_Houseboat  property_type_Loft  \\\n",
       "14193                        0                   0   \n",
       "14561                        0                   0   \n",
       "18956                        0                   0   \n",
       "9938                         0                   0   \n",
       "15008                        0                   0   \n",
       "...                        ...                 ...   \n",
       "8595                         0                   0   \n",
       "10697                        0                   1   \n",
       "15793                        0                   0   \n",
       "569                          0                   0   \n",
       "58                           0                   0   \n",
       "\n",
       "       property_type_Nature lodge  property_type_Other  \\\n",
       "14193                           0                    0   \n",
       "14561                           0                    0   \n",
       "18956                           0                    0   \n",
       "9938                            0                    0   \n",
       "15008                           0                    0   \n",
       "...                           ...                  ...   \n",
       "8595                            0                    0   \n",
       "10697                           0                    0   \n",
       "15793                           0                    0   \n",
       "569                             0                    0   \n",
       "58                              0                    0   \n",
       "\n",
       "       property_type_Serviced apartment  property_type_Tiny house  \\\n",
       "14193                                 0                         0   \n",
       "14561                                 0                         0   \n",
       "18956                                 0                         0   \n",
       "9938                                  0                         0   \n",
       "15008                                 0                         0   \n",
       "...                                 ...                       ...   \n",
       "8595                                  0                         0   \n",
       "10697                                 0                         0   \n",
       "15793                                 0                         0   \n",
       "569                                   0                         0   \n",
       "58                                    0                         0   \n",
       "\n",
       "       property_type_Townhouse  property_type_Villa  \n",
       "14193                        0                    0  \n",
       "14561                        0                    0  \n",
       "18956                        0                    0  \n",
       "9938                         0                    0  \n",
       "15008                        0                    0  \n",
       "...                        ...                  ...  \n",
       "8595                         0                    0  \n",
       "10697                        0                    0  \n",
       "15793                        0                    0  \n",
       "569                          0                    0  \n",
       "58                           0                    0  \n",
       "\n",
       "[3924 rows x 28 columns]"
      ]
     },
     "execution_count": 33,
     "metadata": {},
     "output_type": "execute_result"
    }
   ],
   "source": [
    "X_test"
   ]
  },
  {
   "cell_type": "code",
   "execution_count": 34,
   "metadata": {
    "ExecuteTime": {
     "end_time": "2021-07-20T21:03:10.635680Z",
     "start_time": "2021-07-20T21:03:10.603767Z"
    }
   },
   "outputs": [
    {
     "name": "stdout",
     "output_type": "stream",
     "text": [
      "['property_type_Bed and breakfast', 'property_type_Boat', 'property_type_Boutique hotel', 'property_type_Bungalow', 'property_type_Cabin', 'property_type_Campsite', 'property_type_Casa particular (Cuba)', 'property_type_Chalet', 'property_type_Condominium', 'property_type_Guest suite', 'property_type_Guesthouse', 'property_type_Hostel', 'property_type_Hotel', 'property_type_Houseboat', 'property_type_Loft', 'property_type_Nature lodge', 'property_type_Other', 'property_type_Serviced apartment', 'property_type_Tiny house', 'property_type_Townhouse', 'property_type_Villa']\n"
     ]
    }
   ],
   "source": [
    "to_drop = []\n",
    "for col in X_test.columns:\n",
    "    #print(col)\n",
    "    if 'property' in col:\n",
    "    \n",
    "        if (('Apartment' not in col) and ('House' not in col)):\n",
    "            to_drop.append(col)\n",
    "        elif ('boat'  in col):\n",
    "            to_drop.append(col)\n",
    "print(to_drop)       \n",
    "        \n",
    "for col in to_drop:\n",
    "    X_test = X_test.drop(columns=[col])\n",
    "\n",
    "            "
   ]
  },
  {
   "cell_type": "code",
   "execution_count": 35,
   "metadata": {
    "ExecuteTime": {
     "end_time": "2021-07-20T21:03:10.644657Z",
     "start_time": "2021-07-20T21:03:10.637674Z"
    }
   },
   "outputs": [
    {
     "data": {
      "text/plain": [
       "array([ True,  True,  True,  True,  True,  True,  True])"
      ]
     },
     "execution_count": 35,
     "metadata": {},
     "output_type": "execute_result"
    }
   ],
   "source": [
    "X_test.columns == X_train.columns\n"
   ]
  },
  {
   "cell_type": "markdown",
   "metadata": {
    "id": "ZhM5e0-QHrUL"
   },
   "source": [
    "## Part III:\n",
    "\n",
    "**On your train set alone**\n",
    "\n",
    " 1. Transform your numerical features according to the 3 methods: normalization, binning and transformations (choose different features for each method)\n",
    " 2. Explain the logic behind your choice\n",
    " 3. Plot the new distributions to check that your transformation worked\n",
    " \n",
    "**On your test set**\n",
    " 4. Transform the numerical features in the test set, according to the train set. "
   ]
  },
  {
   "cell_type": "code",
   "execution_count": 36,
   "metadata": {
    "ExecuteTime": {
     "end_time": "2021-07-20T21:03:10.668591Z",
     "start_time": "2021-07-20T21:03:10.647648Z"
    },
    "id": "-0nDIVP1HrUL"
   },
   "outputs": [
    {
     "data": {
      "text/html": [
       "<div>\n",
       "<style scoped>\n",
       "    .dataframe tbody tr th:only-of-type {\n",
       "        vertical-align: middle;\n",
       "    }\n",
       "\n",
       "    .dataframe tbody tr th {\n",
       "        vertical-align: top;\n",
       "    }\n",
       "\n",
       "    .dataframe thead th {\n",
       "        text-align: right;\n",
       "    }\n",
       "</style>\n",
       "<table border=\"1\" class=\"dataframe\">\n",
       "  <thead>\n",
       "    <tr style=\"text-align: right;\">\n",
       "      <th></th>\n",
       "      <th>review_scores_rating</th>\n",
       "      <th>accommodates</th>\n",
       "      <th>bedrooms</th>\n",
       "      <th>room_type_Entire home/apt</th>\n",
       "      <th>room_type_Private room</th>\n",
       "      <th>property_type_Apartment</th>\n",
       "      <th>property_type_House</th>\n",
       "    </tr>\n",
       "  </thead>\n",
       "  <tbody>\n",
       "    <tr>\n",
       "      <td>4108</td>\n",
       "      <td>97.0</td>\n",
       "      <td>4</td>\n",
       "      <td>2.0</td>\n",
       "      <td>1</td>\n",
       "      <td>0</td>\n",
       "      <td>0</td>\n",
       "      <td>0</td>\n",
       "    </tr>\n",
       "    <tr>\n",
       "      <td>2113</td>\n",
       "      <td>100.0</td>\n",
       "      <td>5</td>\n",
       "      <td>3.0</td>\n",
       "      <td>1</td>\n",
       "      <td>0</td>\n",
       "      <td>0</td>\n",
       "      <td>1</td>\n",
       "    </tr>\n",
       "    <tr>\n",
       "      <td>8533</td>\n",
       "      <td>85.0</td>\n",
       "      <td>4</td>\n",
       "      <td>2.0</td>\n",
       "      <td>1</td>\n",
       "      <td>0</td>\n",
       "      <td>1</td>\n",
       "      <td>0</td>\n",
       "    </tr>\n",
       "    <tr>\n",
       "      <td>11234</td>\n",
       "      <td>91.0</td>\n",
       "      <td>4</td>\n",
       "      <td>1.0</td>\n",
       "      <td>1</td>\n",
       "      <td>0</td>\n",
       "      <td>1</td>\n",
       "      <td>0</td>\n",
       "    </tr>\n",
       "    <tr>\n",
       "      <td>18776</td>\n",
       "      <td>90.0</td>\n",
       "      <td>3</td>\n",
       "      <td>1.0</td>\n",
       "      <td>1</td>\n",
       "      <td>0</td>\n",
       "      <td>1</td>\n",
       "      <td>0</td>\n",
       "    </tr>\n",
       "    <tr>\n",
       "      <td>...</td>\n",
       "      <td>...</td>\n",
       "      <td>...</td>\n",
       "      <td>...</td>\n",
       "      <td>...</td>\n",
       "      <td>...</td>\n",
       "      <td>...</td>\n",
       "      <td>...</td>\n",
       "    </tr>\n",
       "    <tr>\n",
       "      <td>7832</td>\n",
       "      <td>99.0</td>\n",
       "      <td>1</td>\n",
       "      <td>1.0</td>\n",
       "      <td>0</td>\n",
       "      <td>1</td>\n",
       "      <td>1</td>\n",
       "      <td>0</td>\n",
       "    </tr>\n",
       "    <tr>\n",
       "      <td>9509</td>\n",
       "      <td>99.0</td>\n",
       "      <td>4</td>\n",
       "      <td>1.0</td>\n",
       "      <td>1</td>\n",
       "      <td>0</td>\n",
       "      <td>1</td>\n",
       "      <td>0</td>\n",
       "    </tr>\n",
       "    <tr>\n",
       "      <td>18667</td>\n",
       "      <td>100.0</td>\n",
       "      <td>2</td>\n",
       "      <td>1.0</td>\n",
       "      <td>1</td>\n",
       "      <td>0</td>\n",
       "      <td>1</td>\n",
       "      <td>0</td>\n",
       "    </tr>\n",
       "    <tr>\n",
       "      <td>8799</td>\n",
       "      <td>98.0</td>\n",
       "      <td>3</td>\n",
       "      <td>1.0</td>\n",
       "      <td>1</td>\n",
       "      <td>0</td>\n",
       "      <td>1</td>\n",
       "      <td>0</td>\n",
       "    </tr>\n",
       "    <tr>\n",
       "      <td>15063</td>\n",
       "      <td>91.0</td>\n",
       "      <td>2</td>\n",
       "      <td>1.0</td>\n",
       "      <td>0</td>\n",
       "      <td>1</td>\n",
       "      <td>0</td>\n",
       "      <td>1</td>\n",
       "    </tr>\n",
       "  </tbody>\n",
       "</table>\n",
       "<p>15695 rows × 7 columns</p>\n",
       "</div>"
      ],
      "text/plain": [
       "       review_scores_rating  accommodates  bedrooms  \\\n",
       "4108                   97.0             4       2.0   \n",
       "2113                  100.0             5       3.0   \n",
       "8533                   85.0             4       2.0   \n",
       "11234                  91.0             4       1.0   \n",
       "18776                  90.0             3       1.0   \n",
       "...                     ...           ...       ...   \n",
       "7832                   99.0             1       1.0   \n",
       "9509                   99.0             4       1.0   \n",
       "18667                 100.0             2       1.0   \n",
       "8799                   98.0             3       1.0   \n",
       "15063                  91.0             2       1.0   \n",
       "\n",
       "       room_type_Entire home/apt  room_type_Private room  \\\n",
       "4108                           1                       0   \n",
       "2113                           1                       0   \n",
       "8533                           1                       0   \n",
       "11234                          1                       0   \n",
       "18776                          1                       0   \n",
       "...                          ...                     ...   \n",
       "7832                           0                       1   \n",
       "9509                           1                       0   \n",
       "18667                          1                       0   \n",
       "8799                           1                       0   \n",
       "15063                          0                       1   \n",
       "\n",
       "       property_type_Apartment  property_type_House  \n",
       "4108                         0                    0  \n",
       "2113                         0                    1  \n",
       "8533                         1                    0  \n",
       "11234                        1                    0  \n",
       "18776                        1                    0  \n",
       "...                        ...                  ...  \n",
       "7832                         1                    0  \n",
       "9509                         1                    0  \n",
       "18667                        1                    0  \n",
       "8799                         1                    0  \n",
       "15063                        0                    1  \n",
       "\n",
       "[15695 rows x 7 columns]"
      ]
     },
     "execution_count": 36,
     "metadata": {},
     "output_type": "execute_result"
    }
   ],
   "source": [
    "# your code here\n",
    "X_train"
   ]
  },
  {
   "cell_type": "markdown",
   "metadata": {},
   "source": [
    "Question 1"
   ]
  },
  {
   "cell_type": "code",
   "execution_count": 37,
   "metadata": {
    "ExecuteTime": {
     "end_time": "2021-07-20T21:03:11.819545Z",
     "start_time": "2021-07-20T21:03:10.670586Z"
    }
   },
   "outputs": [
    {
     "data": {
      "image/png": "[encoded data removed]",
      "text/plain": [
       "<Figure size 432x288 with 1 Axes>"
      ]
     },
     "metadata": {
      "needs_background": "light"
     },
     "output_type": "display_data"
    },
    {
     "data": {
      "image/png": "[encoded data removed]",
      "text/plain": [
       "<Figure size 432x288 with 1 Axes>"
      ]
     },
     "metadata": {
      "needs_background": "light"
     },
     "output_type": "display_data"
    },
    {
     "data": {
      "image/png": "[encoded data removed]",
      "text/plain": [
       "<Figure size 432x288 with 1 Axes>"
      ]
     },
     "metadata": {
      "needs_background": "light"
     },
     "output_type": "display_data"
    },
    {
     "data": {
      "image/png": "[encoded data removed]",
      "text/plain": [
       "<Figure size 432x288 with 1 Axes>"
      ]
     },
     "metadata": {
      "needs_background": "light"
     },
     "output_type": "display_data"
    },
    {
     "data": {
      "image/png": "[encoded data removed]",
      "text/plain": [
       "<Figure size 432x288 with 1 Axes>"
      ]
     },
     "metadata": {
      "needs_background": "light"
     },
     "output_type": "display_data"
    },
    {
     "data": {
      "image/png": "[encoded data removed]",
      "text/plain": [
       "<Figure size 432x288 with 1 Axes>"
      ]
     },
     "metadata": {
      "needs_background": "light"
     },
     "output_type": "display_data"
    },
    {
     "data": {
      "image/png": "[encoded data removed]",
      "text/plain": [
       "<Figure size 432x288 with 1 Axes>"
      ]
     },
     "metadata": {
      "needs_background": "light"
     },
     "output_type": "display_data"
    }
   ],
   "source": [
    "for col in X_train.columns:\n",
    "    ax = sns.countplot(x = col, data=X_train[X_train[col].notna()])\n",
    "    plt.show()"
   ]
  },
  {
   "cell_type": "markdown",
   "metadata": {},
   "source": [
    "First of all we'll do binning\n",
    "We'll do this with feature review_scores_rating  \n",
    "First of all i have to deal with the nans it has"
   ]
  },
  {
   "cell_type": "code",
   "execution_count": 38,
   "metadata": {
    "ExecuteTime": {
     "end_time": "2021-07-20T21:03:11.827494Z",
     "start_time": "2021-07-20T21:03:11.821508Z"
    }
   },
   "outputs": [],
   "source": [
    "X_train['review_scores_rating'] = X_train['review_scores_rating'].fillna(X_train['review_scores_rating'].mean())"
   ]
  },
  {
   "cell_type": "code",
   "execution_count": null,
   "metadata": {
    "ExecuteTime": {
     "end_time": "2021-07-20T20:37:38.316862Z",
     "start_time": "2021-07-20T20:37:38.305894Z"
    }
   },
   "outputs": [],
   "source": []
  },
  {
   "cell_type": "code",
   "execution_count": 39,
   "metadata": {
    "ExecuteTime": {
     "end_time": "2021-07-20T21:03:12.041919Z",
     "start_time": "2021-07-20T21:03:11.831480Z"
    }
   },
   "outputs": [
    {
     "name": "stderr",
     "output_type": "stream",
     "text": [
      "C:\\Users\\Daniel\\AppData\\Roaming\\Python\\Python37\\site-packages\\sklearn\\preprocessing\\_discretization.py:222: UserWarning: Bins whose width are too small (i.e., <= 1e-8) in feature 0 are removed. Consider decreasing the number of bins.\n",
      "  'decreasing the number of bins.' % jj)\n"
     ]
    },
    {
     "data": {
      "image/png": "[encoded data removed]",
      "text/plain": [
       "<Figure size 432x288 with 1 Axes>"
      ]
     },
     "metadata": {
      "needs_background": "light"
     },
     "output_type": "display_data"
    }
   ],
   "source": [
    "from sklearn.preprocessing import KBinsDiscretizer\n",
    "est = KBinsDiscretizer(n_bins=10, encode='ordinal', strategy='quantile')\n",
    "\n",
    "est.fit(X_train[['review_scores_rating']])\n",
    "\n",
    "pd.DataFrame(est.transform(X_train[['review_scores_rating']])).plot(kind = 'hist', \\\n",
    "                                                            edgecolor = 'black');\n",
    "plt.title('Dividion to bins of the same size')\n",
    "plt.xlabel('review scores rating')\n",
    "plt.show()\n",
    "\n",
    "X_train['review_scores_rating'] =est.transform(X_train[['review_scores_rating']])"
   ]
  },
  {
   "cell_type": "markdown",
   "metadata": {
    "ExecuteTime": {
     "end_time": "2021-07-20T20:38:45.735929Z",
     "start_time": "2021-07-20T20:38:45.715948Z"
    }
   },
   "source": [
    "Now we'll use the method of transformation. We'll do it for the feature bedrooms that has a skewed distribution  \n",
    "First of all i'll have to fill nans"
   ]
  },
  {
   "cell_type": "code",
   "execution_count": 40,
   "metadata": {
    "ExecuteTime": {
     "end_time": "2021-07-20T21:03:12.049897Z",
     "start_time": "2021-07-20T21:03:12.043913Z"
    }
   },
   "outputs": [],
   "source": [
    "X_train['bedrooms'] = X_train['bedrooms'].fillna(X_train['bedrooms'].median())"
   ]
  },
  {
   "cell_type": "code",
   "execution_count": 41,
   "metadata": {
    "ExecuteTime": {
     "end_time": "2021-07-20T21:03:12.067861Z",
     "start_time": "2021-07-20T21:03:12.053886Z"
    }
   },
   "outputs": [
    {
     "data": {
      "text/plain": [
       "{0.0, 1.0, 2.0, 3.0, 4.0, 5.0, 6.0, 7.0, 8.0, 9.0, 10.0, 11.0, 12.0}"
      ]
     },
     "execution_count": 41,
     "metadata": {},
     "output_type": "execute_result"
    }
   ],
   "source": [
    "set(X_train['bedrooms'])"
   ]
  },
  {
   "cell_type": "code",
   "execution_count": 42,
   "metadata": {
    "ExecuteTime": {
     "end_time": "2021-07-20T21:03:12.098766Z",
     "start_time": "2021-07-20T21:03:12.069845Z"
    }
   },
   "outputs": [
    {
     "data": {
      "text/html": [
       "<div>\n",
       "<style scoped>\n",
       "    .dataframe tbody tr th:only-of-type {\n",
       "        vertical-align: middle;\n",
       "    }\n",
       "\n",
       "    .dataframe tbody tr th {\n",
       "        vertical-align: top;\n",
       "    }\n",
       "\n",
       "    .dataframe thead th {\n",
       "        text-align: right;\n",
       "    }\n",
       "</style>\n",
       "<table border=\"1\" class=\"dataframe\">\n",
       "  <thead>\n",
       "    <tr style=\"text-align: right;\">\n",
       "      <th></th>\n",
       "      <th>review_scores_rating</th>\n",
       "      <th>accommodates</th>\n",
       "      <th>bedrooms</th>\n",
       "      <th>room_type_Entire home/apt</th>\n",
       "      <th>room_type_Private room</th>\n",
       "      <th>property_type_Apartment</th>\n",
       "      <th>property_type_House</th>\n",
       "    </tr>\n",
       "  </thead>\n",
       "  <tbody>\n",
       "    <tr>\n",
       "      <td>4108</td>\n",
       "      <td>5.0</td>\n",
       "      <td>4</td>\n",
       "      <td>1.098612</td>\n",
       "      <td>1</td>\n",
       "      <td>0</td>\n",
       "      <td>0</td>\n",
       "      <td>0</td>\n",
       "    </tr>\n",
       "    <tr>\n",
       "      <td>2113</td>\n",
       "      <td>6.0</td>\n",
       "      <td>5</td>\n",
       "      <td>1.386294</td>\n",
       "      <td>1</td>\n",
       "      <td>0</td>\n",
       "      <td>0</td>\n",
       "      <td>1</td>\n",
       "    </tr>\n",
       "    <tr>\n",
       "      <td>8533</td>\n",
       "      <td>0.0</td>\n",
       "      <td>4</td>\n",
       "      <td>1.098612</td>\n",
       "      <td>1</td>\n",
       "      <td>0</td>\n",
       "      <td>1</td>\n",
       "      <td>0</td>\n",
       "    </tr>\n",
       "    <tr>\n",
       "      <td>11234</td>\n",
       "      <td>1.0</td>\n",
       "      <td>4</td>\n",
       "      <td>0.693147</td>\n",
       "      <td>1</td>\n",
       "      <td>0</td>\n",
       "      <td>1</td>\n",
       "      <td>0</td>\n",
       "    </tr>\n",
       "    <tr>\n",
       "      <td>18776</td>\n",
       "      <td>1.0</td>\n",
       "      <td>3</td>\n",
       "      <td>0.693147</td>\n",
       "      <td>1</td>\n",
       "      <td>0</td>\n",
       "      <td>1</td>\n",
       "      <td>0</td>\n",
       "    </tr>\n",
       "    <tr>\n",
       "      <td>...</td>\n",
       "      <td>...</td>\n",
       "      <td>...</td>\n",
       "      <td>...</td>\n",
       "      <td>...</td>\n",
       "      <td>...</td>\n",
       "      <td>...</td>\n",
       "      <td>...</td>\n",
       "    </tr>\n",
       "    <tr>\n",
       "      <td>7832</td>\n",
       "      <td>6.0</td>\n",
       "      <td>1</td>\n",
       "      <td>0.693147</td>\n",
       "      <td>0</td>\n",
       "      <td>1</td>\n",
       "      <td>1</td>\n",
       "      <td>0</td>\n",
       "    </tr>\n",
       "    <tr>\n",
       "      <td>9509</td>\n",
       "      <td>6.0</td>\n",
       "      <td>4</td>\n",
       "      <td>0.693147</td>\n",
       "      <td>1</td>\n",
       "      <td>0</td>\n",
       "      <td>1</td>\n",
       "      <td>0</td>\n",
       "    </tr>\n",
       "    <tr>\n",
       "      <td>18667</td>\n",
       "      <td>6.0</td>\n",
       "      <td>2</td>\n",
       "      <td>0.693147</td>\n",
       "      <td>1</td>\n",
       "      <td>0</td>\n",
       "      <td>1</td>\n",
       "      <td>0</td>\n",
       "    </tr>\n",
       "    <tr>\n",
       "      <td>8799</td>\n",
       "      <td>6.0</td>\n",
       "      <td>3</td>\n",
       "      <td>0.693147</td>\n",
       "      <td>1</td>\n",
       "      <td>0</td>\n",
       "      <td>1</td>\n",
       "      <td>0</td>\n",
       "    </tr>\n",
       "    <tr>\n",
       "      <td>15063</td>\n",
       "      <td>1.0</td>\n",
       "      <td>2</td>\n",
       "      <td>0.693147</td>\n",
       "      <td>0</td>\n",
       "      <td>1</td>\n",
       "      <td>0</td>\n",
       "      <td>1</td>\n",
       "    </tr>\n",
       "  </tbody>\n",
       "</table>\n",
       "<p>15695 rows × 7 columns</p>\n",
       "</div>"
      ],
      "text/plain": [
       "       review_scores_rating  accommodates  bedrooms  \\\n",
       "4108                    5.0             4  1.098612   \n",
       "2113                    6.0             5  1.386294   \n",
       "8533                    0.0             4  1.098612   \n",
       "11234                   1.0             4  0.693147   \n",
       "18776                   1.0             3  0.693147   \n",
       "...                     ...           ...       ...   \n",
       "7832                    6.0             1  0.693147   \n",
       "9509                    6.0             4  0.693147   \n",
       "18667                   6.0             2  0.693147   \n",
       "8799                    6.0             3  0.693147   \n",
       "15063                   1.0             2  0.693147   \n",
       "\n",
       "       room_type_Entire home/apt  room_type_Private room  \\\n",
       "4108                           1                       0   \n",
       "2113                           1                       0   \n",
       "8533                           1                       0   \n",
       "11234                          1                       0   \n",
       "18776                          1                       0   \n",
       "...                          ...                     ...   \n",
       "7832                           0                       1   \n",
       "9509                           1                       0   \n",
       "18667                          1                       0   \n",
       "8799                           1                       0   \n",
       "15063                          0                       1   \n",
       "\n",
       "       property_type_Apartment  property_type_House  \n",
       "4108                         0                    0  \n",
       "2113                         0                    1  \n",
       "8533                         1                    0  \n",
       "11234                        1                    0  \n",
       "18776                        1                    0  \n",
       "...                        ...                  ...  \n",
       "7832                         1                    0  \n",
       "9509                         1                    0  \n",
       "18667                        1                    0  \n",
       "8799                         1                    0  \n",
       "15063                        0                    1  \n",
       "\n",
       "[15695 rows x 7 columns]"
      ]
     },
     "execution_count": 42,
     "metadata": {},
     "output_type": "execute_result"
    }
   ],
   "source": [
    "from sklearn.preprocessing import FunctionTransformer\n",
    "transformer = FunctionTransformer(np.log1p, validate=True)\n",
    "X_train['bedrooms'] = transformer.transform(X_train[['bedrooms']])\n",
    "X_train"
   ]
  },
  {
   "cell_type": "markdown",
   "metadata": {},
   "source": [
    "Now we'll use normalization for all"
   ]
  },
  {
   "cell_type": "code",
   "execution_count": 43,
   "metadata": {
    "ExecuteTime": {
     "end_time": "2021-07-20T21:03:12.107757Z",
     "start_time": "2021-07-20T21:03:12.101760Z"
    }
   },
   "outputs": [
    {
     "data": {
      "text/plain": [
       "pandas.core.frame.DataFrame"
      ]
     },
     "execution_count": 43,
     "metadata": {},
     "output_type": "execute_result"
    }
   ],
   "source": [
    "type(X_train)"
   ]
  },
  {
   "cell_type": "code",
   "execution_count": 44,
   "metadata": {
    "ExecuteTime": {
     "end_time": "2021-07-20T21:03:12.133674Z",
     "start_time": "2021-07-20T21:03:12.110735Z"
    }
   },
   "outputs": [],
   "source": [
    "from sklearn.preprocessing import StandardScaler, MinMaxScaler, RobustScaler\n",
    "\n",
    "scaler = StandardScaler()\n",
    "scaler.fit(X_train._get_numeric_data())\n",
    "X_train2 = scaler.transform(X_train._get_numeric_data())\n",
    "\n",
    "\n",
    "X_train = pd.DataFrame(data=X_train2, columns=X_train._get_numeric_data().columns)"
   ]
  },
  {
   "cell_type": "code",
   "execution_count": 45,
   "metadata": {
    "ExecuteTime": {
     "end_time": "2021-07-20T21:03:12.154617Z",
     "start_time": "2021-07-20T21:03:12.135667Z"
    }
   },
   "outputs": [
    {
     "data": {
      "text/html": [
       "<div>\n",
       "<style scoped>\n",
       "    .dataframe tbody tr th:only-of-type {\n",
       "        vertical-align: middle;\n",
       "    }\n",
       "\n",
       "    .dataframe tbody tr th {\n",
       "        vertical-align: top;\n",
       "    }\n",
       "\n",
       "    .dataframe thead th {\n",
       "        text-align: right;\n",
       "    }\n",
       "</style>\n",
       "<table border=\"1\" class=\"dataframe\">\n",
       "  <thead>\n",
       "    <tr style=\"text-align: right;\">\n",
       "      <th></th>\n",
       "      <th>review_scores_rating</th>\n",
       "      <th>accommodates</th>\n",
       "      <th>bedrooms</th>\n",
       "      <th>room_type_Entire home/apt</th>\n",
       "      <th>room_type_Private room</th>\n",
       "      <th>property_type_Apartment</th>\n",
       "      <th>property_type_House</th>\n",
       "    </tr>\n",
       "  </thead>\n",
       "  <tbody>\n",
       "    <tr>\n",
       "      <td>0</td>\n",
       "      <td>0.571721</td>\n",
       "      <td>0.846052</td>\n",
       "      <td>0.776740</td>\n",
       "      <td>0.517268</td>\n",
       "      <td>-0.511721</td>\n",
       "      <td>-1.824080</td>\n",
       "      <td>-0.289282</td>\n",
       "    </tr>\n",
       "    <tr>\n",
       "      <td>1</td>\n",
       "      <td>1.042161</td>\n",
       "      <td>1.604623</td>\n",
       "      <td>1.629877</td>\n",
       "      <td>0.517268</td>\n",
       "      <td>-0.511721</td>\n",
       "      <td>-1.824080</td>\n",
       "      <td>3.456829</td>\n",
       "    </tr>\n",
       "    <tr>\n",
       "      <td>2</td>\n",
       "      <td>-1.780477</td>\n",
       "      <td>0.846052</td>\n",
       "      <td>0.776740</td>\n",
       "      <td>0.517268</td>\n",
       "      <td>-0.511721</td>\n",
       "      <td>0.548222</td>\n",
       "      <td>-0.289282</td>\n",
       "    </tr>\n",
       "    <tr>\n",
       "      <td>3</td>\n",
       "      <td>-1.310037</td>\n",
       "      <td>0.846052</td>\n",
       "      <td>-0.425688</td>\n",
       "      <td>0.517268</td>\n",
       "      <td>-0.511721</td>\n",
       "      <td>0.548222</td>\n",
       "      <td>-0.289282</td>\n",
       "    </tr>\n",
       "    <tr>\n",
       "      <td>4</td>\n",
       "      <td>-1.310037</td>\n",
       "      <td>0.087481</td>\n",
       "      <td>-0.425688</td>\n",
       "      <td>0.517268</td>\n",
       "      <td>-0.511721</td>\n",
       "      <td>0.548222</td>\n",
       "      <td>-0.289282</td>\n",
       "    </tr>\n",
       "    <tr>\n",
       "      <td>...</td>\n",
       "      <td>...</td>\n",
       "      <td>...</td>\n",
       "      <td>...</td>\n",
       "      <td>...</td>\n",
       "      <td>...</td>\n",
       "      <td>...</td>\n",
       "      <td>...</td>\n",
       "    </tr>\n",
       "    <tr>\n",
       "      <td>15690</td>\n",
       "      <td>1.042161</td>\n",
       "      <td>-1.429661</td>\n",
       "      <td>-0.425688</td>\n",
       "      <td>-1.933235</td>\n",
       "      <td>1.954188</td>\n",
       "      <td>0.548222</td>\n",
       "      <td>-0.289282</td>\n",
       "    </tr>\n",
       "    <tr>\n",
       "      <td>15691</td>\n",
       "      <td>1.042161</td>\n",
       "      <td>0.846052</td>\n",
       "      <td>-0.425688</td>\n",
       "      <td>0.517268</td>\n",
       "      <td>-0.511721</td>\n",
       "      <td>0.548222</td>\n",
       "      <td>-0.289282</td>\n",
       "    </tr>\n",
       "    <tr>\n",
       "      <td>15692</td>\n",
       "      <td>1.042161</td>\n",
       "      <td>-0.671090</td>\n",
       "      <td>-0.425688</td>\n",
       "      <td>0.517268</td>\n",
       "      <td>-0.511721</td>\n",
       "      <td>0.548222</td>\n",
       "      <td>-0.289282</td>\n",
       "    </tr>\n",
       "    <tr>\n",
       "      <td>15693</td>\n",
       "      <td>1.042161</td>\n",
       "      <td>0.087481</td>\n",
       "      <td>-0.425688</td>\n",
       "      <td>0.517268</td>\n",
       "      <td>-0.511721</td>\n",
       "      <td>0.548222</td>\n",
       "      <td>-0.289282</td>\n",
       "    </tr>\n",
       "    <tr>\n",
       "      <td>15694</td>\n",
       "      <td>-1.310037</td>\n",
       "      <td>-0.671090</td>\n",
       "      <td>-0.425688</td>\n",
       "      <td>-1.933235</td>\n",
       "      <td>1.954188</td>\n",
       "      <td>-1.824080</td>\n",
       "      <td>3.456829</td>\n",
       "    </tr>\n",
       "  </tbody>\n",
       "</table>\n",
       "<p>15695 rows × 7 columns</p>\n",
       "</div>"
      ],
      "text/plain": [
       "       review_scores_rating  accommodates  bedrooms  \\\n",
       "0                  0.571721      0.846052  0.776740   \n",
       "1                  1.042161      1.604623  1.629877   \n",
       "2                 -1.780477      0.846052  0.776740   \n",
       "3                 -1.310037      0.846052 -0.425688   \n",
       "4                 -1.310037      0.087481 -0.425688   \n",
       "...                     ...           ...       ...   \n",
       "15690              1.042161     -1.429661 -0.425688   \n",
       "15691              1.042161      0.846052 -0.425688   \n",
       "15692              1.042161     -0.671090 -0.425688   \n",
       "15693              1.042161      0.087481 -0.425688   \n",
       "15694             -1.310037     -0.671090 -0.425688   \n",
       "\n",
       "       room_type_Entire home/apt  room_type_Private room  \\\n",
       "0                       0.517268               -0.511721   \n",
       "1                       0.517268               -0.511721   \n",
       "2                       0.517268               -0.511721   \n",
       "3                       0.517268               -0.511721   \n",
       "4                       0.517268               -0.511721   \n",
       "...                          ...                     ...   \n",
       "15690                  -1.933235                1.954188   \n",
       "15691                   0.517268               -0.511721   \n",
       "15692                   0.517268               -0.511721   \n",
       "15693                   0.517268               -0.511721   \n",
       "15694                  -1.933235                1.954188   \n",
       "\n",
       "       property_type_Apartment  property_type_House  \n",
       "0                    -1.824080            -0.289282  \n",
       "1                    -1.824080             3.456829  \n",
       "2                     0.548222            -0.289282  \n",
       "3                     0.548222            -0.289282  \n",
       "4                     0.548222            -0.289282  \n",
       "...                        ...                  ...  \n",
       "15690                 0.548222            -0.289282  \n",
       "15691                 0.548222            -0.289282  \n",
       "15692                 0.548222            -0.289282  \n",
       "15693                 0.548222            -0.289282  \n",
       "15694                -1.824080             3.456829  \n",
       "\n",
       "[15695 rows x 7 columns]"
      ]
     },
     "execution_count": 45,
     "metadata": {},
     "output_type": "execute_result"
    }
   ],
   "source": [
    "X_train"
   ]
  },
  {
   "cell_type": "markdown",
   "metadata": {},
   "source": [
    "Now we'll plot the different features"
   ]
  },
  {
   "cell_type": "code",
   "execution_count": 46,
   "metadata": {
    "ExecuteTime": {
     "end_time": "2021-07-20T21:03:13.480071Z",
     "start_time": "2021-07-20T21:03:12.158607Z"
    }
   },
   "outputs": [
    {
     "data": {
      "image/png": "[encoded data removed]",
      "text/plain": [
       "<Figure size 432x288 with 1 Axes>"
      ]
     },
     "metadata": {
      "needs_background": "light"
     },
     "output_type": "display_data"
    },
    {
     "data": {
      "image/png": "[encoded data removed]",
      "text/plain": [
       "<Figure size 432x288 with 1 Axes>"
      ]
     },
     "metadata": {
      "needs_background": "light"
     },
     "output_type": "display_data"
    },
    {
     "data": {
      "image/png": "[encoded data removed]",
      "text/plain": [
       "<Figure size 432x288 with 1 Axes>"
      ]
     },
     "metadata": {
      "needs_background": "light"
     },
     "output_type": "display_data"
    },
    {
     "data": {
      "image/png": "[encoded data removed]",
      "text/plain": [
       "<Figure size 432x288 with 1 Axes>"
      ]
     },
     "metadata": {
      "needs_background": "light"
     },
     "output_type": "display_data"
    },
    {
     "data": {
      "image/png": "[encoded data removed]",
      "text/plain": [
       "<Figure size 432x288 with 1 Axes>"
      ]
     },
     "metadata": {
      "needs_background": "light"
     },
     "output_type": "display_data"
    },
    {
     "data": {
      "image/png": "[encoded data removed]",
      "text/plain": [
       "<Figure size 432x288 with 1 Axes>"
      ]
     },
     "metadata": {
      "needs_background": "light"
     },
     "output_type": "display_data"
    },
    {
     "data": {
      "image/png": "[encoded data removed]",
      "text/plain": [
       "<Figure size 432x288 with 1 Axes>"
      ]
     },
     "metadata": {
      "needs_background": "light"
     },
     "output_type": "display_data"
    }
   ],
   "source": [
    "for col in X_train.columns:\n",
    "    plt.hist(col,data=X_train[X_train[col].notna()])\n",
    "    plt.show()"
   ]
  },
  {
   "cell_type": "markdown",
   "metadata": {},
   "source": [
    "Question 4  \n",
    "\n",
    "First of all i have to fill nan"
   ]
  },
  {
   "cell_type": "code",
   "execution_count": 50,
   "metadata": {
    "ExecuteTime": {
     "end_time": "2021-07-20T21:08:11.794451Z",
     "start_time": "2021-07-20T21:08:11.786508Z"
    }
   },
   "outputs": [],
   "source": [
    "X_test['review_scores_rating'] = X_test['review_scores_rating'].fillna(X_train['review_scores_rating'].mean())\n",
    "X_test['bedrooms'] = X_test['bedrooms'].fillna(X_train['bedrooms'].median())"
   ]
  },
  {
   "cell_type": "markdown",
   "metadata": {},
   "source": [
    "Now we'll use the previous transformations to change this data"
   ]
  },
  {
   "cell_type": "code",
   "execution_count": 51,
   "metadata": {
    "ExecuteTime": {
     "end_time": "2021-07-20T21:08:41.327081Z",
     "start_time": "2021-07-20T21:08:41.319072Z"
    }
   },
   "outputs": [],
   "source": [
    "#using the fit transformation from review_scores_rating\n",
    "X_test['review_scores_rating'] =est.transform(X_test[['review_scores_rating']])"
   ]
  },
  {
   "cell_type": "code",
   "execution_count": 52,
   "metadata": {
    "ExecuteTime": {
     "end_time": "2021-07-20T21:09:31.709593Z",
     "start_time": "2021-07-20T21:09:31.698623Z"
    }
   },
   "outputs": [],
   "source": [
    "X_test['bedrooms'] = transformer.transform(X_test[['bedrooms']])\n"
   ]
  },
  {
   "cell_type": "code",
   "execution_count": 53,
   "metadata": {
    "ExecuteTime": {
     "end_time": "2021-07-20T21:10:22.997516Z",
     "start_time": "2021-07-20T21:10:22.989529Z"
    }
   },
   "outputs": [],
   "source": [
    "X_test2 = scaler.transform(X_test._get_numeric_data())\n",
    "\n",
    "\n",
    "X_test = pd.DataFrame(data=X_test2, columns=X_test._get_numeric_data().columns)"
   ]
  },
  {
   "cell_type": "markdown",
   "metadata": {},
   "source": [
    "And now we have the test transformed according to what we did with the training set"
   ]
  },
  {
   "cell_type": "code",
   "execution_count": 54,
   "metadata": {
    "ExecuteTime": {
     "end_time": "2021-07-20T21:11:12.924508Z",
     "start_time": "2021-07-20T21:11:12.907587Z"
    }
   },
   "outputs": [
    {
     "data": {
      "text/html": [
       "<div>\n",
       "<style scoped>\n",
       "    .dataframe tbody tr th:only-of-type {\n",
       "        vertical-align: middle;\n",
       "    }\n",
       "\n",
       "    .dataframe tbody tr th {\n",
       "        vertical-align: top;\n",
       "    }\n",
       "\n",
       "    .dataframe thead th {\n",
       "        text-align: right;\n",
       "    }\n",
       "</style>\n",
       "<table border=\"1\" class=\"dataframe\">\n",
       "  <thead>\n",
       "    <tr style=\"text-align: right;\">\n",
       "      <th></th>\n",
       "      <th>review_scores_rating</th>\n",
       "      <th>accommodates</th>\n",
       "      <th>bedrooms</th>\n",
       "      <th>room_type_Entire home/apt</th>\n",
       "      <th>room_type_Private room</th>\n",
       "      <th>property_type_Apartment</th>\n",
       "      <th>property_type_House</th>\n",
       "    </tr>\n",
       "  </thead>\n",
       "  <tbody>\n",
       "    <tr>\n",
       "      <td>0</td>\n",
       "      <td>-1.780477</td>\n",
       "      <td>-0.671090</td>\n",
       "      <td>-0.425688</td>\n",
       "      <td>0.517268</td>\n",
       "      <td>-0.511721</td>\n",
       "      <td>0.548222</td>\n",
       "      <td>-0.289282</td>\n",
       "    </tr>\n",
       "    <tr>\n",
       "      <td>1</td>\n",
       "      <td>-1.780477</td>\n",
       "      <td>0.087481</td>\n",
       "      <td>0.776740</td>\n",
       "      <td>0.517268</td>\n",
       "      <td>-0.511721</td>\n",
       "      <td>0.548222</td>\n",
       "      <td>-0.289282</td>\n",
       "    </tr>\n",
       "    <tr>\n",
       "      <td>2</td>\n",
       "      <td>-1.780477</td>\n",
       "      <td>0.846052</td>\n",
       "      <td>0.776740</td>\n",
       "      <td>0.517268</td>\n",
       "      <td>-0.511721</td>\n",
       "      <td>0.548222</td>\n",
       "      <td>-0.289282</td>\n",
       "    </tr>\n",
       "    <tr>\n",
       "      <td>3</td>\n",
       "      <td>-1.780477</td>\n",
       "      <td>-0.671090</td>\n",
       "      <td>-0.425688</td>\n",
       "      <td>0.517268</td>\n",
       "      <td>-0.511721</td>\n",
       "      <td>0.548222</td>\n",
       "      <td>-0.289282</td>\n",
       "    </tr>\n",
       "    <tr>\n",
       "      <td>4</td>\n",
       "      <td>-1.780477</td>\n",
       "      <td>-0.671090</td>\n",
       "      <td>-0.425688</td>\n",
       "      <td>-1.933235</td>\n",
       "      <td>1.954188</td>\n",
       "      <td>0.548222</td>\n",
       "      <td>-0.289282</td>\n",
       "    </tr>\n",
       "    <tr>\n",
       "      <td>...</td>\n",
       "      <td>...</td>\n",
       "      <td>...</td>\n",
       "      <td>...</td>\n",
       "      <td>...</td>\n",
       "      <td>...</td>\n",
       "      <td>...</td>\n",
       "      <td>...</td>\n",
       "    </tr>\n",
       "    <tr>\n",
       "      <td>3919</td>\n",
       "      <td>-1.780477</td>\n",
       "      <td>-0.671090</td>\n",
       "      <td>-0.425688</td>\n",
       "      <td>0.517268</td>\n",
       "      <td>-0.511721</td>\n",
       "      <td>0.548222</td>\n",
       "      <td>-0.289282</td>\n",
       "    </tr>\n",
       "    <tr>\n",
       "      <td>3920</td>\n",
       "      <td>-1.780477</td>\n",
       "      <td>-0.671090</td>\n",
       "      <td>-0.425688</td>\n",
       "      <td>0.517268</td>\n",
       "      <td>-0.511721</td>\n",
       "      <td>-1.824080</td>\n",
       "      <td>-0.289282</td>\n",
       "    </tr>\n",
       "    <tr>\n",
       "      <td>3921</td>\n",
       "      <td>-1.780477</td>\n",
       "      <td>-0.671090</td>\n",
       "      <td>-0.425688</td>\n",
       "      <td>0.517268</td>\n",
       "      <td>-0.511721</td>\n",
       "      <td>-1.824080</td>\n",
       "      <td>3.456829</td>\n",
       "    </tr>\n",
       "    <tr>\n",
       "      <td>3922</td>\n",
       "      <td>-1.780477</td>\n",
       "      <td>-0.671090</td>\n",
       "      <td>-0.425688</td>\n",
       "      <td>0.517268</td>\n",
       "      <td>-0.511721</td>\n",
       "      <td>0.548222</td>\n",
       "      <td>-0.289282</td>\n",
       "    </tr>\n",
       "    <tr>\n",
       "      <td>3923</td>\n",
       "      <td>-1.780477</td>\n",
       "      <td>-0.671090</td>\n",
       "      <td>-0.425688</td>\n",
       "      <td>0.517268</td>\n",
       "      <td>-0.511721</td>\n",
       "      <td>0.548222</td>\n",
       "      <td>-0.289282</td>\n",
       "    </tr>\n",
       "  </tbody>\n",
       "</table>\n",
       "<p>3924 rows × 7 columns</p>\n",
       "</div>"
      ],
      "text/plain": [
       "      review_scores_rating  accommodates  bedrooms  room_type_Entire home/apt  \\\n",
       "0                -1.780477     -0.671090 -0.425688                   0.517268   \n",
       "1                -1.780477      0.087481  0.776740                   0.517268   \n",
       "2                -1.780477      0.846052  0.776740                   0.517268   \n",
       "3                -1.780477     -0.671090 -0.425688                   0.517268   \n",
       "4                -1.780477     -0.671090 -0.425688                  -1.933235   \n",
       "...                    ...           ...       ...                        ...   \n",
       "3919             -1.780477     -0.671090 -0.425688                   0.517268   \n",
       "3920             -1.780477     -0.671090 -0.425688                   0.517268   \n",
       "3921             -1.780477     -0.671090 -0.425688                   0.517268   \n",
       "3922             -1.780477     -0.671090 -0.425688                   0.517268   \n",
       "3923             -1.780477     -0.671090 -0.425688                   0.517268   \n",
       "\n",
       "      room_type_Private room  property_type_Apartment  property_type_House  \n",
       "0                  -0.511721                 0.548222            -0.289282  \n",
       "1                  -0.511721                 0.548222            -0.289282  \n",
       "2                  -0.511721                 0.548222            -0.289282  \n",
       "3                  -0.511721                 0.548222            -0.289282  \n",
       "4                   1.954188                 0.548222            -0.289282  \n",
       "...                      ...                      ...                  ...  \n",
       "3919               -0.511721                 0.548222            -0.289282  \n",
       "3920               -0.511721                -1.824080            -0.289282  \n",
       "3921               -0.511721                -1.824080             3.456829  \n",
       "3922               -0.511721                 0.548222            -0.289282  \n",
       "3923               -0.511721                 0.548222            -0.289282  \n",
       "\n",
       "[3924 rows x 7 columns]"
      ]
     },
     "execution_count": 54,
     "metadata": {},
     "output_type": "execute_result"
    }
   ],
   "source": [
    "X_test"
   ]
  },
  {
   "cell_type": "markdown",
   "metadata": {
    "id": "LDGuEPtJHrUL"
   },
   "source": [
    "<div class=\"alert alert-info\"><b>NOTE:</b> You need to generate a report - write the logic behind every step you take, give your conclusions in a paragraph, and make everything very readable.</div>"
   ]
  }
 ],
 "metadata": {
  "colab": {
   "collapsed_sections": [],
   "name": "Data Preprocessing - Assignment I.ipynb",
   "provenance": []
  },
  "kernelspec": {
   "display_name": "Python 3",
   "language": "python",
   "name": "python3"
  },
  "language_info": {
   "codemirror_mode": {
    "name": "ipython",
    "version": 3
   },
   "file_extension": ".py",
   "mimetype": "text/x-python",
   "name": "python",
   "nbconvert_exporter": "python",
   "pygments_lexer": "ipython3",
   "version": "3.7.4"
  },
  "latex_envs": {
   "LaTeX_envs_menu_present": true,
   "autoclose": false,
   "autocomplete": true,
   "bibliofile": "biblio.bib",
   "cite_by": "apalike",
   "current_citInitial": 1,
   "eqLabelWithNumbers": true,
   "eqNumInitial": 1,
   "hotkeys": {
    "equation": "Ctrl-E",
    "itemize": "Ctrl-I"
   },
   "labels_anchors": false,
   "latex_user_defs": false,
   "report_style_numbering": false,
   "user_envs_cfg": false
  },
  "toc": {
   "base_numbering": 1,
   "nav_menu": {},
   "number_sections": true,
   "sideBar": true,
   "skip_h1_title": false,
   "title_cell": "Table of Contents",
   "title_sidebar": "Contents",
   "toc_cell": false,
   "toc_position": {},
   "toc_section_display": true,
   "toc_window_display": false
  },
  "varInspector": {
   "cols": {
    "lenName": 16,
    "lenType": 16,
    "lenVar": 40
   },
   "kernels_config": {
    "python": {
     "delete_cmd_postfix": "",
     "delete_cmd_prefix": "del ",
     "library": "var_list.py",
     "varRefreshCmd": "print(var_dic_list())"
    },
    "r": {
     "delete_cmd_postfix": ") ",
     "delete_cmd_prefix": "rm(",
     "library": "var_list.r",
     "varRefreshCmd": "cat(var_dic_list()) "
    }
   },
   "types_to_exclude": [
    "module",
    "function",
    "builtin_function_or_method",
    "instance",
    "_Feature"
   ],
   "window_display": false
  }
 },
 "nbformat": 4,
 "nbformat_minor": 1
}
