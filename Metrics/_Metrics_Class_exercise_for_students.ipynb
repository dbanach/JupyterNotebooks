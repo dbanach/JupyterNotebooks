{
 "cells": [
  {
   "cell_type": "markdown",
   "metadata": {
    "id": "mCKSAgVtq_Te"
   },
   "source": [
    "# Metrics - Class exercise"
   ]
  },
  {
   "cell_type": "markdown",
   "metadata": {
    "id": "jlnBKHs1q_Te"
   },
   "source": [
    "## Classification"
   ]
  },
  {
   "cell_type": "markdown",
   "metadata": {
    "id": "i5f-X2F1q_Tf"
   },
   "source": [
    "### Confusion Matrix - Build it yourselves"
   ]
  },
  {
   "cell_type": "markdown",
   "metadata": {
    "id": "Zp4VRaWUq_Tf"
   },
   "source": [
    "##### Building a model and getting predictions"
   ]
  },
  {
   "cell_type": "code",
   "execution_count": 1,
   "metadata": {
    "ExecuteTime": {
     "end_time": "2021-07-27T13:45:54.526401Z",
     "start_time": "2021-07-27T13:45:49.993170Z"
    },
    "id": "dDr_raypq_Tg"
   },
   "outputs": [],
   "source": [
    "from sklearn.datasets import load_breast_cancer\n",
    "from sklearn.datasets import load_boston\n",
    "import pandas as pd\n",
    "from sklearn.model_selection import train_test_split\n",
    "from sklearn.svm import SVC\n",
    "from sklearn.ensemble import RandomForestRegressor\n",
    "import seaborn as sns\n",
    "import matplotlib.pyplot as plt"
   ]
  },
  {
   "cell_type": "code",
   "execution_count": 2,
   "metadata": {
    "ExecuteTime": {
     "end_time": "2021-07-27T13:45:54.586096Z",
     "start_time": "2021-07-27T13:45:54.549208Z"
    },
    "id": "QkN5B9rQq_Th"
   },
   "outputs": [],
   "source": [
    "data = load_breast_cancer()"
   ]
  },
  {
   "cell_type": "code",
   "execution_count": 3,
   "metadata": {
    "ExecuteTime": {
     "end_time": "2021-07-27T13:45:54.619009Z",
     "start_time": "2021-07-27T13:45:54.612028Z"
    },
    "id": "E_2QlulIq_Ti",
    "outputId": "f1e094fa-6e44-4c4c-ee42-0ea6a17afe1b"
   },
   "outputs": [
    {
     "name": "stdout",
     "output_type": "stream",
     "text": [
      ".. _breast_cancer_dataset:\n",
      "\n",
      "Breast cancer wisconsin (diagnostic) dataset\n",
      "--------------------------------------------\n",
      "\n",
      "**Data Set Characteristics:**\n",
      "\n",
      "    :Number of Instances: 569\n",
      "\n",
      "    :Number of Attributes: 30 numeric, predictive attributes and the class\n",
      "\n",
      "    :Attribute Information:\n",
      "        - radius (mean of distances from center to points on the perimeter)\n",
      "        - texture (standard deviation of gray-scale values)\n",
      "        - perimeter\n",
      "        - area\n",
      "        - smoothness (local variation in radius lengths)\n",
      "        - compactness (perimeter^2 / area - 1.0)\n",
      "        - concavity (severity of concave portions of the contour)\n",
      "        - concave points (number of concave portions of the contour)\n",
      "        - symmetry\n",
      "        - fractal dimension (\"coastline approximation\" - 1)\n",
      "\n",
      "        The mean, standard error, and \"worst\" or largest (mean of the three\n",
      "        worst/largest values) of these features were computed for each image,\n",
      "        resulting in 30 features.  For instance, field 0 is Mean Radius, field\n",
      "        10 is Radius SE, field 20 is Worst Radius.\n",
      "\n",
      "        - class:\n",
      "                - WDBC-Malignant\n",
      "                - WDBC-Benign\n",
      "\n",
      "    :Summary Statistics:\n",
      "\n",
      "    ===================================== ====== ======\n",
      "                                           Min    Max\n",
      "    ===================================== ====== ======\n",
      "    radius (mean):                        6.981  28.11\n",
      "    texture (mean):                       9.71   39.28\n",
      "    perimeter (mean):                     43.79  188.5\n",
      "    area (mean):                          143.5  2501.0\n",
      "    smoothness (mean):                    0.053  0.163\n",
      "    compactness (mean):                   0.019  0.345\n",
      "    concavity (mean):                     0.0    0.427\n",
      "    concave points (mean):                0.0    0.201\n",
      "    symmetry (mean):                      0.106  0.304\n",
      "    fractal dimension (mean):             0.05   0.097\n",
      "    radius (standard error):              0.112  2.873\n",
      "    texture (standard error):             0.36   4.885\n",
      "    perimeter (standard error):           0.757  21.98\n",
      "    area (standard error):                6.802  542.2\n",
      "    smoothness (standard error):          0.002  0.031\n",
      "    compactness (standard error):         0.002  0.135\n",
      "    concavity (standard error):           0.0    0.396\n",
      "    concave points (standard error):      0.0    0.053\n",
      "    symmetry (standard error):            0.008  0.079\n",
      "    fractal dimension (standard error):   0.001  0.03\n",
      "    radius (worst):                       7.93   36.04\n",
      "    texture (worst):                      12.02  49.54\n",
      "    perimeter (worst):                    50.41  251.2\n",
      "    area (worst):                         185.2  4254.0\n",
      "    smoothness (worst):                   0.071  0.223\n",
      "    compactness (worst):                  0.027  1.058\n",
      "    concavity (worst):                    0.0    1.252\n",
      "    concave points (worst):               0.0    0.291\n",
      "    symmetry (worst):                     0.156  0.664\n",
      "    fractal dimension (worst):            0.055  0.208\n",
      "    ===================================== ====== ======\n",
      "\n",
      "    :Missing Attribute Values: None\n",
      "\n",
      "    :Class Distribution: 212 - Malignant, 357 - Benign\n",
      "\n",
      "    :Creator:  Dr. William H. Wolberg, W. Nick Street, Olvi L. Mangasarian\n",
      "\n",
      "    :Donor: Nick Street\n",
      "\n",
      "    :Date: November, 1995\n",
      "\n",
      "This is a copy of UCI ML Breast Cancer Wisconsin (Diagnostic) datasets.\n",
      "https://goo.gl/U2Uwz2\n",
      "\n",
      "Features are computed from a digitized image of a fine needle\n",
      "aspirate (FNA) of a breast mass.  They describe\n",
      "characteristics of the cell nuclei present in the image.\n",
      "\n",
      "Separating plane described above was obtained using\n",
      "Multisurface Method-Tree (MSM-T) [K. P. Bennett, \"Decision Tree\n",
      "Construction Via Linear Programming.\" Proceedings of the 4th\n",
      "Midwest Artificial Intelligence and Cognitive Science Society,\n",
      "pp. 97-101, 1992], a classification method which uses linear\n",
      "programming to construct a decision tree.  Relevant features\n",
      "were selected using an exhaustive search in the space of 1-4\n",
      "features and 1-3 separating planes.\n",
      "\n",
      "The actual linear program used to obtain the separating plane\n",
      "in the 3-dimensional space is that described in:\n",
      "[K. P. Bennett and O. L. Mangasarian: \"Robust Linear\n",
      "Programming Discrimination of Two Linearly Inseparable Sets\",\n",
      "Optimization Methods and Software 1, 1992, 23-34].\n",
      "\n",
      "This database is also available through the UW CS ftp server:\n",
      "\n",
      "ftp ftp.cs.wisc.edu\n",
      "cd math-prog/cpo-dataset/machine-learn/WDBC/\n",
      "\n",
      ".. topic:: References\n",
      "\n",
      "   - W.N. Street, W.H. Wolberg and O.L. Mangasarian. Nuclear feature extraction \n",
      "     for breast tumor diagnosis. IS&T/SPIE 1993 International Symposium on \n",
      "     Electronic Imaging: Science and Technology, volume 1905, pages 861-870,\n",
      "     San Jose, CA, 1993.\n",
      "   - O.L. Mangasarian, W.N. Street and W.H. Wolberg. Breast cancer diagnosis and \n",
      "     prognosis via linear programming. Operations Research, 43(4), pages 570-577, \n",
      "     July-August 1995.\n",
      "   - W.H. Wolberg, W.N. Street, and O.L. Mangasarian. Machine learning techniques\n",
      "     to diagnose breast cancer from fine-needle aspirates. Cancer Letters 77 (1994) \n",
      "     163-171.\n"
     ]
    }
   ],
   "source": [
    "print(data['DESCR'])"
   ]
  },
  {
   "cell_type": "code",
   "execution_count": 4,
   "metadata": {
    "ExecuteTime": {
     "end_time": "2021-07-27T13:45:54.655919Z",
     "start_time": "2021-07-27T13:45:54.645937Z"
    },
    "id": "T2SIFpLbq_Tj",
    "outputId": "f90962a0-77fa-41b9-ad1e-a9b50429617e"
   },
   "outputs": [
    {
     "data": {
      "text/plain": [
       "((398, 30), (171, 30))"
      ]
     },
     "execution_count": 4,
     "metadata": {},
     "output_type": "execute_result"
    }
   ],
   "source": [
    "X = pd.DataFrame(data['data'], columns = data['feature_names'])\n",
    "\n",
    "y = data['target']\n",
    "\n",
    "X_train, X_test, y_train, y_test = train_test_split(X, y, test_size = 0.3)\n",
    "\n",
    "X_train.shape, X_test.shape"
   ]
  },
  {
   "cell_type": "code",
   "execution_count": 5,
   "metadata": {
    "ExecuteTime": {
     "end_time": "2021-07-27T13:45:54.805515Z",
     "start_time": "2021-07-27T13:45:54.775590Z"
    },
    "id": "k0k3h4GFq_Tj"
   },
   "outputs": [],
   "source": [
    "rf_clf = SVC()\n",
    "rf_clf.fit(X_train, y_train)\n",
    "\n",
    "y_pred = rf_clf.predict(X_test)"
   ]
  },
  {
   "cell_type": "code",
   "execution_count": 6,
   "metadata": {
    "ExecuteTime": {
     "end_time": "2021-07-27T13:45:54.919207Z",
     "start_time": "2021-07-27T13:45:54.911229Z"
    }
   },
   "outputs": [
    {
     "data": {
      "text/plain": [
       "array([1, 1, 0, 1, 0, 0, 0, 1, 1, 1, 1, 1, 1, 0, 1, 1, 0, 1, 1, 0, 0, 0,\n",
       "       1, 1, 1, 1, 0, 1, 1, 0, 1, 1, 1, 0, 0, 0, 1, 1, 1, 1, 0, 1, 0, 1,\n",
       "       1, 1, 1, 1, 1, 1, 1, 0, 0, 1, 1, 0, 1, 1, 1, 1, 1, 1, 1, 1, 1, 1,\n",
       "       1, 0, 1, 1, 0, 1, 1, 0, 0, 1, 0, 0, 1, 1, 0, 0, 1, 1, 1, 0, 1, 1,\n",
       "       1, 0, 1, 0, 1, 1, 0, 1, 1, 0, 0, 1, 1, 1, 1, 1, 1, 1, 1, 1, 1, 0,\n",
       "       1, 1, 1, 1, 0, 1, 1, 1, 1, 1, 0, 1, 1, 0, 1, 1, 1, 1, 1, 0, 1, 1,\n",
       "       1, 1, 1, 1, 1, 0, 0, 1, 0, 0, 0, 0, 0, 1, 1, 1, 1, 0, 0, 1, 1, 1,\n",
       "       1, 0, 1, 0, 0, 1, 1, 1, 0, 0, 1, 1, 1, 1, 0, 0, 0])"
      ]
     },
     "execution_count": 6,
     "metadata": {},
     "output_type": "execute_result"
    }
   ],
   "source": [
    "y_pred"
   ]
  },
  {
   "cell_type": "code",
   "execution_count": 7,
   "metadata": {
    "ExecuteTime": {
     "end_time": "2021-07-27T13:45:55.047864Z",
     "start_time": "2021-07-27T13:45:55.039884Z"
    }
   },
   "outputs": [
    {
     "data": {
      "text/plain": [
       "array([1, 1, 0, 1, 0, 0, 0, 1, 1, 1, 0, 1, 1, 0, 1, 1, 0, 1, 1, 0, 0, 0,\n",
       "       1, 1, 1, 1, 0, 1, 1, 0, 1, 1, 0, 0, 0, 0, 1, 1, 1, 1, 0, 1, 0, 1,\n",
       "       1, 1, 0, 1, 1, 1, 1, 0, 1, 1, 1, 0, 1, 1, 1, 1, 1, 1, 1, 1, 1, 1,\n",
       "       1, 0, 1, 1, 0, 1, 1, 0, 0, 1, 0, 0, 1, 1, 0, 0, 1, 1, 1, 0, 0, 1,\n",
       "       1, 0, 1, 0, 1, 1, 0, 1, 1, 0, 0, 1, 1, 1, 1, 1, 1, 1, 1, 1, 1, 0,\n",
       "       1, 1, 1, 1, 0, 1, 1, 1, 1, 1, 0, 1, 1, 0, 0, 1, 1, 1, 1, 0, 1, 1,\n",
       "       0, 1, 1, 1, 1, 0, 0, 1, 0, 0, 0, 0, 0, 1, 1, 0, 1, 0, 0, 1, 1, 1,\n",
       "       1, 0, 1, 0, 0, 1, 1, 1, 0, 0, 0, 1, 1, 1, 0, 0, 0])"
      ]
     },
     "execution_count": 7,
     "metadata": {},
     "output_type": "execute_result"
    }
   ],
   "source": [
    "y_test"
   ]
  },
  {
   "cell_type": "markdown",
   "metadata": {
    "id": "at34sDzGq_Tk"
   },
   "source": [
    "#### Calculate the TP, FP, FN, TN of the model"
   ]
  },
  {
   "cell_type": "markdown",
   "metadata": {
    "id": "GSkfE7jdq_Tl"
   },
   "source": [
    "False positive:"
   ]
  },
  {
   "cell_type": "code",
   "execution_count": 8,
   "metadata": {
    "ExecuteTime": {
     "end_time": "2021-07-27T13:45:56.343136Z",
     "start_time": "2021-07-27T13:45:56.339144Z"
    },
    "id": "mYl_WokBq_Tl"
   },
   "outputs": [],
   "source": [
    "FP = sum((y_pred==1)&(y_test==0))"
   ]
  },
  {
   "cell_type": "markdown",
   "metadata": {
    "id": "9Z0IS-v_q_Tl"
   },
   "source": [
    "False negative"
   ]
  },
  {
   "cell_type": "code",
   "execution_count": 9,
   "metadata": {
    "ExecuteTime": {
     "end_time": "2021-07-27T13:45:56.866446Z",
     "start_time": "2021-07-27T13:45:56.860463Z"
    },
    "id": "1RaySx5pq_Tm"
   },
   "outputs": [],
   "source": [
    "FN = sum((y_pred==0)&(y_test==1))"
   ]
  },
  {
   "cell_type": "markdown",
   "metadata": {
    "id": "fJuzbAOmq_Tm"
   },
   "source": [
    "True positive"
   ]
  },
  {
   "cell_type": "code",
   "execution_count": 10,
   "metadata": {
    "ExecuteTime": {
     "end_time": "2021-07-27T13:45:57.346082Z",
     "start_time": "2021-07-27T13:45:57.342125Z"
    },
    "id": "EFCUXvaFq_Tm"
   },
   "outputs": [],
   "source": [
    "TP = sum((y_pred==1)&(y_test==1))"
   ]
  },
  {
   "cell_type": "markdown",
   "metadata": {
    "id": "E0qnXqgFq_Tn"
   },
   "source": [
    "True negative"
   ]
  },
  {
   "cell_type": "code",
   "execution_count": 11,
   "metadata": {
    "ExecuteTime": {
     "end_time": "2021-07-27T13:45:57.917622Z",
     "start_time": "2021-07-27T13:45:57.914626Z"
    },
    "id": "b04jMK7gq_Tn"
   },
   "outputs": [],
   "source": [
    "TN = sum((y_pred==0)&(y_test==0))"
   ]
  },
  {
   "cell_type": "code",
   "execution_count": 12,
   "metadata": {
    "ExecuteTime": {
     "end_time": "2021-07-27T13:45:58.155556Z",
     "start_time": "2021-07-27T13:45:58.152564Z"
    }
   },
   "outputs": [],
   "source": [
    "from sklearn.metrics import confusion_matrix"
   ]
  },
  {
   "cell_type": "code",
   "execution_count": 13,
   "metadata": {
    "ExecuteTime": {
     "end_time": "2021-07-27T13:45:58.561536Z",
     "start_time": "2021-07-27T13:45:58.545580Z"
    }
   },
   "outputs": [
    {
     "data": {
      "text/plain": [
       "array([[ 54,   8],\n",
       "       [  1, 108]], dtype=int64)"
      ]
     },
     "execution_count": 13,
     "metadata": {},
     "output_type": "execute_result"
    }
   ],
   "source": [
    "confusion_matrix(y_test, y_pred)"
   ]
  },
  {
   "cell_type": "markdown",
   "metadata": {
    "id": "UZ_DMrE4q_Tn"
   },
   "source": [
    "#### What is the Accuracy of the model?"
   ]
  },
  {
   "cell_type": "code",
   "execution_count": 14,
   "metadata": {
    "ExecuteTime": {
     "end_time": "2021-07-27T13:45:59.196193Z",
     "start_time": "2021-07-27T13:45:59.043603Z"
    },
    "id": "Qizd3iMFq_To"
   },
   "outputs": [
    {
     "ename": "NameError",
     "evalue": "name 'n' is not defined",
     "output_type": "error",
     "traceback": [
      "\u001b[1;31m---------------------------------------------------------------------------\u001b[0m",
      "\u001b[1;31mNameError\u001b[0m                                 Traceback (most recent call last)",
      "\u001b[1;32m<ipython-input-14-a44508b1d939>\u001b[0m in \u001b[0;36m<module>\u001b[1;34m\u001b[0m\n\u001b[1;32m----> 1\u001b[1;33m \u001b[0mTN\u001b[0m\u001b[1;33m+\u001b[0m\u001b[0mTP\u001b[0m\u001b[1;33m/\u001b[0m\u001b[1;33m(\u001b[0m\u001b[0mn\u001b[0m\u001b[1;33m)\u001b[0m\u001b[1;33m\u001b[0m\u001b[1;33m\u001b[0m\u001b[0m\n\u001b[0m",
      "\u001b[1;31mNameError\u001b[0m: name 'n' is not defined"
     ]
    }
   ],
   "source": [
    "TN+TP/(n)"
   ]
  },
  {
   "cell_type": "code",
   "execution_count": 15,
   "metadata": {
    "ExecuteTime": {
     "end_time": "2021-07-27T13:45:59.301784Z",
     "start_time": "2021-07-27T13:45:59.294803Z"
    }
   },
   "outputs": [
    {
     "data": {
      "text/plain": [
       "0.9473684210526315"
      ]
     },
     "execution_count": 15,
     "metadata": {},
     "output_type": "execute_result"
    }
   ],
   "source": [
    "sum((y_pred==y_test))/len(y_pred)"
   ]
  },
  {
   "cell_type": "code",
   "execution_count": 16,
   "metadata": {
    "ExecuteTime": {
     "end_time": "2021-07-27T13:45:59.542391Z",
     "start_time": "2021-07-27T13:45:59.536406Z"
    }
   },
   "outputs": [
    {
     "data": {
      "text/plain": [
       "0.9473684210526315"
      ]
     },
     "execution_count": 16,
     "metadata": {},
     "output_type": "execute_result"
    }
   ],
   "source": [
    "from sklearn.metrics import accuracy_score\n",
    "accuracy_score(y_test, y_pred)"
   ]
  },
  {
   "cell_type": "code",
   "execution_count": 17,
   "metadata": {
    "ExecuteTime": {
     "end_time": "2021-07-27T13:45:59.961208Z",
     "start_time": "2021-07-27T13:45:59.951235Z"
    }
   },
   "outputs": [
    {
     "data": {
      "text/plain": [
       "0.9473684210526315"
      ]
     },
     "execution_count": 17,
     "metadata": {},
     "output_type": "execute_result"
    }
   ],
   "source": [
    "(sum((y_pred==0)&(y_test==0))+sum((y_pred==1)&(y_test==1)))/(len(y_test))"
   ]
  },
  {
   "cell_type": "markdown",
   "metadata": {
    "id": "ZC-I0pt2q_To"
   },
   "source": [
    "#### What is the recall of the model?"
   ]
  },
  {
   "cell_type": "code",
   "execution_count": 18,
   "metadata": {
    "ExecuteTime": {
     "end_time": "2021-07-27T13:46:00.607112Z",
     "start_time": "2021-07-27T13:46:00.601128Z"
    },
    "id": "5iz1qCzKq_To"
   },
   "outputs": [
    {
     "data": {
      "text/plain": [
       "0.9908256880733946"
      ]
     },
     "execution_count": 18,
     "metadata": {},
     "output_type": "execute_result"
    }
   ],
   "source": [
    "TP/(TP+FN)"
   ]
  },
  {
   "cell_type": "code",
   "execution_count": 19,
   "metadata": {
    "ExecuteTime": {
     "end_time": "2021-07-27T13:46:01.031517Z",
     "start_time": "2021-07-27T13:46:01.023539Z"
    }
   },
   "outputs": [
    {
     "data": {
      "text/plain": [
       "0.9908256880733946"
      ]
     },
     "execution_count": 19,
     "metadata": {},
     "output_type": "execute_result"
    }
   ],
   "source": [
    "from sklearn.metrics import recall_score\n",
    "recall_score(y_test, y_pred)"
   ]
  },
  {
   "cell_type": "code",
   "execution_count": 20,
   "metadata": {
    "ExecuteTime": {
     "end_time": "2021-07-27T13:46:01.329713Z",
     "start_time": "2021-07-27T13:46:01.322738Z"
    }
   },
   "outputs": [
    {
     "data": {
      "text/plain": [
       "0.9908256880733946"
      ]
     },
     "execution_count": 20,
     "metadata": {},
     "output_type": "execute_result"
    }
   ],
   "source": [
    "TP/sum(y_test)"
   ]
  },
  {
   "cell_type": "markdown",
   "metadata": {
    "id": "YyilHnZNq_To"
   },
   "source": [
    "#### What is the precision of the model?"
   ]
  },
  {
   "cell_type": "code",
   "execution_count": 21,
   "metadata": {
    "ExecuteTime": {
     "end_time": "2021-07-27T13:46:01.784852Z",
     "start_time": "2021-07-27T13:46:01.777870Z"
    },
    "id": "Eid9oB_iq_Tp"
   },
   "outputs": [
    {
     "data": {
      "text/plain": [
       "0.9310344827586207"
      ]
     },
     "execution_count": 21,
     "metadata": {},
     "output_type": "execute_result"
    }
   ],
   "source": [
    "TP/(FP+TP)"
   ]
  },
  {
   "cell_type": "code",
   "execution_count": 22,
   "metadata": {
    "ExecuteTime": {
     "end_time": "2021-07-27T13:46:01.991893Z",
     "start_time": "2021-07-27T13:46:01.983914Z"
    }
   },
   "outputs": [
    {
     "data": {
      "text/plain": [
       "0.9310344827586207"
      ]
     },
     "execution_count": 22,
     "metadata": {},
     "output_type": "execute_result"
    }
   ],
   "source": [
    "from sklearn.metrics import precision_score\n",
    "precision_score(y_test, y_pred)"
   ]
  },
  {
   "cell_type": "code",
   "execution_count": 23,
   "metadata": {
    "ExecuteTime": {
     "end_time": "2021-07-27T13:46:02.367107Z",
     "start_time": "2021-07-27T13:46:02.361124Z"
    }
   },
   "outputs": [
    {
     "data": {
      "text/plain": [
       "0.9310344827586207"
      ]
     },
     "execution_count": 23,
     "metadata": {},
     "output_type": "execute_result"
    }
   ],
   "source": [
    "TP/sum(y_pred)"
   ]
  },
  {
   "cell_type": "markdown",
   "metadata": {
    "id": "qKGe_cREq_Tp"
   },
   "source": [
    "### ROC - Plot it yourself"
   ]
  },
  {
   "cell_type": "code",
   "execution_count": 24,
   "metadata": {
    "ExecuteTime": {
     "end_time": "2021-07-27T13:46:03.242600Z",
     "start_time": "2021-07-27T13:46:03.233593Z"
    },
    "id": "zjLxhBlcq_Tp"
   },
   "outputs": [],
   "source": [
    "preds_df = pd.read_csv('ROC_exp_data.csv')"
   ]
  },
  {
   "cell_type": "code",
   "execution_count": 25,
   "metadata": {
    "ExecuteTime": {
     "end_time": "2021-07-27T13:46:06.245410Z",
     "start_time": "2021-07-27T13:46:06.228448Z"
    },
    "id": "iB1Qcmpcq_Tp",
    "outputId": "9e8e40bd-7b6b-4e0b-bac4-933c28e3b935"
   },
   "outputs": [
    {
     "data": {
      "text/html": [
       "<div>\n",
       "<style scoped>\n",
       "    .dataframe tbody tr th:only-of-type {\n",
       "        vertical-align: middle;\n",
       "    }\n",
       "\n",
       "    .dataframe tbody tr th {\n",
       "        vertical-align: top;\n",
       "    }\n",
       "\n",
       "    .dataframe thead th {\n",
       "        text-align: right;\n",
       "    }\n",
       "</style>\n",
       "<table border=\"1\" class=\"dataframe\">\n",
       "  <thead>\n",
       "    <tr style=\"text-align: right;\">\n",
       "      <th></th>\n",
       "      <th>transaction_id</th>\n",
       "      <th>label</th>\n",
       "      <th>prediction_prob</th>\n",
       "    </tr>\n",
       "  </thead>\n",
       "  <tbody>\n",
       "    <tr>\n",
       "      <td>0</td>\n",
       "      <td>1</td>\n",
       "      <td>1</td>\n",
       "      <td>0.8</td>\n",
       "    </tr>\n",
       "    <tr>\n",
       "      <td>1</td>\n",
       "      <td>2</td>\n",
       "      <td>0</td>\n",
       "      <td>0.5</td>\n",
       "    </tr>\n",
       "    <tr>\n",
       "      <td>2</td>\n",
       "      <td>3</td>\n",
       "      <td>0</td>\n",
       "      <td>0.0</td>\n",
       "    </tr>\n",
       "    <tr>\n",
       "      <td>3</td>\n",
       "      <td>4</td>\n",
       "      <td>1</td>\n",
       "      <td>0.3</td>\n",
       "    </tr>\n",
       "    <tr>\n",
       "      <td>4</td>\n",
       "      <td>5</td>\n",
       "      <td>0</td>\n",
       "      <td>0.7</td>\n",
       "    </tr>\n",
       "    <tr>\n",
       "      <td>5</td>\n",
       "      <td>6</td>\n",
       "      <td>1</td>\n",
       "      <td>0.9</td>\n",
       "    </tr>\n",
       "    <tr>\n",
       "      <td>6</td>\n",
       "      <td>7</td>\n",
       "      <td>1</td>\n",
       "      <td>0.6</td>\n",
       "    </tr>\n",
       "    <tr>\n",
       "      <td>7</td>\n",
       "      <td>8</td>\n",
       "      <td>0</td>\n",
       "      <td>0.1</td>\n",
       "    </tr>\n",
       "    <tr>\n",
       "      <td>8</td>\n",
       "      <td>9</td>\n",
       "      <td>0</td>\n",
       "      <td>0.2</td>\n",
       "    </tr>\n",
       "    <tr>\n",
       "      <td>9</td>\n",
       "      <td>10</td>\n",
       "      <td>0</td>\n",
       "      <td>0.4</td>\n",
       "    </tr>\n",
       "  </tbody>\n",
       "</table>\n",
       "</div>"
      ],
      "text/plain": [
       "   transaction_id  label  prediction_prob\n",
       "0               1      1              0.8\n",
       "1               2      0              0.5\n",
       "2               3      0              0.0\n",
       "3               4      1              0.3\n",
       "4               5      0              0.7\n",
       "5               6      1              0.9\n",
       "6               7      1              0.6\n",
       "7               8      0              0.1\n",
       "8               9      0              0.2\n",
       "9              10      0              0.4"
      ]
     },
     "execution_count": 25,
     "metadata": {},
     "output_type": "execute_result"
    }
   ],
   "source": [
    "preds_df"
   ]
  },
  {
   "cell_type": "markdown",
   "metadata": {
    "id": "IFBha2Dwq_Tp"
   },
   "source": [
    "**Take a paper with a grid and:**\n",
    "\n",
    "1. Sort the dataset by the \"predict proba\" descending\n",
    "2. Look at the label column, and start drawing from the first row to the last - if the label is 1 - draw a line upwards. If the label is 0, draw a line to the right. Do it until you run out of samples.\n",
    "3. The scales - for the X-axis, the unit is divided by the number of 0s in your label column. for the Y-axis, the unit is divided by the number of 1s in your label column.\n",
    "4. Try to approximate the AUC with the sum of rectangle squares.\n",
    "\n",
    "**On this notebook:**\n",
    "5. Put the data into a python package that can plot the ROC and print the AUC. See if you were right."
   ]
  },
  {
   "cell_type": "code",
   "execution_count": 31,
   "metadata": {
    "ExecuteTime": {
     "end_time": "2021-07-27T14:06:42.701744Z",
     "start_time": "2021-07-27T14:06:42.550147Z"
    },
    "id": "guZKXp1Xq_Tq"
   },
   "outputs": [
    {
     "data": {
      "image/png": "[encoded data removed]",
      "text/plain": [
       "<Figure size 432x288 with 1 Axes>"
      ]
     },
     "metadata": {
      "needs_background": "light"
     },
     "output_type": "display_data"
    }
   ],
   "source": [
    "import sklearn.metrics as metrics\n",
    "preds = preds_df['prediction_prob']\n",
    "fpr, tpr, threshold = metrics.roc_curve(preds_df['label'], preds)\n",
    "roc_auc = metrics.auc(fpr, tpr)\n",
    "\n",
    "\n",
    "import matplotlib.pyplot as plt\n",
    "plt.title('Receiver Operating Characteristic')\n",
    "plt.plot(fpr, tpr, 'yellow', label = 'AUC = %0.2f' % roc_auc)\n",
    "plt.legend(loc = 'lower right')\n",
    "plt.plot([0, 1], [0, 1],'g--')\n",
    "plt.xlim([0, 1])\n",
    "plt.ylim([0, 1])\n",
    "plt.ylabel('True Positive Rate')\n",
    "plt.xlabel('False Positive Rate')\n",
    "plt.show()"
   ]
  },
  {
   "cell_type": "markdown",
   "metadata": {
    "id": "NTr1nPZWq_Tq"
   },
   "source": [
    "## Regression"
   ]
  },
  {
   "cell_type": "markdown",
   "metadata": {
    "id": "B7b8DvUVq_Tq"
   },
   "source": [
    "### Calculate metrics on your own"
   ]
  },
  {
   "cell_type": "code",
   "execution_count": 39,
   "metadata": {
    "ExecuteTime": {
     "end_time": "2021-07-27T09:10:57.009881Z",
     "start_time": "2021-07-27T09:10:56.979918Z"
    },
    "id": "jnxPbTMVq_Tq"
   },
   "outputs": [],
   "source": [
    "data_boston = load_boston()"
   ]
  },
  {
   "cell_type": "code",
   "execution_count": 40,
   "metadata": {
    "ExecuteTime": {
     "end_time": "2021-07-27T09:10:57.474826Z",
     "start_time": "2021-07-27T09:10:57.459846Z"
    },
    "id": "FgxdXTt-q_Tq",
    "outputId": "b284f0cd-ad43-4035-9545-b25cf7ad2b9a"
   },
   "outputs": [
    {
     "name": "stdout",
     "output_type": "stream",
     "text": [
      ".. _boston_dataset:\n",
      "\n",
      "Boston house prices dataset\n",
      "---------------------------\n",
      "\n",
      "**Data Set Characteristics:**  \n",
      "\n",
      "    :Number of Instances: 506 \n",
      "\n",
      "    :Number of Attributes: 13 numeric/categorical predictive. Median Value (attribute 14) is usually the target.\n",
      "\n",
      "    :Attribute Information (in order):\n",
      "        - CRIM     per capita crime rate by town\n",
      "        - ZN       proportion of residential land zoned for lots over 25,000 sq.ft.\n",
      "        - INDUS    proportion of non-retail business acres per town\n",
      "        - CHAS     Charles River dummy variable (= 1 if tract bounds river; 0 otherwise)\n",
      "        - NOX      nitric oxides concentration (parts per 10 million)\n",
      "        - RM       average number of rooms per dwelling\n",
      "        - AGE      proportion of owner-occupied units built prior to 1940\n",
      "        - DIS      weighted distances to five Boston employment centres\n",
      "        - RAD      index of accessibility to radial highways\n",
      "        - TAX      full-value property-tax rate per $10,000\n",
      "        - PTRATIO  pupil-teacher ratio by town\n",
      "        - B        1000(Bk - 0.63)^2 where Bk is the proportion of blacks by town\n",
      "        - LSTAT    % lower status of the population\n",
      "        - MEDV     Median value of owner-occupied homes in $1000's\n",
      "\n",
      "    :Missing Attribute Values: None\n",
      "\n",
      "    :Creator: Harrison, D. and Rubinfeld, D.L.\n",
      "\n",
      "This is a copy of UCI ML housing dataset.\n",
      "https://archive.ics.uci.edu/ml/machine-learning-databases/housing/\n",
      "\n",
      "\n",
      "This dataset was taken from the StatLib library which is maintained at Carnegie Mellon University.\n",
      "\n",
      "The Boston house-price data of Harrison, D. and Rubinfeld, D.L. 'Hedonic\n",
      "prices and the demand for clean air', J. Environ. Economics & Management,\n",
      "vol.5, 81-102, 1978.   Used in Belsley, Kuh & Welsch, 'Regression diagnostics\n",
      "...', Wiley, 1980.   N.B. Various transformations are used in the table on\n",
      "pages 244-261 of the latter.\n",
      "\n",
      "The Boston house-price data has been used in many machine learning papers that address regression\n",
      "problems.   \n",
      "     \n",
      ".. topic:: References\n",
      "\n",
      "   - Belsley, Kuh & Welsch, 'Regression diagnostics: Identifying Influential Data and Sources of Collinearity', Wiley, 1980. 244-261.\n",
      "   - Quinlan,R. (1993). Combining Instance-Based and Model-Based Learning. In Proceedings on the Tenth International Conference of Machine Learning, 236-243, University of Massachusetts, Amherst. Morgan Kaufmann.\n",
      "\n"
     ]
    }
   ],
   "source": [
    "print(data_boston['DESCR'])"
   ]
  },
  {
   "cell_type": "code",
   "execution_count": 41,
   "metadata": {
    "ExecuteTime": {
     "end_time": "2021-07-27T09:11:13.611522Z",
     "start_time": "2021-07-27T09:11:13.576616Z"
    },
    "id": "kl1XjsyKq_Tr",
    "outputId": "4f271816-978f-4dba-fc45-abc0550da25f"
   },
   "outputs": [
    {
     "data": {
      "text/plain": [
       "((354, 13), (152, 13))"
      ]
     },
     "execution_count": 41,
     "metadata": {},
     "output_type": "execute_result"
    }
   ],
   "source": [
    "X = pd.DataFrame(data_boston['data'], columns = data_boston['feature_names'])\n",
    "\n",
    "y = data_boston['target']\n",
    "\n",
    "X_train, X_test, y_train, y_test = train_test_split(X, y, test_size = 0.3)\n",
    "\n",
    "X_train.shape, X_test.shape"
   ]
  },
  {
   "cell_type": "code",
   "execution_count": 42,
   "metadata": {
    "ExecuteTime": {
     "end_time": "2021-07-27T09:11:21.278317Z",
     "start_time": "2021-07-27T09:11:20.915417Z"
    },
    "id": "GgyJeTlsq_Tr"
   },
   "outputs": [],
   "source": [
    "rf_reg = RandomForestRegressor()\n",
    "rf_reg.fit(X_train, y_train)\n",
    "\n",
    "y_pred = rf_reg.predict(X_test)"
   ]
  },
  {
   "cell_type": "code",
   "execution_count": 43,
   "metadata": {
    "ExecuteTime": {
     "end_time": "2021-07-27T09:11:57.975391Z",
     "start_time": "2021-07-27T09:11:57.958445Z"
    }
   },
   "outputs": [
    {
     "data": {
      "text/plain": [
       "array([27.052, 33.507, 31.944, 23.174, 31.303, 19.268, 12.496, 26.098,\n",
       "       32.248,  9.65 , 20.588, 11.099, 27.133, 20.594, 26.352, 22.928,\n",
       "       24.175, 10.671, 12.41 , 22.975, 20.391, 23.228, 12.984, 31.067,\n",
       "       17.71 , 20.427, 23.056, 15.979, 17.254, 15.908, 18.738, 20.898,\n",
       "       25.472, 22.968, 14.897, 20.706, 48.271, 15.453, 18.73 , 25.939,\n",
       "       18.248, 18.712, 33.611, 13.102, 18.353, 18.866, 33.75 , 21.372,\n",
       "       21.271, 19.563, 17.368, 43.146, 10.486,  6.635, 26.467, 31.286,\n",
       "       43.478, 24.022, 27.131, 32.991,  8.465, 17.692, 26.627, 22.686,\n",
       "       31.796, 24.002, 46.342, 27.062, 19.007, 19.383, 15.617, 19.084,\n",
       "       20.947, 27.09 , 19.462, 28.739, 31.659, 21.589, 16.893, 24.047,\n",
       "       21.178, 21.144, 16.349, 30.123, 22.16 , 19.612, 17.737, 14.566,\n",
       "       25.439, 20.784, 18.508, 10.983, 16.957,  8.889, 11.378, 31.318,\n",
       "       16.243, 16.87 , 15.859, 32.071, 22.078, 19.466, 22.195, 13.381,\n",
       "       21.032, 33.302, 26.156, 22.489, 44.377, 21.188, 22.747,  7.476,\n",
       "       17.833, 24.427, 17.307, 22.446, 22.949, 18.029, 18.084, 42.771,\n",
       "       15.194, 15.378, 12.881, 22.552, 10.956, 29.033, 27.204, 13.311,\n",
       "       24.164, 25.171, 11.685, 27.562, 22.215, 23.004, 15.788, 23.103,\n",
       "       20.675, 23.457, 19.22 , 24.405, 18.439, 13.632,  7.656,  9.409,\n",
       "       10.843, 14.306, 20.725, 48.139, 21.934, 29.667, 15.926, 33.905])"
      ]
     },
     "execution_count": 43,
     "metadata": {},
     "output_type": "execute_result"
    }
   ],
   "source": [
    "y_pred"
   ]
  },
  {
   "cell_type": "code",
   "execution_count": 44,
   "metadata": {
    "ExecuteTime": {
     "end_time": "2021-07-27T09:12:08.527753Z",
     "start_time": "2021-07-27T09:12:08.510798Z"
    }
   },
   "outputs": [
    {
     "data": {
      "text/plain": [
       "array([23.9, 36.1, 50. , 22.9, 50. , 17.4, 14.6, 24.1, 29. ,  9.7, 24.3,\n",
       "       13.8, 23.7, 21. , 22. , 22.9, 22.1,  6.3, 15.6, 22.3, 19. , 24.8,\n",
       "        7. , 37. , 18. , 18.7, 23.2, 11.7, 16.6, 16.1, 19.6, 24. , 23.3,\n",
       "       24.7, 23.2, 24.4, 50. , 14.1, 27.1, 26.6, 16.8, 18.8, 31.5, 13.8,\n",
       "       22.5, 18.2, 36.5, 21.2, 22. , 17.5, 19.4, 50. , 10.2,  5. , 28.4,\n",
       "       29.6, 41.7, 29.8, 23.9, 35.4,  7.4, 14.4, 28.4, 20.6, 34.9, 22.2,\n",
       "       50. , 28. , 20.4, 23. , 15.6, 18.7, 21.4, 26.5, 17.2, 31.1, 50. ,\n",
       "       21.4, 18.1, 25.2, 24.3, 20.1, 17.3, 30.5, 19.1, 20.2, 15.2, 17.8,\n",
       "       23.9, 21.2, 18.9, 11.3, 13.6,  8.5, 13.4, 37.2, 16.7, 10.2, 14.3,\n",
       "       33.8, 23. , 23.1, 22.8, 17.8, 15.3, 33.2, 25.1, 18.6, 48.3, 14.1,\n",
       "       22. ,  8.8, 23.7, 29.1, 18.4, 15. , 20.4, 20. , 19.5, 43.8, 13.4,\n",
       "       17.2, 11.9, 21. , 13.1, 32.5, 29. , 15.1, 23.4, 22.8, 13.8, 27.9,\n",
       "       21.7, 25. , 14.3, 22.3, 21.7, 25. , 20.4, 24.4, 18.7, 14.4, 10.5,\n",
       "       10.5, 12.3, 10.9, 16.1, 45.4, 20.2, 26.6, 13.8, 36.2])"
      ]
     },
     "execution_count": 44,
     "metadata": {},
     "output_type": "execute_result"
    }
   ],
   "source": [
    "y_test"
   ]
  },
  {
   "cell_type": "markdown",
   "metadata": {
    "id": "SOz9ov3Wq_Tr"
   },
   "source": [
    "#### What is the MSE of the model?"
   ]
  },
  {
   "cell_type": "code",
   "execution_count": 47,
   "metadata": {
    "ExecuteTime": {
     "end_time": "2021-07-27T09:13:30.561395Z",
     "start_time": "2021-07-27T09:13:30.546430Z"
    },
    "id": "wIvOvQsHq_Ts"
   },
   "outputs": [
    {
     "data": {
      "text/plain": [
       "14.380736578947353"
      ]
     },
     "execution_count": 47,
     "metadata": {},
     "output_type": "execute_result"
    }
   ],
   "source": [
    "import numpy as np\n",
    "np.mean((y_pred-y_test)**2)"
   ]
  },
  {
   "cell_type": "code",
   "execution_count": 49,
   "metadata": {
    "ExecuteTime": {
     "end_time": "2021-07-27T09:14:17.071479Z",
     "start_time": "2021-07-27T09:14:17.050535Z"
    }
   },
   "outputs": [
    {
     "data": {
      "text/plain": [
       "14.380736578947353"
      ]
     },
     "execution_count": 49,
     "metadata": {},
     "output_type": "execute_result"
    }
   ],
   "source": [
    "from sklearn.metrics import mean_squared_error\n",
    "mean_squared_error(y_test, y_pred)"
   ]
  },
  {
   "cell_type": "markdown",
   "metadata": {
    "id": "tdWJZgKnq_Ts"
   },
   "source": [
    "#### What is the RMSE of the model?"
   ]
  },
  {
   "cell_type": "code",
   "execution_count": 50,
   "metadata": {
    "ExecuteTime": {
     "end_time": "2021-07-27T09:15:25.782793Z",
     "start_time": "2021-07-27T09:15:25.763843Z"
    },
    "id": "TupAOP9gq_Tt"
   },
   "outputs": [
    {
     "data": {
      "text/plain": [
       "3.7921941641940426"
      ]
     },
     "execution_count": 50,
     "metadata": {},
     "output_type": "execute_result"
    }
   ],
   "source": [
    "np.sqrt(np.mean((y_pred-y_test)**2))"
   ]
  },
  {
   "cell_type": "code",
   "execution_count": 51,
   "metadata": {
    "ExecuteTime": {
     "end_time": "2021-07-27T09:15:54.091523Z",
     "start_time": "2021-07-27T09:15:54.074570Z"
    }
   },
   "outputs": [
    {
     "data": {
      "text/plain": [
       "3.7921941641940426"
      ]
     },
     "execution_count": 51,
     "metadata": {},
     "output_type": "execute_result"
    }
   ],
   "source": [
    "mean_squared_error(y_test, y_pred, squared=False)"
   ]
  },
  {
   "cell_type": "markdown",
   "metadata": {
    "id": "mu_XWsJfq_Tt"
   },
   "source": [
    "#### what is the $R^2$ of the model?"
   ]
  },
  {
   "cell_type": "code",
   "execution_count": 53,
   "metadata": {
    "ExecuteTime": {
     "end_time": "2021-07-27T09:17:15.060559Z",
     "start_time": "2021-07-27T09:17:15.037621Z"
    }
   },
   "outputs": [
    {
     "data": {
      "text/plain": [
       "90.35223640927978"
      ]
     },
     "execution_count": 53,
     "metadata": {},
     "output_type": "execute_result"
    }
   ],
   "source": [
    "y_test.var()"
   ]
  },
  {
   "cell_type": "code",
   "execution_count": 57,
   "metadata": {
    "ExecuteTime": {
     "end_time": "2021-07-27T09:18:05.269803Z",
     "start_time": "2021-07-27T09:18:05.259831Z"
    },
    "id": "VTbo6Tfaq_Tt"
   },
   "outputs": [
    {
     "data": {
      "text/plain": [
       "0.8408369604289025"
      ]
     },
     "execution_count": 57,
     "metadata": {},
     "output_type": "execute_result"
    }
   ],
   "source": [
    "1-(mean_squared_error(y_test, y_pred)/(y_test.var()))"
   ]
  },
  {
   "cell_type": "code",
   "execution_count": 55,
   "metadata": {
    "ExecuteTime": {
     "end_time": "2021-07-27T09:17:52.035550Z",
     "start_time": "2021-07-27T09:17:52.012611Z"
    }
   },
   "outputs": [
    {
     "data": {
      "text/plain": [
       "0.8408369604289025"
      ]
     },
     "execution_count": 55,
     "metadata": {},
     "output_type": "execute_result"
    }
   ],
   "source": [
    "from sklearn.metrics import r2_score\n",
    "r2_score(y_test, y_pred)"
   ]
  },
  {
   "cell_type": "markdown",
   "metadata": {
    "id": "G_HFVUT7q_Tu"
   },
   "source": [
    "## Ranked Based Spearman Corellation"
   ]
  },
  {
   "cell_type": "code",
   "execution_count": 58,
   "metadata": {
    "ExecuteTime": {
     "end_time": "2021-07-27T09:22:03.120298Z",
     "start_time": "2021-07-27T09:22:03.095366Z"
    },
    "id": "JGhHA8k3q_Tu"
   },
   "outputs": [],
   "source": [
    "df = pd.DataFrame()\n",
    "df['Distance_from_times_square'] = [500, 120, 30, 96, 305, 103, 201, 94, 75, 54]\n",
    "df['Food_price_$'] = [61, 76, 98, 125, 55, 94, 74, 110, 66, 80]"
   ]
  },
  {
   "cell_type": "code",
   "execution_count": 59,
   "metadata": {
    "ExecuteTime": {
     "end_time": "2021-07-27T09:22:04.137877Z",
     "start_time": "2021-07-27T09:22:04.127903Z"
    },
    "id": "eS54hKqWq_Tu",
    "outputId": "2900f762-8e41-4cc7-86a5-c042dc0be112"
   },
   "outputs": [
    {
     "data": {
      "text/html": [
       "<div>\n",
       "<style scoped>\n",
       "    .dataframe tbody tr th:only-of-type {\n",
       "        vertical-align: middle;\n",
       "    }\n",
       "\n",
       "    .dataframe tbody tr th {\n",
       "        vertical-align: top;\n",
       "    }\n",
       "\n",
       "    .dataframe thead th {\n",
       "        text-align: right;\n",
       "    }\n",
       "</style>\n",
       "<table border=\"1\" class=\"dataframe\">\n",
       "  <thead>\n",
       "    <tr style=\"text-align: right;\">\n",
       "      <th></th>\n",
       "      <th>Distance_from_times_square</th>\n",
       "      <th>Food_price_$</th>\n",
       "    </tr>\n",
       "  </thead>\n",
       "  <tbody>\n",
       "    <tr>\n",
       "      <th>0</th>\n",
       "      <td>500</td>\n",
       "      <td>61</td>\n",
       "    </tr>\n",
       "    <tr>\n",
       "      <th>1</th>\n",
       "      <td>120</td>\n",
       "      <td>76</td>\n",
       "    </tr>\n",
       "    <tr>\n",
       "      <th>2</th>\n",
       "      <td>30</td>\n",
       "      <td>98</td>\n",
       "    </tr>\n",
       "    <tr>\n",
       "      <th>3</th>\n",
       "      <td>96</td>\n",
       "      <td>125</td>\n",
       "    </tr>\n",
       "    <tr>\n",
       "      <th>4</th>\n",
       "      <td>305</td>\n",
       "      <td>55</td>\n",
       "    </tr>\n",
       "    <tr>\n",
       "      <th>5</th>\n",
       "      <td>103</td>\n",
       "      <td>94</td>\n",
       "    </tr>\n",
       "    <tr>\n",
       "      <th>6</th>\n",
       "      <td>201</td>\n",
       "      <td>74</td>\n",
       "    </tr>\n",
       "    <tr>\n",
       "      <th>7</th>\n",
       "      <td>94</td>\n",
       "      <td>110</td>\n",
       "    </tr>\n",
       "    <tr>\n",
       "      <th>8</th>\n",
       "      <td>75</td>\n",
       "      <td>66</td>\n",
       "    </tr>\n",
       "    <tr>\n",
       "      <th>9</th>\n",
       "      <td>54</td>\n",
       "      <td>80</td>\n",
       "    </tr>\n",
       "  </tbody>\n",
       "</table>\n",
       "</div>"
      ],
      "text/plain": [
       "   Distance_from_times_square  Food_price_$\n",
       "0                         500            61\n",
       "1                         120            76\n",
       "2                          30            98\n",
       "3                          96           125\n",
       "4                         305            55\n",
       "5                         103            94\n",
       "6                         201            74\n",
       "7                          94           110\n",
       "8                          75            66\n",
       "9                          54            80"
      ]
     },
     "execution_count": 59,
     "metadata": {},
     "output_type": "execute_result"
    }
   ],
   "source": [
    "df"
   ]
  },
  {
   "cell_type": "code",
   "execution_count": 60,
   "metadata": {
    "ExecuteTime": {
     "end_time": "2021-07-27T09:22:17.717153Z",
     "start_time": "2021-07-27T09:22:17.244510Z"
    },
    "id": "FDPB5H4Cq_Tv",
    "outputId": "387f4fcb-2e61-4e6f-91c7-64afc635c5f1"
   },
   "outputs": [
    {
     "name": "stderr",
     "output_type": "stream",
     "text": [
      "C:\\Users\\Danielle\\Anaconda3\\lib\\site-packages\\seaborn\\_decorators.py:43: FutureWarning: Pass the following variables as keyword args: x, y. From version 0.12, the only valid positional argument will be `data`, and passing other arguments without an explicit keyword will result in an error or misinterpretation.\n",
      "  FutureWarning\n"
     ]
    },
    {
     "data": {
      "image/png": "[encoded data removed]",
      "text/plain": [
       "<Figure size 432x288 with 1 Axes>"
      ]
     },
     "metadata": {
      "needs_background": "light"
     },
     "output_type": "display_data"
    }
   ],
   "source": [
    "sns.scatterplot(df['Distance_from_times_square'], df['Food_price_$']);"
   ]
  },
  {
   "cell_type": "code",
   "execution_count": 63,
   "metadata": {
    "ExecuteTime": {
     "end_time": "2021-07-27T09:24:39.324144Z",
     "start_time": "2021-07-27T09:24:39.312894Z"
    }
   },
   "outputs": [],
   "source": [
    "df_ranked = df.rank()"
   ]
  },
  {
   "cell_type": "code",
   "execution_count": 64,
   "metadata": {
    "ExecuteTime": {
     "end_time": "2021-07-27T09:24:47.519708Z",
     "start_time": "2021-07-27T09:24:47.502754Z"
    }
   },
   "outputs": [
    {
     "data": {
      "text/html": [
       "<div>\n",
       "<style scoped>\n",
       "    .dataframe tbody tr th:only-of-type {\n",
       "        vertical-align: middle;\n",
       "    }\n",
       "\n",
       "    .dataframe tbody tr th {\n",
       "        vertical-align: top;\n",
       "    }\n",
       "\n",
       "    .dataframe thead th {\n",
       "        text-align: right;\n",
       "    }\n",
       "</style>\n",
       "<table border=\"1\" class=\"dataframe\">\n",
       "  <thead>\n",
       "    <tr style=\"text-align: right;\">\n",
       "      <th></th>\n",
       "      <th>Distance_from_times_square</th>\n",
       "      <th>Food_price_$</th>\n",
       "    </tr>\n",
       "  </thead>\n",
       "  <tbody>\n",
       "    <tr>\n",
       "      <th>0</th>\n",
       "      <td>10.0</td>\n",
       "      <td>2.0</td>\n",
       "    </tr>\n",
       "    <tr>\n",
       "      <th>1</th>\n",
       "      <td>7.0</td>\n",
       "      <td>5.0</td>\n",
       "    </tr>\n",
       "    <tr>\n",
       "      <th>2</th>\n",
       "      <td>1.0</td>\n",
       "      <td>8.0</td>\n",
       "    </tr>\n",
       "    <tr>\n",
       "      <th>3</th>\n",
       "      <td>5.0</td>\n",
       "      <td>10.0</td>\n",
       "    </tr>\n",
       "    <tr>\n",
       "      <th>4</th>\n",
       "      <td>9.0</td>\n",
       "      <td>1.0</td>\n",
       "    </tr>\n",
       "    <tr>\n",
       "      <th>5</th>\n",
       "      <td>6.0</td>\n",
       "      <td>7.0</td>\n",
       "    </tr>\n",
       "    <tr>\n",
       "      <th>6</th>\n",
       "      <td>8.0</td>\n",
       "      <td>4.0</td>\n",
       "    </tr>\n",
       "    <tr>\n",
       "      <th>7</th>\n",
       "      <td>4.0</td>\n",
       "      <td>9.0</td>\n",
       "    </tr>\n",
       "    <tr>\n",
       "      <th>8</th>\n",
       "      <td>3.0</td>\n",
       "      <td>3.0</td>\n",
       "    </tr>\n",
       "    <tr>\n",
       "      <th>9</th>\n",
       "      <td>2.0</td>\n",
       "      <td>6.0</td>\n",
       "    </tr>\n",
       "  </tbody>\n",
       "</table>\n",
       "</div>"
      ],
      "text/plain": [
       "   Distance_from_times_square  Food_price_$\n",
       "0                        10.0           2.0\n",
       "1                         7.0           5.0\n",
       "2                         1.0           8.0\n",
       "3                         5.0          10.0\n",
       "4                         9.0           1.0\n",
       "5                         6.0           7.0\n",
       "6                         8.0           4.0\n",
       "7                         4.0           9.0\n",
       "8                         3.0           3.0\n",
       "9                         2.0           6.0"
      ]
     },
     "execution_count": 64,
     "metadata": {},
     "output_type": "execute_result"
    }
   ],
   "source": [
    "df_ranked"
   ]
  },
  {
   "cell_type": "code",
   "execution_count": 70,
   "metadata": {
    "ExecuteTime": {
     "end_time": "2021-07-27T09:28:51.893740Z",
     "start_time": "2021-07-27T09:28:51.874792Z"
    }
   },
   "outputs": [
    {
     "data": {
      "text/plain": [
       "0    64.0\n",
       "1     4.0\n",
       "2    49.0\n",
       "3    25.0\n",
       "4    64.0\n",
       "5     1.0\n",
       "6    16.0\n",
       "7    25.0\n",
       "8     0.0\n",
       "9    16.0\n",
       "dtype: float64"
      ]
     },
     "execution_count": 70,
     "metadata": {},
     "output_type": "execute_result"
    }
   ],
   "source": [
    "d2"
   ]
  },
  {
   "cell_type": "code",
   "execution_count": 65,
   "metadata": {
    "ExecuteTime": {
     "end_time": "2021-07-27T09:26:02.466368Z",
     "start_time": "2021-07-27T09:26:02.451410Z"
    }
   },
   "outputs": [],
   "source": [
    "d2 = (df_ranked['Distance_from_times_square']-df_ranked['Food_price_$'])**2"
   ]
  },
  {
   "cell_type": "code",
   "execution_count": 67,
   "metadata": {
    "ExecuteTime": {
     "end_time": "2021-07-27T09:27:01.178920Z",
     "start_time": "2021-07-27T09:27:01.170941Z"
    }
   },
   "outputs": [],
   "source": [
    "n = len(df_ranked)"
   ]
  },
  {
   "cell_type": "code",
   "execution_count": 69,
   "metadata": {
    "ExecuteTime": {
     "end_time": "2021-07-27T09:28:03.170166Z",
     "start_time": "2021-07-27T09:28:03.153213Z"
    }
   },
   "outputs": [
    {
     "data": {
      "text/plain": [
       "-0.6000000000000001"
      ]
     },
     "execution_count": 69,
     "metadata": {},
     "output_type": "execute_result"
    }
   ],
   "source": [
    "1-((6*sum(d2))/(n*(n**2-1)))"
   ]
  },
  {
   "cell_type": "code",
   "execution_count": 72,
   "metadata": {
    "ExecuteTime": {
     "end_time": "2021-07-27T09:30:06.859716Z",
     "start_time": "2021-07-27T09:30:06.840767Z"
    }
   },
   "outputs": [
    {
     "data": {
      "text/html": [
       "<div>\n",
       "<style scoped>\n",
       "    .dataframe tbody tr th:only-of-type {\n",
       "        vertical-align: middle;\n",
       "    }\n",
       "\n",
       "    .dataframe tbody tr th {\n",
       "        vertical-align: top;\n",
       "    }\n",
       "\n",
       "    .dataframe thead th {\n",
       "        text-align: right;\n",
       "    }\n",
       "</style>\n",
       "<table border=\"1\" class=\"dataframe\">\n",
       "  <thead>\n",
       "    <tr style=\"text-align: right;\">\n",
       "      <th></th>\n",
       "      <th>Distance_from_times_square</th>\n",
       "      <th>Food_price_$</th>\n",
       "    </tr>\n",
       "  </thead>\n",
       "  <tbody>\n",
       "    <tr>\n",
       "      <th>Distance_from_times_square</th>\n",
       "      <td>1.0</td>\n",
       "      <td>-0.6</td>\n",
       "    </tr>\n",
       "    <tr>\n",
       "      <th>Food_price_$</th>\n",
       "      <td>-0.6</td>\n",
       "      <td>1.0</td>\n",
       "    </tr>\n",
       "  </tbody>\n",
       "</table>\n",
       "</div>"
      ],
      "text/plain": [
       "                            Distance_from_times_square  Food_price_$\n",
       "Distance_from_times_square                         1.0          -0.6\n",
       "Food_price_$                                      -0.6           1.0"
      ]
     },
     "execution_count": 72,
     "metadata": {},
     "output_type": "execute_result"
    }
   ],
   "source": [
    "df_ranked.corr()"
   ]
  },
  {
   "cell_type": "code",
   "execution_count": 71,
   "metadata": {
    "ExecuteTime": {
     "end_time": "2021-07-27T09:29:35.280629Z",
     "start_time": "2021-07-27T09:29:35.249715Z"
    }
   },
   "outputs": [
    {
     "data": {
      "text/html": [
       "<div>\n",
       "<style scoped>\n",
       "    .dataframe tbody tr th:only-of-type {\n",
       "        vertical-align: middle;\n",
       "    }\n",
       "\n",
       "    .dataframe tbody tr th {\n",
       "        vertical-align: top;\n",
       "    }\n",
       "\n",
       "    .dataframe thead th {\n",
       "        text-align: right;\n",
       "    }\n",
       "</style>\n",
       "<table border=\"1\" class=\"dataframe\">\n",
       "  <thead>\n",
       "    <tr style=\"text-align: right;\">\n",
       "      <th></th>\n",
       "      <th>Distance_from_times_square</th>\n",
       "      <th>Food_price_$</th>\n",
       "    </tr>\n",
       "  </thead>\n",
       "  <tbody>\n",
       "    <tr>\n",
       "      <th>Distance_from_times_square</th>\n",
       "      <td>1.0</td>\n",
       "      <td>-0.6</td>\n",
       "    </tr>\n",
       "    <tr>\n",
       "      <th>Food_price_$</th>\n",
       "      <td>-0.6</td>\n",
       "      <td>1.0</td>\n",
       "    </tr>\n",
       "  </tbody>\n",
       "</table>\n",
       "</div>"
      ],
      "text/plain": [
       "                            Distance_from_times_square  Food_price_$\n",
       "Distance_from_times_square                         1.0          -0.6\n",
       "Food_price_$                                      -0.6           1.0"
      ]
     },
     "execution_count": 71,
     "metadata": {},
     "output_type": "execute_result"
    }
   ],
   "source": [
    "df.corr(method='spearman')"
   ]
  },
  {
   "cell_type": "markdown",
   "metadata": {
    "id": "T88O5S3jq_Tv"
   },
   "source": [
    "#### Manually calculate the Spearman Corellation between the two variables. Compare your results to those a function yields"
   ]
  },
  {
   "cell_type": "code",
   "execution_count": null,
   "metadata": {},
   "outputs": [],
   "source": []
  },
  {
   "cell_type": "code",
   "execution_count": null,
   "metadata": {
    "id": "iXHCSGw5q_Tv"
   },
   "outputs": [],
   "source": [
    "# your code here"
   ]
  }
 ],
 "metadata": {
  "colab": {
   "collapsed_sections": [],
   "name": "# Metrics - Class exercise - for students.ipynb",
   "provenance": []
  },
  "kernelspec": {
   "display_name": "Python 3",
   "language": "python",
   "name": "python3"
  },
  "language_info": {
   "codemirror_mode": {
    "name": "ipython",
    "version": 3
   },
   "file_extension": ".py",
   "mimetype": "text/x-python",
   "name": "python",
   "nbconvert_exporter": "python",
   "pygments_lexer": "ipython3",
   "version": "3.7.4"
  },
  "latex_envs": {
   "LaTeX_envs_menu_present": true,
   "autoclose": false,
   "autocomplete": true,
   "bibliofile": "biblio.bib",
   "cite_by": "apalike",
   "current_citInitial": 1,
   "eqLabelWithNumbers": true,
   "eqNumInitial": 1,
   "hotkeys": {
    "equation": "Ctrl-E",
    "itemize": "Ctrl-I"
   },
   "labels_anchors": false,
   "latex_user_defs": false,
   "report_style_numbering": false,
   "user_envs_cfg": false
  },
  "toc": {
   "base_numbering": 1,
   "nav_menu": {},
   "number_sections": true,
   "sideBar": true,
   "skip_h1_title": false,
   "title_cell": "Table of Contents",
   "title_sidebar": "Contents",
   "toc_cell": false,
   "toc_position": {},
   "toc_section_display": true,
   "toc_window_display": false
  },
  "varInspector": {
   "cols": {
    "lenName": 16,
    "lenType": 16,
    "lenVar": 40
   },
   "kernels_config": {
    "python": {
     "delete_cmd_postfix": "",
     "delete_cmd_prefix": "del ",
     "library": "var_list.py",
     "varRefreshCmd": "print(var_dic_list())"
    },
    "r": {
     "delete_cmd_postfix": ") ",
     "delete_cmd_prefix": "rm(",
     "library": "var_list.r",
     "varRefreshCmd": "cat(var_dic_list()) "
    }
   },
   "types_to_exclude": [
    "module",
    "function",
    "builtin_function_or_method",
    "instance",
    "_Feature"
   ],
   "window_display": false
  }
 },
 "nbformat": 4,
 "nbformat_minor": 1
}
